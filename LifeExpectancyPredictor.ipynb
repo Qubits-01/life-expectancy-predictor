{
  "nbformat": 4,
  "nbformat_minor": 0,
  "metadata": {
    "colab": {
      "name": "LifeExpectancyPredictor.ipynb",
      "provenance": [],
      "toc_visible": true,
      "collapsed_sections": [],
      "authorship_tag": "ABX9TyMIJZbaX43I5kM3tlg596bP",
      "include_colab_link": true
    },
    "kernelspec": {
      "name": "python3",
      "display_name": "Python 3"
    },
    "language_info": {
      "name": "python"
    }
  },
  "cells": [
    {
      "cell_type": "markdown",
      "metadata": {
        "id": "view-in-github",
        "colab_type": "text"
      },
      "source": [
        "<a href=\"https://colab.research.google.com/github/Qubits-01/life-expectancy-predictor/blob/main/LifeExpectancyPredictor.ipynb\" target=\"_parent\"><img src=\"https://colab.research.google.com/assets/colab-badge.svg\" alt=\"Open In Colab\"/></a>"
      ]
    },
    {
      "cell_type": "markdown",
      "source": [
        "# Project Report"
      ],
      "metadata": {
        "id": "s8VO0vy97Tb7"
      }
    },
    {
      "cell_type": "markdown",
      "source": [
        "## Data Source"
      ],
      "metadata": {
        "id": "tmdUnEl69Idb"
      }
    },
    {
      "cell_type": "markdown",
      "source": [
        "## Data Processing"
      ],
      "metadata": {
        "id": "NvkAiuh78S8b"
      }
    },
    {
      "cell_type": "markdown",
      "source": [
        "## Exploratory Data Analysis (EDA) / Plots"
      ],
      "metadata": {
        "id": "6_6mkH3F8sZt"
      }
    },
    {
      "cell_type": "markdown",
      "source": [
        "## Modelling"
      ],
      "metadata": {
        "id": "ZtcEHyFm82GS"
      }
    },
    {
      "cell_type": "markdown",
      "source": [
        "# Reminders"
      ],
      "metadata": {
        "id": "CfPgsBf69Zca"
      }
    },
    {
      "cell_type": "markdown",
      "source": [
        "\n",
        "\n",
        "1.   Code / Scripts can be found throughout the \"Project Report\" section (whenever it is relevant).\n",
        "\n"
      ],
      "metadata": {
        "id": "_qKqSRv-9hMy"
      }
    },
    {
      "cell_type": "code",
      "source": [
        ""
      ],
      "metadata": {
        "id": "w9yz8h1m9gcO"
      },
      "execution_count": null,
      "outputs": []
    }
  ]
}