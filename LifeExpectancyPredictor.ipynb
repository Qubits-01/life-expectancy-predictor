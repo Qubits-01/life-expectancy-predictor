{
  "cells": [
    {
      "cell_type": "markdown",
      "metadata": {
        "id": "view-in-github",
        "colab_type": "text"
      },
      "source": [
        "<a href=\"https://colab.research.google.com/github/Qubits-01/life-expectancy-predictor/blob/main/LifeExpectancyPredictor.ipynb\" target=\"_parent\"><img src=\"https://colab.research.google.com/assets/colab-badge.svg\" alt=\"Open In Colab\"/></a>"
      ]
    },
    {
      "cell_type": "markdown",
      "metadata": {
        "id": "CfPgsBf69Zca"
      },
      "source": [
        "# Reminders"
      ]
    },
    {
      "cell_type": "code",
      "source": [
        "# from google.colab import drive\n",
        "# drive.mount('/content/drive')"
      ],
      "metadata": {
        "id": "-FRjVsZ4jG2p"
      },
      "execution_count": 1,
      "outputs": []
    },
    {
      "cell_type": "markdown",
      "metadata": {
        "id": "_qKqSRv-9hMy"
      },
      "source": [
        "\n",
        "\n",
        "1.   Code / Scripts can be found throughout the \"Project Report\" section (whenever it is relevant).\n",
        "2. The group's machine problem declaration: https://docs.google.com/document/d/11eekdw53bXDt65uAgcs3cxdTmDoEYiDglljvJVL3JSI/edit?usp=sharing (Google Docs).\n",
        "3. \"Per Capita GDP\" will now\n",
        "\n"
      ]
    },
    {
      "cell_type": "markdown",
      "metadata": {
        "id": "s8VO0vy97Tb7"
      },
      "source": [
        "# Project Report"
      ]
    },
    {
      "cell_type": "markdown",
      "metadata": {
        "id": "tmdUnEl69Idb"
      },
      "source": [
        "\n",
        "\n",
        "## Data Source"
      ]
    },
    {
      "cell_type": "markdown",
      "metadata": {
        "id": "I-YgXUzBIO9I"
      },
      "source": [
        "\n",
        "\n",
        "*   National Footprint and Biocapacity Accounts 2022 Public Data Package\n",
        "    * A FREE public data set (can be downloader through this link: https://www.footprintnetwork.org/licenses/public-data-package-free/).\n",
        "    * It can also be found through this Google Drive link: https://docs.google.com/spreadsheets/d/1vQQIJduzBBeI7ZK0EozkZDL1NYA68R3q/edit?usp=sharing&ouid=100598380952794244347&rtpof=true&sd=true.\n",
        "    * In this project: can be found at the \"raw_data\" folder.\n",
        "    * File name: \"(main) NFA-2022-Public-Data-Package-1.1.xlsx\"\n",
        "    * TAKE NOTE: the data is from year 2018, it was just released/collated in the year 2022 (i.e., 2022 edition).\n",
        "\n",
        "\n"
      ]
    },
    {
      "cell_type": "markdown",
      "metadata": {
        "id": "NvkAiuh78S8b"
      },
      "source": [
        "## Data Processing"
      ]
    },
    {
      "cell_type": "markdown",
      "metadata": {
        "id": "L3oMMj-9LyvY"
      },
      "source": [
        "### Preliminaries"
      ]
    },
    {
      "cell_type": "markdown",
      "metadata": {
        "id": "ijMRIupWL989"
      },
      "source": [
        "The \"main\" raw data (\"(main) NFA-2022-Public-Data-Package-1.1.xlsx\") is a complicated Excel file with many tabs/sheets, complex formulas, formats, merge cells, and sheet designs (as can be seen by the image below).\n",
        "\n",
        "[Sample Screenshot of The Complicated Excel File](https://drive.google.com/file/d/1zOcgJd5Zao84TMOLrJphgdqbL2SjnDQg/view?usp=sharing)\n",
        "<a href=\"https://drive.google.com/uc?export=view&id=1zOcgJd5Zao84TMOLrJphgdqbL2SjnDQg\"><img src=\"https://drive.google.com/uc?export=view&id=1zOcgJd5Zao84TMOLrJphgdqbL2SjnDQg\" style=\"width: 650px; max-width: 100%; height: auto\" title=\"Click to enlarge picture\" />"
      ]
    },
    {
      "cell_type": "markdown",
      "metadata": {
        "id": "oxlPbrm0P6sa"
      },
      "source": [
        "Therefore, the group decided to create another \"simplified\" Excel file that contains only the relevant table data in the \"Country Results 2022 Ed (2018)\" sheet of the original Excel file (\"(main) NFA-2022-Public-Data-Package-1.1.xlsx\")."
      ]
    },
    {
      "cell_type": "markdown",
      "metadata": {
        "id": "rmRtkGQKRX4e"
      },
      "source": [
        "The file name of the new simplified Excel file is \"(simplified) NFA-2022-Public-Data-Package-1.1.xlsx\" which can be found through this link: https://docs.google.com/spreadsheets/d/1vRtDaluj-57xHeWot7zH9SDiYSylAKyM/edit?usp=sharing&ouid=100598380952794244347&rtpof=true&sd=true or at the \"raw_data\" folder of this project."
      ]
    },
    {
      "cell_type": "markdown",
      "metadata": {
        "id": "6Vk04VqOS34i"
      },
      "source": [
        "[Sample Screenshot of The Simplified Excel File](https://drive.google.com/file/d/1zS8gCcinlODgBBkAOBf41U_jHgtcZwc8/view?usp=sharing)\n",
        "<a href=\"https://drive.google.com/uc?export=view&id=1zS8gCcinlODgBBkAOBf41U_jHgtcZwc8\"><img src=\"https://drive.google.com/uc?export=view&id=1zS8gCcinlODgBBkAOBf41U_jHgtcZwc8\" style=\"width: 650px; max-width: 100%; height: auto\" title=\"Click to enlarge picture\" />"
      ]
    },
    {
      "cell_type": "markdown",
      "metadata": {
        "id": "VjWljVZsTgm9"
      },
      "source": [
        "From now on moving forward, the file named \"(simplified) NFA-2022-Public-Data-Package-1.1.xlsx\" will serve as the \"raw\" data of this project."
      ]
    },
    {
      "cell_type": "markdown",
      "metadata": {
        "id": "RwhtexprK3TX"
      },
      "source": [
        "### Raw Data"
      ]
    },
    {
      "cell_type": "markdown",
      "metadata": {
        "id": "BHZXxJzIUoOs"
      },
      "source": [
        "This just shows a sneak peek of the raw data."
      ]
    },
    {
      "cell_type": "code",
      "execution_count": 2,
      "metadata": {
        "colab": {
          "base_uri": "https://localhost:8080/",
          "height": 699
        },
        "id": "SsrKJBhIK-Vf",
        "outputId": "1f48b706-ff97-4a71-d3c7-4555dedde116"
      },
      "outputs": [
        {
          "output_type": "execute_result",
          "data": {
            "text/plain": [
              "               Country Data Quality  SDGi  Life Expectancy   HDI  \\\n",
              "0          Afghanistan           3A  53.9             64.0  0.51   \n",
              "1              Albania           3A  71.0             78.0  0.79   \n",
              "2              Algeria           3A  70.9             77.0  0.75   \n",
              "3               Angola           3A  50.3             61.0  0.58   \n",
              "4  Antigua and Barbuda           2B   NaN             77.0  0.77   \n",
              "5            Argentina           3A  72.8             77.0  0.84   \n",
              "6              Armenia           3A  71.8             75.0  0.77   \n",
              "7            Australia           3A  75.6             83.0  0.94   \n",
              "8              Austria           3A  82.1             82.0  0.92   \n",
              "9           Azerbaijan           3A  72.4             73.0  0.75   \n",
              "\n",
              "   Per Capita GDP                     Region Income Group  \\\n",
              "0           565.0   Middle East/Central Asia           LI   \n",
              "1          5046.0               Other Europe           UM   \n",
              "2          4760.0                     Africa           UM   \n",
              "3          3234.0                     Africa           LM   \n",
              "4         15135.0  Central America/Caribbean           HI   \n",
              "5         10076.0              South America           UM   \n",
              "6          4407.0   Middle East/Central Asia           LM   \n",
              "7         57032.0               Asia-Pacific           HI   \n",
              "8         49711.0                         EU           HI   \n",
              "9          5795.0   Middle East/Central Asia           UM   \n",
              "\n",
              "   Population (millions)  Cropland Footprint  ...  Cropland  Grazing land  \\\n",
              "0                   37.2                 0.1  ...       0.1           0.2   \n",
              "1                    2.9                 0.4  ...       0.4           0.2   \n",
              "2                   42.2                 0.2  ...       0.2           0.2   \n",
              "3                   30.8                 0.2  ...       0.2           0.9   \n",
              "4                    0.1                 NaN  ...       NaN           NaN   \n",
              "5                   44.4                 2.2  ...       2.2           1.7   \n",
              "6                    3.0                 0.2  ...       0.2           0.3   \n",
              "7                   24.9                 1.9  ...       1.9           4.6   \n",
              "8                    8.9                 0.5  ...       0.5           0.1   \n",
              "9                    9.9                 0.4  ...       0.4           0.2   \n",
              "\n",
              "   Forest land  Fishing ground  Built up land.2  Total biocapacity   \\\n",
              "0          0.0             0.0              0.0                 0.3   \n",
              "1          0.3             0.1              0.0                 1.0   \n",
              "2          0.0             0.0              0.0                 0.6   \n",
              "3          0.5             0.2              0.0                 1.8   \n",
              "4          NaN             NaN              NaN                 0.9   \n",
              "5          0.6             1.5              0.1                 6.2   \n",
              "6          0.1             0.0              0.0                 0.6   \n",
              "7          2.0             2.9              0.0                11.5   \n",
              "8          1.9             0.0              0.1                 2.7   \n",
              "9          0.1             0.0              0.1                 0.8   \n",
              "\n",
              "   Ecological (Deficit) or Reserve  Number of Earths required  \\\n",
              "0                             -0.3                        0.4   \n",
              "1                             -0.9                        1.2   \n",
              "2                             -1.8                        1.5   \n",
              "3                              1.0                        0.5   \n",
              "4                             -3.8                        2.9   \n",
              "5                              2.9                        2.1   \n",
              "6                             -1.3                        1.2   \n",
              "7                              4.4                        4.5   \n",
              "8                             -3.4                        3.8   \n",
              "9                             -1.3                        1.3   \n",
              "\n",
              "   Number of Countries required  actual \\nCountry Overshoot Day \\n2018  \n",
              "0                           2.0                                    NaT  \n",
              "1                           1.9                             2018-11-03  \n",
              "2                           4.1                             2018-09-04  \n",
              "3                           0.5                                    NaT  \n",
              "4                           5.4                             2018-05-05  \n",
              "5                           0.5                             2018-06-24  \n",
              "6                           3.1                             2018-10-31  \n",
              "7                           0.6                             2018-03-23  \n",
              "8                           2.3                             2018-04-06  \n",
              "9                           2.6                             2018-10-08  \n",
              "\n",
              "[10 rows x 33 columns]"
            ],
            "text/html": [
              "\n",
              "  <div id=\"df-a2ce67c0-7fbf-4ec4-9f69-56808d94f257\">\n",
              "    <div class=\"colab-df-container\">\n",
              "      <div>\n",
              "<style scoped>\n",
              "    .dataframe tbody tr th:only-of-type {\n",
              "        vertical-align: middle;\n",
              "    }\n",
              "\n",
              "    .dataframe tbody tr th {\n",
              "        vertical-align: top;\n",
              "    }\n",
              "\n",
              "    .dataframe thead th {\n",
              "        text-align: right;\n",
              "    }\n",
              "</style>\n",
              "<table border=\"1\" class=\"dataframe\">\n",
              "  <thead>\n",
              "    <tr style=\"text-align: right;\">\n",
              "      <th></th>\n",
              "      <th>Country</th>\n",
              "      <th>Data Quality</th>\n",
              "      <th>SDGi</th>\n",
              "      <th>Life Expectancy</th>\n",
              "      <th>HDI</th>\n",
              "      <th>Per Capita GDP</th>\n",
              "      <th>Region</th>\n",
              "      <th>Income Group</th>\n",
              "      <th>Population (millions)</th>\n",
              "      <th>Cropland Footprint</th>\n",
              "      <th>...</th>\n",
              "      <th>Cropland</th>\n",
              "      <th>Grazing land</th>\n",
              "      <th>Forest land</th>\n",
              "      <th>Fishing ground</th>\n",
              "      <th>Built up land.2</th>\n",
              "      <th>Total biocapacity</th>\n",
              "      <th>Ecological (Deficit) or Reserve</th>\n",
              "      <th>Number of Earths required</th>\n",
              "      <th>Number of Countries required</th>\n",
              "      <th>actual \\nCountry Overshoot Day \\n2018</th>\n",
              "    </tr>\n",
              "  </thead>\n",
              "  <tbody>\n",
              "    <tr>\n",
              "      <th>0</th>\n",
              "      <td>Afghanistan</td>\n",
              "      <td>3A</td>\n",
              "      <td>53.9</td>\n",
              "      <td>64.0</td>\n",
              "      <td>0.51</td>\n",
              "      <td>565.0</td>\n",
              "      <td>Middle East/Central Asia</td>\n",
              "      <td>LI</td>\n",
              "      <td>37.2</td>\n",
              "      <td>0.1</td>\n",
              "      <td>...</td>\n",
              "      <td>0.1</td>\n",
              "      <td>0.2</td>\n",
              "      <td>0.0</td>\n",
              "      <td>0.0</td>\n",
              "      <td>0.0</td>\n",
              "      <td>0.3</td>\n",
              "      <td>-0.3</td>\n",
              "      <td>0.4</td>\n",
              "      <td>2.0</td>\n",
              "      <td>NaT</td>\n",
              "    </tr>\n",
              "    <tr>\n",
              "      <th>1</th>\n",
              "      <td>Albania</td>\n",
              "      <td>3A</td>\n",
              "      <td>71.0</td>\n",
              "      <td>78.0</td>\n",
              "      <td>0.79</td>\n",
              "      <td>5046.0</td>\n",
              "      <td>Other Europe</td>\n",
              "      <td>UM</td>\n",
              "      <td>2.9</td>\n",
              "      <td>0.4</td>\n",
              "      <td>...</td>\n",
              "      <td>0.4</td>\n",
              "      <td>0.2</td>\n",
              "      <td>0.3</td>\n",
              "      <td>0.1</td>\n",
              "      <td>0.0</td>\n",
              "      <td>1.0</td>\n",
              "      <td>-0.9</td>\n",
              "      <td>1.2</td>\n",
              "      <td>1.9</td>\n",
              "      <td>2018-11-03</td>\n",
              "    </tr>\n",
              "    <tr>\n",
              "      <th>2</th>\n",
              "      <td>Algeria</td>\n",
              "      <td>3A</td>\n",
              "      <td>70.9</td>\n",
              "      <td>77.0</td>\n",
              "      <td>0.75</td>\n",
              "      <td>4760.0</td>\n",
              "      <td>Africa</td>\n",
              "      <td>UM</td>\n",
              "      <td>42.2</td>\n",
              "      <td>0.2</td>\n",
              "      <td>...</td>\n",
              "      <td>0.2</td>\n",
              "      <td>0.2</td>\n",
              "      <td>0.0</td>\n",
              "      <td>0.0</td>\n",
              "      <td>0.0</td>\n",
              "      <td>0.6</td>\n",
              "      <td>-1.8</td>\n",
              "      <td>1.5</td>\n",
              "      <td>4.1</td>\n",
              "      <td>2018-09-04</td>\n",
              "    </tr>\n",
              "    <tr>\n",
              "      <th>3</th>\n",
              "      <td>Angola</td>\n",
              "      <td>3A</td>\n",
              "      <td>50.3</td>\n",
              "      <td>61.0</td>\n",
              "      <td>0.58</td>\n",
              "      <td>3234.0</td>\n",
              "      <td>Africa</td>\n",
              "      <td>LM</td>\n",
              "      <td>30.8</td>\n",
              "      <td>0.2</td>\n",
              "      <td>...</td>\n",
              "      <td>0.2</td>\n",
              "      <td>0.9</td>\n",
              "      <td>0.5</td>\n",
              "      <td>0.2</td>\n",
              "      <td>0.0</td>\n",
              "      <td>1.8</td>\n",
              "      <td>1.0</td>\n",
              "      <td>0.5</td>\n",
              "      <td>0.5</td>\n",
              "      <td>NaT</td>\n",
              "    </tr>\n",
              "    <tr>\n",
              "      <th>4</th>\n",
              "      <td>Antigua and Barbuda</td>\n",
              "      <td>2B</td>\n",
              "      <td>NaN</td>\n",
              "      <td>77.0</td>\n",
              "      <td>0.77</td>\n",
              "      <td>15135.0</td>\n",
              "      <td>Central America/Caribbean</td>\n",
              "      <td>HI</td>\n",
              "      <td>0.1</td>\n",
              "      <td>NaN</td>\n",
              "      <td>...</td>\n",
              "      <td>NaN</td>\n",
              "      <td>NaN</td>\n",
              "      <td>NaN</td>\n",
              "      <td>NaN</td>\n",
              "      <td>NaN</td>\n",
              "      <td>0.9</td>\n",
              "      <td>-3.8</td>\n",
              "      <td>2.9</td>\n",
              "      <td>5.4</td>\n",
              "      <td>2018-05-05</td>\n",
              "    </tr>\n",
              "    <tr>\n",
              "      <th>5</th>\n",
              "      <td>Argentina</td>\n",
              "      <td>3A</td>\n",
              "      <td>72.8</td>\n",
              "      <td>77.0</td>\n",
              "      <td>0.84</td>\n",
              "      <td>10076.0</td>\n",
              "      <td>South America</td>\n",
              "      <td>UM</td>\n",
              "      <td>44.4</td>\n",
              "      <td>2.2</td>\n",
              "      <td>...</td>\n",
              "      <td>2.2</td>\n",
              "      <td>1.7</td>\n",
              "      <td>0.6</td>\n",
              "      <td>1.5</td>\n",
              "      <td>0.1</td>\n",
              "      <td>6.2</td>\n",
              "      <td>2.9</td>\n",
              "      <td>2.1</td>\n",
              "      <td>0.5</td>\n",
              "      <td>2018-06-24</td>\n",
              "    </tr>\n",
              "    <tr>\n",
              "      <th>6</th>\n",
              "      <td>Armenia</td>\n",
              "      <td>3A</td>\n",
              "      <td>71.8</td>\n",
              "      <td>75.0</td>\n",
              "      <td>0.77</td>\n",
              "      <td>4407.0</td>\n",
              "      <td>Middle East/Central Asia</td>\n",
              "      <td>LM</td>\n",
              "      <td>3.0</td>\n",
              "      <td>0.2</td>\n",
              "      <td>...</td>\n",
              "      <td>0.2</td>\n",
              "      <td>0.3</td>\n",
              "      <td>0.1</td>\n",
              "      <td>0.0</td>\n",
              "      <td>0.0</td>\n",
              "      <td>0.6</td>\n",
              "      <td>-1.3</td>\n",
              "      <td>1.2</td>\n",
              "      <td>3.1</td>\n",
              "      <td>2018-10-31</td>\n",
              "    </tr>\n",
              "    <tr>\n",
              "      <th>7</th>\n",
              "      <td>Australia</td>\n",
              "      <td>3A</td>\n",
              "      <td>75.6</td>\n",
              "      <td>83.0</td>\n",
              "      <td>0.94</td>\n",
              "      <td>57032.0</td>\n",
              "      <td>Asia-Pacific</td>\n",
              "      <td>HI</td>\n",
              "      <td>24.9</td>\n",
              "      <td>1.9</td>\n",
              "      <td>...</td>\n",
              "      <td>1.9</td>\n",
              "      <td>4.6</td>\n",
              "      <td>2.0</td>\n",
              "      <td>2.9</td>\n",
              "      <td>0.0</td>\n",
              "      <td>11.5</td>\n",
              "      <td>4.4</td>\n",
              "      <td>4.5</td>\n",
              "      <td>0.6</td>\n",
              "      <td>2018-03-23</td>\n",
              "    </tr>\n",
              "    <tr>\n",
              "      <th>8</th>\n",
              "      <td>Austria</td>\n",
              "      <td>3A</td>\n",
              "      <td>82.1</td>\n",
              "      <td>82.0</td>\n",
              "      <td>0.92</td>\n",
              "      <td>49711.0</td>\n",
              "      <td>EU</td>\n",
              "      <td>HI</td>\n",
              "      <td>8.9</td>\n",
              "      <td>0.5</td>\n",
              "      <td>...</td>\n",
              "      <td>0.5</td>\n",
              "      <td>0.1</td>\n",
              "      <td>1.9</td>\n",
              "      <td>0.0</td>\n",
              "      <td>0.1</td>\n",
              "      <td>2.7</td>\n",
              "      <td>-3.4</td>\n",
              "      <td>3.8</td>\n",
              "      <td>2.3</td>\n",
              "      <td>2018-04-06</td>\n",
              "    </tr>\n",
              "    <tr>\n",
              "      <th>9</th>\n",
              "      <td>Azerbaijan</td>\n",
              "      <td>3A</td>\n",
              "      <td>72.4</td>\n",
              "      <td>73.0</td>\n",
              "      <td>0.75</td>\n",
              "      <td>5795.0</td>\n",
              "      <td>Middle East/Central Asia</td>\n",
              "      <td>UM</td>\n",
              "      <td>9.9</td>\n",
              "      <td>0.4</td>\n",
              "      <td>...</td>\n",
              "      <td>0.4</td>\n",
              "      <td>0.2</td>\n",
              "      <td>0.1</td>\n",
              "      <td>0.0</td>\n",
              "      <td>0.1</td>\n",
              "      <td>0.8</td>\n",
              "      <td>-1.3</td>\n",
              "      <td>1.3</td>\n",
              "      <td>2.6</td>\n",
              "      <td>2018-10-08</td>\n",
              "    </tr>\n",
              "  </tbody>\n",
              "</table>\n",
              "<p>10 rows × 33 columns</p>\n",
              "</div>\n",
              "      <button class=\"colab-df-convert\" onclick=\"convertToInteractive('df-a2ce67c0-7fbf-4ec4-9f69-56808d94f257')\"\n",
              "              title=\"Convert this dataframe to an interactive table.\"\n",
              "              style=\"display:none;\">\n",
              "        \n",
              "  <svg xmlns=\"http://www.w3.org/2000/svg\" height=\"24px\"viewBox=\"0 0 24 24\"\n",
              "       width=\"24px\">\n",
              "    <path d=\"M0 0h24v24H0V0z\" fill=\"none\"/>\n",
              "    <path d=\"M18.56 5.44l.94 2.06.94-2.06 2.06-.94-2.06-.94-.94-2.06-.94 2.06-2.06.94zm-11 1L8.5 8.5l.94-2.06 2.06-.94-2.06-.94L8.5 2.5l-.94 2.06-2.06.94zm10 10l.94 2.06.94-2.06 2.06-.94-2.06-.94-.94-2.06-.94 2.06-2.06.94z\"/><path d=\"M17.41 7.96l-1.37-1.37c-.4-.4-.92-.59-1.43-.59-.52 0-1.04.2-1.43.59L10.3 9.45l-7.72 7.72c-.78.78-.78 2.05 0 2.83L4 21.41c.39.39.9.59 1.41.59.51 0 1.02-.2 1.41-.59l7.78-7.78 2.81-2.81c.8-.78.8-2.07 0-2.86zM5.41 20L4 18.59l7.72-7.72 1.47 1.35L5.41 20z\"/>\n",
              "  </svg>\n",
              "      </button>\n",
              "      \n",
              "  <style>\n",
              "    .colab-df-container {\n",
              "      display:flex;\n",
              "      flex-wrap:wrap;\n",
              "      gap: 12px;\n",
              "    }\n",
              "\n",
              "    .colab-df-convert {\n",
              "      background-color: #E8F0FE;\n",
              "      border: none;\n",
              "      border-radius: 50%;\n",
              "      cursor: pointer;\n",
              "      display: none;\n",
              "      fill: #1967D2;\n",
              "      height: 32px;\n",
              "      padding: 0 0 0 0;\n",
              "      width: 32px;\n",
              "    }\n",
              "\n",
              "    .colab-df-convert:hover {\n",
              "      background-color: #E2EBFA;\n",
              "      box-shadow: 0px 1px 2px rgba(60, 64, 67, 0.3), 0px 1px 3px 1px rgba(60, 64, 67, 0.15);\n",
              "      fill: #174EA6;\n",
              "    }\n",
              "\n",
              "    [theme=dark] .colab-df-convert {\n",
              "      background-color: #3B4455;\n",
              "      fill: #D2E3FC;\n",
              "    }\n",
              "\n",
              "    [theme=dark] .colab-df-convert:hover {\n",
              "      background-color: #434B5C;\n",
              "      box-shadow: 0px 1px 3px 1px rgba(0, 0, 0, 0.15);\n",
              "      filter: drop-shadow(0px 1px 2px rgba(0, 0, 0, 0.3));\n",
              "      fill: #FFFFFF;\n",
              "    }\n",
              "  </style>\n",
              "\n",
              "      <script>\n",
              "        const buttonEl =\n",
              "          document.querySelector('#df-a2ce67c0-7fbf-4ec4-9f69-56808d94f257 button.colab-df-convert');\n",
              "        buttonEl.style.display =\n",
              "          google.colab.kernel.accessAllowed ? 'block' : 'none';\n",
              "\n",
              "        async function convertToInteractive(key) {\n",
              "          const element = document.querySelector('#df-a2ce67c0-7fbf-4ec4-9f69-56808d94f257');\n",
              "          const dataTable =\n",
              "            await google.colab.kernel.invokeFunction('convertToInteractive',\n",
              "                                                     [key], {});\n",
              "          if (!dataTable) return;\n",
              "\n",
              "          const docLinkHtml = 'Like what you see? Visit the ' +\n",
              "            '<a target=\"_blank\" href=https://colab.research.google.com/notebooks/data_table.ipynb>data table notebook</a>'\n",
              "            + ' to learn more about interactive tables.';\n",
              "          element.innerHTML = '';\n",
              "          dataTable['output_type'] = 'display_data';\n",
              "          await google.colab.output.renderOutput(dataTable, element);\n",
              "          const docLink = document.createElement('div');\n",
              "          docLink.innerHTML = docLinkHtml;\n",
              "          element.appendChild(docLink);\n",
              "        }\n",
              "      </script>\n",
              "    </div>\n",
              "  </div>\n",
              "  "
            ]
          },
          "metadata": {},
          "execution_count": 2
        }
      ],
      "source": [
        "import pandas as pd\n",
        "\n",
        "raw_data = pd.read_excel('/content/raw_data/(simplified) NFA-2022-Public-Data-Package-1.1.xlsx')\n",
        "raw_data.head(10)"
      ]
    },
    {
      "cell_type": "markdown",
      "metadata": {
        "id": "9lvl5UUxVRk4"
      },
      "source": [
        "Notice that the raw data contains many columns (much of these are not needed and will be pruned-out in the following section/s)."
      ]
    },
    {
      "cell_type": "code",
      "execution_count": 3,
      "metadata": {
        "colab": {
          "base_uri": "https://localhost:8080/"
        },
        "id": "EIjrLf6vU0lq",
        "outputId": "c29299a5-09ee-4821-9423-197a5afd800c"
      },
      "outputs": [
        {
          "output_type": "execute_result",
          "data": {
            "text/plain": [
              "(184, 33)"
            ]
          },
          "metadata": {},
          "execution_count": 3
        }
      ],
      "source": [
        "raw_data.shape"
      ]
    },
    {
      "cell_type": "code",
      "execution_count": 4,
      "metadata": {
        "colab": {
          "base_uri": "https://localhost:8080/"
        },
        "id": "eVa-YV2hVEJj",
        "outputId": "cbc0699b-7d5e-4940-b09e-3a7c83db16f6"
      },
      "outputs": [
        {
          "output_type": "execute_result",
          "data": {
            "text/plain": [
              "Index(['Country', 'Data Quality', 'SDGi', 'Life Expectancy', 'HDI',\n",
              "       'Per Capita GDP', 'Region', 'Income Group', 'Population (millions)',\n",
              "       'Cropland Footprint', 'Grazing Footprint', 'Forest Product Footprint',\n",
              "       'Fish Footprint', 'Built up land', 'Carbon Footprint',\n",
              "       'Total Ecological Footprint (Production)', 'Cropland Footprint.1',\n",
              "       'Grazing Footprint.1', 'Forest Product Footprint.1', 'Fish Footprint.1',\n",
              "       'Built up land.1', 'Carbon Footprint.1',\n",
              "       'Total Ecological Footprint (Consumption)', 'Cropland', 'Grazing land',\n",
              "       'Forest land', 'Fishing ground', 'Built up land.2',\n",
              "       'Total biocapacity ', 'Ecological (Deficit) or Reserve',\n",
              "       'Number of Earths required', 'Number of Countries required',\n",
              "       'actual \\nCountry Overshoot Day \\n2018'],\n",
              "      dtype='object')"
            ]
          },
          "metadata": {},
          "execution_count": 4
        }
      ],
      "source": [
        "raw_data.columns"
      ]
    },
    {
      "cell_type": "markdown",
      "metadata": {
        "id": "wZ95SEwMXUVL"
      },
      "source": [
        "### Removing Unnecessary Columns"
      ]
    },
    {
      "cell_type": "markdown",
      "metadata": {
        "id": "D39P6zj5YRpR"
      },
      "source": [
        "According to the group's project problem statement (refer to the GDocs link above - in the \"Reminders\" section), we only need 3 main data points:\n",
        "   1. Life Expectancy of the specific country.\n",
        "   2. Per Capita GDP of the specific country.\n",
        "   3. Total Carbon Footprint of the specific country."
      ]
    },
    {
      "cell_type": "markdown",
      "metadata": {
        "id": "stHzXsReaPNr"
      },
      "source": [
        "The raw data has 4 columns that can satisfy the 3 main data points that this project needs. Namely,\n",
        "* \"Life Expectancy\"\n",
        "* \"Per Capita GDP\"\n",
        "* \"Carbon Footprint\"\n",
        "* \"Carbon Footprint.1\"\n",
        "\n",
        "\n",
        "\n"
      ]
    },
    {
      "cell_type": "code",
      "execution_count": 5,
      "metadata": {
        "colab": {
          "base_uri": "https://localhost:8080/",
          "height": 424
        },
        "id": "5d370Y7ReuoQ",
        "outputId": "1de18625-e59d-4293-8a99-4d47e8ca4977"
      },
      "outputs": [
        {
          "output_type": "execute_result",
          "data": {
            "text/plain": [
              "     Life Expectancy  Per Capita GDP  Carbon Footprint  Carbon Footprint.1\n",
              "0               64.0           565.0               0.1                 0.2\n",
              "1               78.0          5046.0               0.6                 0.9\n",
              "2               77.0          4760.0               1.2                 1.3\n",
              "3               61.0          3234.0               0.2                 0.2\n",
              "4               77.0         15135.0               NaN                 NaN\n",
              "..               ...             ...               ...                 ...\n",
              "179             72.0             NaN               1.4                 1.3\n",
              "180             75.0          1968.0               1.0                 1.1\n",
              "181             66.0           633.0               0.1                 0.2\n",
              "182              NaN          1678.0               0.2                 0.2\n",
              "183              NaN          1306.0               0.3                 0.4\n",
              "\n",
              "[184 rows x 4 columns]"
            ],
            "text/html": [
              "\n",
              "  <div id=\"df-c5fd06e5-e853-4cf6-85aa-c3f4027ea917\">\n",
              "    <div class=\"colab-df-container\">\n",
              "      <div>\n",
              "<style scoped>\n",
              "    .dataframe tbody tr th:only-of-type {\n",
              "        vertical-align: middle;\n",
              "    }\n",
              "\n",
              "    .dataframe tbody tr th {\n",
              "        vertical-align: top;\n",
              "    }\n",
              "\n",
              "    .dataframe thead th {\n",
              "        text-align: right;\n",
              "    }\n",
              "</style>\n",
              "<table border=\"1\" class=\"dataframe\">\n",
              "  <thead>\n",
              "    <tr style=\"text-align: right;\">\n",
              "      <th></th>\n",
              "      <th>Life Expectancy</th>\n",
              "      <th>Per Capita GDP</th>\n",
              "      <th>Carbon Footprint</th>\n",
              "      <th>Carbon Footprint.1</th>\n",
              "    </tr>\n",
              "  </thead>\n",
              "  <tbody>\n",
              "    <tr>\n",
              "      <th>0</th>\n",
              "      <td>64.0</td>\n",
              "      <td>565.0</td>\n",
              "      <td>0.1</td>\n",
              "      <td>0.2</td>\n",
              "    </tr>\n",
              "    <tr>\n",
              "      <th>1</th>\n",
              "      <td>78.0</td>\n",
              "      <td>5046.0</td>\n",
              "      <td>0.6</td>\n",
              "      <td>0.9</td>\n",
              "    </tr>\n",
              "    <tr>\n",
              "      <th>2</th>\n",
              "      <td>77.0</td>\n",
              "      <td>4760.0</td>\n",
              "      <td>1.2</td>\n",
              "      <td>1.3</td>\n",
              "    </tr>\n",
              "    <tr>\n",
              "      <th>3</th>\n",
              "      <td>61.0</td>\n",
              "      <td>3234.0</td>\n",
              "      <td>0.2</td>\n",
              "      <td>0.2</td>\n",
              "    </tr>\n",
              "    <tr>\n",
              "      <th>4</th>\n",
              "      <td>77.0</td>\n",
              "      <td>15135.0</td>\n",
              "      <td>NaN</td>\n",
              "      <td>NaN</td>\n",
              "    </tr>\n",
              "    <tr>\n",
              "      <th>...</th>\n",
              "      <td>...</td>\n",
              "      <td>...</td>\n",
              "      <td>...</td>\n",
              "      <td>...</td>\n",
              "    </tr>\n",
              "    <tr>\n",
              "      <th>179</th>\n",
              "      <td>72.0</td>\n",
              "      <td>NaN</td>\n",
              "      <td>1.4</td>\n",
              "      <td>1.3</td>\n",
              "    </tr>\n",
              "    <tr>\n",
              "      <th>180</th>\n",
              "      <td>75.0</td>\n",
              "      <td>1968.0</td>\n",
              "      <td>1.0</td>\n",
              "      <td>1.1</td>\n",
              "    </tr>\n",
              "    <tr>\n",
              "      <th>181</th>\n",
              "      <td>66.0</td>\n",
              "      <td>633.0</td>\n",
              "      <td>0.1</td>\n",
              "      <td>0.2</td>\n",
              "    </tr>\n",
              "    <tr>\n",
              "      <th>182</th>\n",
              "      <td>NaN</td>\n",
              "      <td>1678.0</td>\n",
              "      <td>0.2</td>\n",
              "      <td>0.2</td>\n",
              "    </tr>\n",
              "    <tr>\n",
              "      <th>183</th>\n",
              "      <td>NaN</td>\n",
              "      <td>1306.0</td>\n",
              "      <td>0.3</td>\n",
              "      <td>0.4</td>\n",
              "    </tr>\n",
              "  </tbody>\n",
              "</table>\n",
              "<p>184 rows × 4 columns</p>\n",
              "</div>\n",
              "      <button class=\"colab-df-convert\" onclick=\"convertToInteractive('df-c5fd06e5-e853-4cf6-85aa-c3f4027ea917')\"\n",
              "              title=\"Convert this dataframe to an interactive table.\"\n",
              "              style=\"display:none;\">\n",
              "        \n",
              "  <svg xmlns=\"http://www.w3.org/2000/svg\" height=\"24px\"viewBox=\"0 0 24 24\"\n",
              "       width=\"24px\">\n",
              "    <path d=\"M0 0h24v24H0V0z\" fill=\"none\"/>\n",
              "    <path d=\"M18.56 5.44l.94 2.06.94-2.06 2.06-.94-2.06-.94-.94-2.06-.94 2.06-2.06.94zm-11 1L8.5 8.5l.94-2.06 2.06-.94-2.06-.94L8.5 2.5l-.94 2.06-2.06.94zm10 10l.94 2.06.94-2.06 2.06-.94-2.06-.94-.94-2.06-.94 2.06-2.06.94z\"/><path d=\"M17.41 7.96l-1.37-1.37c-.4-.4-.92-.59-1.43-.59-.52 0-1.04.2-1.43.59L10.3 9.45l-7.72 7.72c-.78.78-.78 2.05 0 2.83L4 21.41c.39.39.9.59 1.41.59.51 0 1.02-.2 1.41-.59l7.78-7.78 2.81-2.81c.8-.78.8-2.07 0-2.86zM5.41 20L4 18.59l7.72-7.72 1.47 1.35L5.41 20z\"/>\n",
              "  </svg>\n",
              "      </button>\n",
              "      \n",
              "  <style>\n",
              "    .colab-df-container {\n",
              "      display:flex;\n",
              "      flex-wrap:wrap;\n",
              "      gap: 12px;\n",
              "    }\n",
              "\n",
              "    .colab-df-convert {\n",
              "      background-color: #E8F0FE;\n",
              "      border: none;\n",
              "      border-radius: 50%;\n",
              "      cursor: pointer;\n",
              "      display: none;\n",
              "      fill: #1967D2;\n",
              "      height: 32px;\n",
              "      padding: 0 0 0 0;\n",
              "      width: 32px;\n",
              "    }\n",
              "\n",
              "    .colab-df-convert:hover {\n",
              "      background-color: #E2EBFA;\n",
              "      box-shadow: 0px 1px 2px rgba(60, 64, 67, 0.3), 0px 1px 3px 1px rgba(60, 64, 67, 0.15);\n",
              "      fill: #174EA6;\n",
              "    }\n",
              "\n",
              "    [theme=dark] .colab-df-convert {\n",
              "      background-color: #3B4455;\n",
              "      fill: #D2E3FC;\n",
              "    }\n",
              "\n",
              "    [theme=dark] .colab-df-convert:hover {\n",
              "      background-color: #434B5C;\n",
              "      box-shadow: 0px 1px 3px 1px rgba(0, 0, 0, 0.15);\n",
              "      filter: drop-shadow(0px 1px 2px rgba(0, 0, 0, 0.3));\n",
              "      fill: #FFFFFF;\n",
              "    }\n",
              "  </style>\n",
              "\n",
              "      <script>\n",
              "        const buttonEl =\n",
              "          document.querySelector('#df-c5fd06e5-e853-4cf6-85aa-c3f4027ea917 button.colab-df-convert');\n",
              "        buttonEl.style.display =\n",
              "          google.colab.kernel.accessAllowed ? 'block' : 'none';\n",
              "\n",
              "        async function convertToInteractive(key) {\n",
              "          const element = document.querySelector('#df-c5fd06e5-e853-4cf6-85aa-c3f4027ea917');\n",
              "          const dataTable =\n",
              "            await google.colab.kernel.invokeFunction('convertToInteractive',\n",
              "                                                     [key], {});\n",
              "          if (!dataTable) return;\n",
              "\n",
              "          const docLinkHtml = 'Like what you see? Visit the ' +\n",
              "            '<a target=\"_blank\" href=https://colab.research.google.com/notebooks/data_table.ipynb>data table notebook</a>'\n",
              "            + ' to learn more about interactive tables.';\n",
              "          element.innerHTML = '';\n",
              "          dataTable['output_type'] = 'display_data';\n",
              "          await google.colab.output.renderOutput(dataTable, element);\n",
              "          const docLink = document.createElement('div');\n",
              "          docLink.innerHTML = docLinkHtml;\n",
              "          element.appendChild(docLink);\n",
              "        }\n",
              "      </script>\n",
              "    </div>\n",
              "  </div>\n",
              "  "
            ]
          },
          "metadata": {},
          "execution_count": 5
        }
      ],
      "source": [
        "raw_data[['Life Expectancy', 'Per Capita GDP', 'Carbon Footprint', 'Carbon Footprint.1']]"
      ]
    },
    {
      "cell_type": "markdown",
      "metadata": {
        "id": "lztjzl24dupB"
      },
      "source": [
        "Before removing the unnecessary columns, here are a few notes first:\n",
        "* \"Carbon Footprint\" represents the ecological footprint of PRODUCTION (Refer to the \"Data Source\" section for verification).\n",
        "* \"Carbon Footprint.1\" represents the ecological footprint of CONSUMPTION (Refer to the \"Data Source\" section for verification).\n",
        "* The needed \"Total Carbon Footprint of the specific country\" main data point will be the sum of the corresponding \"Carbon Footprint\" and \"Carbon Footprint.1\" columns.\n",
        "* The group's problem statement states that \"Gross Domestic Product (GDP)\" (Economic performance of the WHOLE country) will be used instead of \"Per Capita GDP\" (A financial metric that breaks down a country's economic output PER PERSON and is calculated by dividing the GDP of a nation by its population).\n",
        "* Although, after careful consideration and research, the group found out that \"Per Capita GDP\" is a better metric for describing a country's performance (with respect to said country's citizens --> which ultimately relates to and affects their general life expectancy) [1].\n",
        "   * For example, China has a comparable large GDP, but due to its large population, the Per Capita GDP is lower compared to other countries that are relatively lower in terms of GDP (economic growth).\n",
        "   * This just shows that \"Per Capita GDP\" is a better metric compared to \"GDP\" (in this context) since we are evaluating the \"Life Expectancy\" of a country and the quality of living of each citizen (represented by \"Per Capita GD\") is a great factor for it.\n",
        "\n"
      ]
    },
    {
      "cell_type": "markdown",
      "metadata": {
        "id": "HBX3piMRlZsf"
      },
      "source": [
        "Creating a new variable \"tidy_data\" that only contains the columns named:\n",
        "* \"Life Expectancy\"\n",
        "* \"Per Capita GDP\"\n",
        "* \"Total Carbon Footprint\""
      ]
    },
    {
      "cell_type": "markdown",
      "metadata": {
        "id": "uzhZ24WJmRwu"
      },
      "source": [
        "The \"Life Expectancy\" and \"Per Capita GDP\" columns for the \"tidy_data\" will be coming directly from the \"Life Expectancy\" and \"Per Capita GDP\" columns of the \"raw_data\""
      ]
    },
    {
      "cell_type": "code",
      "execution_count": 6,
      "metadata": {
        "colab": {
          "base_uri": "https://localhost:8080/",
          "height": 206
        },
        "id": "viZiQ5NjlXhW",
        "outputId": "26cfd1ad-fa03-4713-bb85-71bc379e1c52"
      },
      "outputs": [
        {
          "output_type": "execute_result",
          "data": {
            "text/plain": [
              "   Life Expectancy  Per Capita GDP\n",
              "0             64.0           565.0\n",
              "1             78.0          5046.0\n",
              "2             77.0          4760.0\n",
              "3             61.0          3234.0\n",
              "4             77.0         15135.0"
            ],
            "text/html": [
              "\n",
              "  <div id=\"df-4dd2af67-4c2a-4b56-bf86-fcdb8769c9bd\">\n",
              "    <div class=\"colab-df-container\">\n",
              "      <div>\n",
              "<style scoped>\n",
              "    .dataframe tbody tr th:only-of-type {\n",
              "        vertical-align: middle;\n",
              "    }\n",
              "\n",
              "    .dataframe tbody tr th {\n",
              "        vertical-align: top;\n",
              "    }\n",
              "\n",
              "    .dataframe thead th {\n",
              "        text-align: right;\n",
              "    }\n",
              "</style>\n",
              "<table border=\"1\" class=\"dataframe\">\n",
              "  <thead>\n",
              "    <tr style=\"text-align: right;\">\n",
              "      <th></th>\n",
              "      <th>Life Expectancy</th>\n",
              "      <th>Per Capita GDP</th>\n",
              "    </tr>\n",
              "  </thead>\n",
              "  <tbody>\n",
              "    <tr>\n",
              "      <th>0</th>\n",
              "      <td>64.0</td>\n",
              "      <td>565.0</td>\n",
              "    </tr>\n",
              "    <tr>\n",
              "      <th>1</th>\n",
              "      <td>78.0</td>\n",
              "      <td>5046.0</td>\n",
              "    </tr>\n",
              "    <tr>\n",
              "      <th>2</th>\n",
              "      <td>77.0</td>\n",
              "      <td>4760.0</td>\n",
              "    </tr>\n",
              "    <tr>\n",
              "      <th>3</th>\n",
              "      <td>61.0</td>\n",
              "      <td>3234.0</td>\n",
              "    </tr>\n",
              "    <tr>\n",
              "      <th>4</th>\n",
              "      <td>77.0</td>\n",
              "      <td>15135.0</td>\n",
              "    </tr>\n",
              "  </tbody>\n",
              "</table>\n",
              "</div>\n",
              "      <button class=\"colab-df-convert\" onclick=\"convertToInteractive('df-4dd2af67-4c2a-4b56-bf86-fcdb8769c9bd')\"\n",
              "              title=\"Convert this dataframe to an interactive table.\"\n",
              "              style=\"display:none;\">\n",
              "        \n",
              "  <svg xmlns=\"http://www.w3.org/2000/svg\" height=\"24px\"viewBox=\"0 0 24 24\"\n",
              "       width=\"24px\">\n",
              "    <path d=\"M0 0h24v24H0V0z\" fill=\"none\"/>\n",
              "    <path d=\"M18.56 5.44l.94 2.06.94-2.06 2.06-.94-2.06-.94-.94-2.06-.94 2.06-2.06.94zm-11 1L8.5 8.5l.94-2.06 2.06-.94-2.06-.94L8.5 2.5l-.94 2.06-2.06.94zm10 10l.94 2.06.94-2.06 2.06-.94-2.06-.94-.94-2.06-.94 2.06-2.06.94z\"/><path d=\"M17.41 7.96l-1.37-1.37c-.4-.4-.92-.59-1.43-.59-.52 0-1.04.2-1.43.59L10.3 9.45l-7.72 7.72c-.78.78-.78 2.05 0 2.83L4 21.41c.39.39.9.59 1.41.59.51 0 1.02-.2 1.41-.59l7.78-7.78 2.81-2.81c.8-.78.8-2.07 0-2.86zM5.41 20L4 18.59l7.72-7.72 1.47 1.35L5.41 20z\"/>\n",
              "  </svg>\n",
              "      </button>\n",
              "      \n",
              "  <style>\n",
              "    .colab-df-container {\n",
              "      display:flex;\n",
              "      flex-wrap:wrap;\n",
              "      gap: 12px;\n",
              "    }\n",
              "\n",
              "    .colab-df-convert {\n",
              "      background-color: #E8F0FE;\n",
              "      border: none;\n",
              "      border-radius: 50%;\n",
              "      cursor: pointer;\n",
              "      display: none;\n",
              "      fill: #1967D2;\n",
              "      height: 32px;\n",
              "      padding: 0 0 0 0;\n",
              "      width: 32px;\n",
              "    }\n",
              "\n",
              "    .colab-df-convert:hover {\n",
              "      background-color: #E2EBFA;\n",
              "      box-shadow: 0px 1px 2px rgba(60, 64, 67, 0.3), 0px 1px 3px 1px rgba(60, 64, 67, 0.15);\n",
              "      fill: #174EA6;\n",
              "    }\n",
              "\n",
              "    [theme=dark] .colab-df-convert {\n",
              "      background-color: #3B4455;\n",
              "      fill: #D2E3FC;\n",
              "    }\n",
              "\n",
              "    [theme=dark] .colab-df-convert:hover {\n",
              "      background-color: #434B5C;\n",
              "      box-shadow: 0px 1px 3px 1px rgba(0, 0, 0, 0.15);\n",
              "      filter: drop-shadow(0px 1px 2px rgba(0, 0, 0, 0.3));\n",
              "      fill: #FFFFFF;\n",
              "    }\n",
              "  </style>\n",
              "\n",
              "      <script>\n",
              "        const buttonEl =\n",
              "          document.querySelector('#df-4dd2af67-4c2a-4b56-bf86-fcdb8769c9bd button.colab-df-convert');\n",
              "        buttonEl.style.display =\n",
              "          google.colab.kernel.accessAllowed ? 'block' : 'none';\n",
              "\n",
              "        async function convertToInteractive(key) {\n",
              "          const element = document.querySelector('#df-4dd2af67-4c2a-4b56-bf86-fcdb8769c9bd');\n",
              "          const dataTable =\n",
              "            await google.colab.kernel.invokeFunction('convertToInteractive',\n",
              "                                                     [key], {});\n",
              "          if (!dataTable) return;\n",
              "\n",
              "          const docLinkHtml = 'Like what you see? Visit the ' +\n",
              "            '<a target=\"_blank\" href=https://colab.research.google.com/notebooks/data_table.ipynb>data table notebook</a>'\n",
              "            + ' to learn more about interactive tables.';\n",
              "          element.innerHTML = '';\n",
              "          dataTable['output_type'] = 'display_data';\n",
              "          await google.colab.output.renderOutput(dataTable, element);\n",
              "          const docLink = document.createElement('div');\n",
              "          docLink.innerHTML = docLinkHtml;\n",
              "          element.appendChild(docLink);\n",
              "        }\n",
              "      </script>\n",
              "    </div>\n",
              "  </div>\n",
              "  "
            ]
          },
          "metadata": {},
          "execution_count": 6
        }
      ],
      "source": [
        "tidy_data = raw_data[['Life Expectancy', 'Per Capita GDP']]\n",
        "tidy_data.head()"
      ]
    },
    {
      "cell_type": "markdown",
      "metadata": {
        "id": "YeyGZLiKm272"
      },
      "source": [
        "The \"Total Carbon Footprint\" column for the \"tidy_data\" will be coming from the \"Carbon Footprint\" and \"Carbon Footprint.1\" columns of the \"raw_data\""
      ]
    },
    {
      "cell_type": "code",
      "execution_count": 7,
      "metadata": {
        "colab": {
          "base_uri": "https://localhost:8080/",
          "height": 310
        },
        "id": "WvTCgQ4-nYNA",
        "outputId": "bafcbdb8-9f7a-4944-9591-199c34206e2b"
      },
      "outputs": [
        {
          "output_type": "stream",
          "name": "stderr",
          "text": [
            "/usr/local/lib/python3.7/dist-packages/ipykernel_launcher.py:2: SettingWithCopyWarning: \n",
            "A value is trying to be set on a copy of a slice from a DataFrame.\n",
            "Try using .loc[row_indexer,col_indexer] = value instead\n",
            "\n",
            "See the caveats in the documentation: https://pandas.pydata.org/pandas-docs/stable/user_guide/indexing.html#returning-a-view-versus-a-copy\n",
            "  \n"
          ]
        },
        {
          "output_type": "execute_result",
          "data": {
            "text/plain": [
              "   Life Expectancy  Per Capita GDP  Total Carbon Footprint\n",
              "0             64.0           565.0                     0.3\n",
              "1             78.0          5046.0                     1.5\n",
              "2             77.0          4760.0                     2.5\n",
              "3             61.0          3234.0                     0.4\n",
              "4             77.0         15135.0                     0.0"
            ],
            "text/html": [
              "\n",
              "  <div id=\"df-cd051a7d-4a5e-40be-be8d-a3d8e4d560a2\">\n",
              "    <div class=\"colab-df-container\">\n",
              "      <div>\n",
              "<style scoped>\n",
              "    .dataframe tbody tr th:only-of-type {\n",
              "        vertical-align: middle;\n",
              "    }\n",
              "\n",
              "    .dataframe tbody tr th {\n",
              "        vertical-align: top;\n",
              "    }\n",
              "\n",
              "    .dataframe thead th {\n",
              "        text-align: right;\n",
              "    }\n",
              "</style>\n",
              "<table border=\"1\" class=\"dataframe\">\n",
              "  <thead>\n",
              "    <tr style=\"text-align: right;\">\n",
              "      <th></th>\n",
              "      <th>Life Expectancy</th>\n",
              "      <th>Per Capita GDP</th>\n",
              "      <th>Total Carbon Footprint</th>\n",
              "    </tr>\n",
              "  </thead>\n",
              "  <tbody>\n",
              "    <tr>\n",
              "      <th>0</th>\n",
              "      <td>64.0</td>\n",
              "      <td>565.0</td>\n",
              "      <td>0.3</td>\n",
              "    </tr>\n",
              "    <tr>\n",
              "      <th>1</th>\n",
              "      <td>78.0</td>\n",
              "      <td>5046.0</td>\n",
              "      <td>1.5</td>\n",
              "    </tr>\n",
              "    <tr>\n",
              "      <th>2</th>\n",
              "      <td>77.0</td>\n",
              "      <td>4760.0</td>\n",
              "      <td>2.5</td>\n",
              "    </tr>\n",
              "    <tr>\n",
              "      <th>3</th>\n",
              "      <td>61.0</td>\n",
              "      <td>3234.0</td>\n",
              "      <td>0.4</td>\n",
              "    </tr>\n",
              "    <tr>\n",
              "      <th>4</th>\n",
              "      <td>77.0</td>\n",
              "      <td>15135.0</td>\n",
              "      <td>0.0</td>\n",
              "    </tr>\n",
              "  </tbody>\n",
              "</table>\n",
              "</div>\n",
              "      <button class=\"colab-df-convert\" onclick=\"convertToInteractive('df-cd051a7d-4a5e-40be-be8d-a3d8e4d560a2')\"\n",
              "              title=\"Convert this dataframe to an interactive table.\"\n",
              "              style=\"display:none;\">\n",
              "        \n",
              "  <svg xmlns=\"http://www.w3.org/2000/svg\" height=\"24px\"viewBox=\"0 0 24 24\"\n",
              "       width=\"24px\">\n",
              "    <path d=\"M0 0h24v24H0V0z\" fill=\"none\"/>\n",
              "    <path d=\"M18.56 5.44l.94 2.06.94-2.06 2.06-.94-2.06-.94-.94-2.06-.94 2.06-2.06.94zm-11 1L8.5 8.5l.94-2.06 2.06-.94-2.06-.94L8.5 2.5l-.94 2.06-2.06.94zm10 10l.94 2.06.94-2.06 2.06-.94-2.06-.94-.94-2.06-.94 2.06-2.06.94z\"/><path d=\"M17.41 7.96l-1.37-1.37c-.4-.4-.92-.59-1.43-.59-.52 0-1.04.2-1.43.59L10.3 9.45l-7.72 7.72c-.78.78-.78 2.05 0 2.83L4 21.41c.39.39.9.59 1.41.59.51 0 1.02-.2 1.41-.59l7.78-7.78 2.81-2.81c.8-.78.8-2.07 0-2.86zM5.41 20L4 18.59l7.72-7.72 1.47 1.35L5.41 20z\"/>\n",
              "  </svg>\n",
              "      </button>\n",
              "      \n",
              "  <style>\n",
              "    .colab-df-container {\n",
              "      display:flex;\n",
              "      flex-wrap:wrap;\n",
              "      gap: 12px;\n",
              "    }\n",
              "\n",
              "    .colab-df-convert {\n",
              "      background-color: #E8F0FE;\n",
              "      border: none;\n",
              "      border-radius: 50%;\n",
              "      cursor: pointer;\n",
              "      display: none;\n",
              "      fill: #1967D2;\n",
              "      height: 32px;\n",
              "      padding: 0 0 0 0;\n",
              "      width: 32px;\n",
              "    }\n",
              "\n",
              "    .colab-df-convert:hover {\n",
              "      background-color: #E2EBFA;\n",
              "      box-shadow: 0px 1px 2px rgba(60, 64, 67, 0.3), 0px 1px 3px 1px rgba(60, 64, 67, 0.15);\n",
              "      fill: #174EA6;\n",
              "    }\n",
              "\n",
              "    [theme=dark] .colab-df-convert {\n",
              "      background-color: #3B4455;\n",
              "      fill: #D2E3FC;\n",
              "    }\n",
              "\n",
              "    [theme=dark] .colab-df-convert:hover {\n",
              "      background-color: #434B5C;\n",
              "      box-shadow: 0px 1px 3px 1px rgba(0, 0, 0, 0.15);\n",
              "      filter: drop-shadow(0px 1px 2px rgba(0, 0, 0, 0.3));\n",
              "      fill: #FFFFFF;\n",
              "    }\n",
              "  </style>\n",
              "\n",
              "      <script>\n",
              "        const buttonEl =\n",
              "          document.querySelector('#df-cd051a7d-4a5e-40be-be8d-a3d8e4d560a2 button.colab-df-convert');\n",
              "        buttonEl.style.display =\n",
              "          google.colab.kernel.accessAllowed ? 'block' : 'none';\n",
              "\n",
              "        async function convertToInteractive(key) {\n",
              "          const element = document.querySelector('#df-cd051a7d-4a5e-40be-be8d-a3d8e4d560a2');\n",
              "          const dataTable =\n",
              "            await google.colab.kernel.invokeFunction('convertToInteractive',\n",
              "                                                     [key], {});\n",
              "          if (!dataTable) return;\n",
              "\n",
              "          const docLinkHtml = 'Like what you see? Visit the ' +\n",
              "            '<a target=\"_blank\" href=https://colab.research.google.com/notebooks/data_table.ipynb>data table notebook</a>'\n",
              "            + ' to learn more about interactive tables.';\n",
              "          element.innerHTML = '';\n",
              "          dataTable['output_type'] = 'display_data';\n",
              "          await google.colab.output.renderOutput(dataTable, element);\n",
              "          const docLink = document.createElement('div');\n",
              "          docLink.innerHTML = docLinkHtml;\n",
              "          element.appendChild(docLink);\n",
              "        }\n",
              "      </script>\n",
              "    </div>\n",
              "  </div>\n",
              "  "
            ]
          },
          "metadata": {},
          "execution_count": 7
        }
      ],
      "source": [
        "# tidy_data['Total Carbon Footprint'] = raw_data['Carbon Footprint'] + raw_data['Carbon Footprint.1']\n",
        "tidy_data['Total Carbon Footprint'] = raw_data.loc[:, ['Carbon Footprint', 'Carbon Footprint.1']].sum(axis = 1)\n",
        "tidy_data.head()"
      ]
    },
    {
      "cell_type": "markdown",
      "metadata": {
        "id": "1nw9IqUro8sw"
      },
      "source": [
        "Hence, the \"tidy_data\" will now look like this (note: not yet the final \"tidy_data\"):"
      ]
    },
    {
      "cell_type": "code",
      "execution_count": 8,
      "metadata": {
        "colab": {
          "base_uri": "https://localhost:8080/",
          "height": 424
        },
        "id": "d4rkkK4SpHQp",
        "outputId": "79a1a2ec-0b46-43c5-8180-b4ab1d7add25"
      },
      "outputs": [
        {
          "output_type": "execute_result",
          "data": {
            "text/plain": [
              "     Life Expectancy  Per Capita GDP  Total Carbon Footprint\n",
              "0               64.0           565.0                     0.3\n",
              "1               78.0          5046.0                     1.5\n",
              "2               77.0          4760.0                     2.5\n",
              "3               61.0          3234.0                     0.4\n",
              "4               77.0         15135.0                     0.0\n",
              "..               ...             ...                     ...\n",
              "179             72.0             NaN                     2.7\n",
              "180             75.0          1968.0                     2.1\n",
              "181             66.0           633.0                     0.3\n",
              "182              NaN          1678.0                     0.4\n",
              "183              NaN          1306.0                     0.7\n",
              "\n",
              "[184 rows x 3 columns]"
            ],
            "text/html": [
              "\n",
              "  <div id=\"df-0c8503bf-2a7c-4e14-9008-440438001980\">\n",
              "    <div class=\"colab-df-container\">\n",
              "      <div>\n",
              "<style scoped>\n",
              "    .dataframe tbody tr th:only-of-type {\n",
              "        vertical-align: middle;\n",
              "    }\n",
              "\n",
              "    .dataframe tbody tr th {\n",
              "        vertical-align: top;\n",
              "    }\n",
              "\n",
              "    .dataframe thead th {\n",
              "        text-align: right;\n",
              "    }\n",
              "</style>\n",
              "<table border=\"1\" class=\"dataframe\">\n",
              "  <thead>\n",
              "    <tr style=\"text-align: right;\">\n",
              "      <th></th>\n",
              "      <th>Life Expectancy</th>\n",
              "      <th>Per Capita GDP</th>\n",
              "      <th>Total Carbon Footprint</th>\n",
              "    </tr>\n",
              "  </thead>\n",
              "  <tbody>\n",
              "    <tr>\n",
              "      <th>0</th>\n",
              "      <td>64.0</td>\n",
              "      <td>565.0</td>\n",
              "      <td>0.3</td>\n",
              "    </tr>\n",
              "    <tr>\n",
              "      <th>1</th>\n",
              "      <td>78.0</td>\n",
              "      <td>5046.0</td>\n",
              "      <td>1.5</td>\n",
              "    </tr>\n",
              "    <tr>\n",
              "      <th>2</th>\n",
              "      <td>77.0</td>\n",
              "      <td>4760.0</td>\n",
              "      <td>2.5</td>\n",
              "    </tr>\n",
              "    <tr>\n",
              "      <th>3</th>\n",
              "      <td>61.0</td>\n",
              "      <td>3234.0</td>\n",
              "      <td>0.4</td>\n",
              "    </tr>\n",
              "    <tr>\n",
              "      <th>4</th>\n",
              "      <td>77.0</td>\n",
              "      <td>15135.0</td>\n",
              "      <td>0.0</td>\n",
              "    </tr>\n",
              "    <tr>\n",
              "      <th>...</th>\n",
              "      <td>...</td>\n",
              "      <td>...</td>\n",
              "      <td>...</td>\n",
              "    </tr>\n",
              "    <tr>\n",
              "      <th>179</th>\n",
              "      <td>72.0</td>\n",
              "      <td>NaN</td>\n",
              "      <td>2.7</td>\n",
              "    </tr>\n",
              "    <tr>\n",
              "      <th>180</th>\n",
              "      <td>75.0</td>\n",
              "      <td>1968.0</td>\n",
              "      <td>2.1</td>\n",
              "    </tr>\n",
              "    <tr>\n",
              "      <th>181</th>\n",
              "      <td>66.0</td>\n",
              "      <td>633.0</td>\n",
              "      <td>0.3</td>\n",
              "    </tr>\n",
              "    <tr>\n",
              "      <th>182</th>\n",
              "      <td>NaN</td>\n",
              "      <td>1678.0</td>\n",
              "      <td>0.4</td>\n",
              "    </tr>\n",
              "    <tr>\n",
              "      <th>183</th>\n",
              "      <td>NaN</td>\n",
              "      <td>1306.0</td>\n",
              "      <td>0.7</td>\n",
              "    </tr>\n",
              "  </tbody>\n",
              "</table>\n",
              "<p>184 rows × 3 columns</p>\n",
              "</div>\n",
              "      <button class=\"colab-df-convert\" onclick=\"convertToInteractive('df-0c8503bf-2a7c-4e14-9008-440438001980')\"\n",
              "              title=\"Convert this dataframe to an interactive table.\"\n",
              "              style=\"display:none;\">\n",
              "        \n",
              "  <svg xmlns=\"http://www.w3.org/2000/svg\" height=\"24px\"viewBox=\"0 0 24 24\"\n",
              "       width=\"24px\">\n",
              "    <path d=\"M0 0h24v24H0V0z\" fill=\"none\"/>\n",
              "    <path d=\"M18.56 5.44l.94 2.06.94-2.06 2.06-.94-2.06-.94-.94-2.06-.94 2.06-2.06.94zm-11 1L8.5 8.5l.94-2.06 2.06-.94-2.06-.94L8.5 2.5l-.94 2.06-2.06.94zm10 10l.94 2.06.94-2.06 2.06-.94-2.06-.94-.94-2.06-.94 2.06-2.06.94z\"/><path d=\"M17.41 7.96l-1.37-1.37c-.4-.4-.92-.59-1.43-.59-.52 0-1.04.2-1.43.59L10.3 9.45l-7.72 7.72c-.78.78-.78 2.05 0 2.83L4 21.41c.39.39.9.59 1.41.59.51 0 1.02-.2 1.41-.59l7.78-7.78 2.81-2.81c.8-.78.8-2.07 0-2.86zM5.41 20L4 18.59l7.72-7.72 1.47 1.35L5.41 20z\"/>\n",
              "  </svg>\n",
              "      </button>\n",
              "      \n",
              "  <style>\n",
              "    .colab-df-container {\n",
              "      display:flex;\n",
              "      flex-wrap:wrap;\n",
              "      gap: 12px;\n",
              "    }\n",
              "\n",
              "    .colab-df-convert {\n",
              "      background-color: #E8F0FE;\n",
              "      border: none;\n",
              "      border-radius: 50%;\n",
              "      cursor: pointer;\n",
              "      display: none;\n",
              "      fill: #1967D2;\n",
              "      height: 32px;\n",
              "      padding: 0 0 0 0;\n",
              "      width: 32px;\n",
              "    }\n",
              "\n",
              "    .colab-df-convert:hover {\n",
              "      background-color: #E2EBFA;\n",
              "      box-shadow: 0px 1px 2px rgba(60, 64, 67, 0.3), 0px 1px 3px 1px rgba(60, 64, 67, 0.15);\n",
              "      fill: #174EA6;\n",
              "    }\n",
              "\n",
              "    [theme=dark] .colab-df-convert {\n",
              "      background-color: #3B4455;\n",
              "      fill: #D2E3FC;\n",
              "    }\n",
              "\n",
              "    [theme=dark] .colab-df-convert:hover {\n",
              "      background-color: #434B5C;\n",
              "      box-shadow: 0px 1px 3px 1px rgba(0, 0, 0, 0.15);\n",
              "      filter: drop-shadow(0px 1px 2px rgba(0, 0, 0, 0.3));\n",
              "      fill: #FFFFFF;\n",
              "    }\n",
              "  </style>\n",
              "\n",
              "      <script>\n",
              "        const buttonEl =\n",
              "          document.querySelector('#df-0c8503bf-2a7c-4e14-9008-440438001980 button.colab-df-convert');\n",
              "        buttonEl.style.display =\n",
              "          google.colab.kernel.accessAllowed ? 'block' : 'none';\n",
              "\n",
              "        async function convertToInteractive(key) {\n",
              "          const element = document.querySelector('#df-0c8503bf-2a7c-4e14-9008-440438001980');\n",
              "          const dataTable =\n",
              "            await google.colab.kernel.invokeFunction('convertToInteractive',\n",
              "                                                     [key], {});\n",
              "          if (!dataTable) return;\n",
              "\n",
              "          const docLinkHtml = 'Like what you see? Visit the ' +\n",
              "            '<a target=\"_blank\" href=https://colab.research.google.com/notebooks/data_table.ipynb>data table notebook</a>'\n",
              "            + ' to learn more about interactive tables.';\n",
              "          element.innerHTML = '';\n",
              "          dataTable['output_type'] = 'display_data';\n",
              "          await google.colab.output.renderOutput(dataTable, element);\n",
              "          const docLink = document.createElement('div');\n",
              "          docLink.innerHTML = docLinkHtml;\n",
              "          element.appendChild(docLink);\n",
              "        }\n",
              "      </script>\n",
              "    </div>\n",
              "  </div>\n",
              "  "
            ]
          },
          "metadata": {},
          "execution_count": 8
        }
      ],
      "source": [
        "tidy_data"
      ]
    },
    {
      "cell_type": "markdown",
      "metadata": {
        "id": "yDW2en-8rA5o"
      },
      "source": [
        "At this point, we can now define the following:\n",
        "* \"Life Expectancy\" is the **target variable**.\n",
        "* \"Per Capita GDP\" is a **feature**.\n",
        "* \"Total Carbon Footprint\" is a **feature**."
      ]
    },
    {
      "cell_type": "markdown",
      "metadata": {
        "id": "ZNpsOaSJXXsS"
      },
      "source": [
        "### Resolving N/A Values"
      ]
    },
    {
      "cell_type": "code",
      "execution_count": 9,
      "metadata": {
        "colab": {
          "base_uri": "https://localhost:8080/"
        },
        "id": "deRAqeQLr5Bf",
        "outputId": "26c68d1b-3d80-4820-95d0-accefc434680"
      },
      "outputs": [
        {
          "output_type": "execute_result",
          "data": {
            "text/plain": [
              "Life Expectancy           float64\n",
              "Per Capita GDP            float64\n",
              "Total Carbon Footprint    float64\n",
              "dtype: object"
            ]
          },
          "metadata": {},
          "execution_count": 9
        }
      ],
      "source": [
        "# Find the data type of each column. So that we will know if\n",
        "# what kind of data we will work with (e.g., in the case of possible imputation).\n",
        "tidy_data.dtypes"
      ]
    },
    {
      "cell_type": "code",
      "execution_count": 10,
      "metadata": {
        "colab": {
          "base_uri": "https://localhost:8080/"
        },
        "id": "-O8wcAKXsNbI",
        "outputId": "1c3a550a-5084-4c6e-8601-2b547d274a75"
      },
      "outputs": [
        {
          "output_type": "execute_result",
          "data": {
            "text/plain": [
              "Life Expectancy            8\n",
              "Per Capita GDP            12\n",
              "Total Carbon Footprint     0\n",
              "dtype: int64"
            ]
          },
          "metadata": {},
          "execution_count": 10
        }
      ],
      "source": [
        "# Find how many missing value/s does each column have.\n",
        "tidy_data.isna().sum()"
      ]
    },
    {
      "cell_type": "code",
      "execution_count": 11,
      "metadata": {
        "colab": {
          "base_uri": "https://localhost:8080/"
        },
        "id": "yqQcKUbjtAcV",
        "outputId": "f285e1a2-456c-4ad8-c011-f744fa4b683a"
      },
      "outputs": [
        {
          "output_type": "execute_result",
          "data": {
            "text/plain": [
              "(184, 3)"
            ]
          },
          "metadata": {},
          "execution_count": 11
        }
      ],
      "source": [
        "# The shape of \"tidy_data\" before removing the null values.\n",
        "tidy_data.shape"
      ]
    },
    {
      "cell_type": "code",
      "execution_count": 12,
      "metadata": {
        "id": "qVkkHjj9tOEi"
      },
      "outputs": [],
      "source": [
        "tidy_data = tidy_data.dropna()"
      ]
    },
    {
      "cell_type": "code",
      "execution_count": 13,
      "metadata": {
        "colab": {
          "base_uri": "https://localhost:8080/"
        },
        "id": "ytIcclcXtbTC",
        "outputId": "afb34903-f96b-48c8-b65d-cee17bfde76d"
      },
      "outputs": [
        {
          "output_type": "execute_result",
          "data": {
            "text/plain": [
              "(168, 3)"
            ]
          },
          "metadata": {},
          "execution_count": 13
        }
      ],
      "source": [
        "# The shape of \"tidy_data\" after removing the null values.\n",
        "tidy_data.shape"
      ]
    },
    {
      "cell_type": "code",
      "execution_count": 14,
      "metadata": {
        "colab": {
          "base_uri": "https://localhost:8080/",
          "height": 424
        },
        "id": "Yto4AAystlZ5",
        "outputId": "44938cd3-ed33-4967-c136-8ea989690aad"
      },
      "outputs": [
        {
          "output_type": "execute_result",
          "data": {
            "text/plain": [
              "     Life Expectancy  Per Capita GDP  Total Carbon Footprint\n",
              "0               64.0           565.0                     0.3\n",
              "1               78.0          5046.0                     1.5\n",
              "2               77.0          4760.0                     2.5\n",
              "3               61.0          3234.0                     0.4\n",
              "4               77.0         15135.0                     0.0\n",
              "..               ...             ...                     ...\n",
              "176             78.0         14618.0                     1.2\n",
              "177             72.0          2409.0                     2.5\n",
              "178             70.0          2865.0                     0.0\n",
              "180             75.0          1968.0                     2.1\n",
              "181             66.0           633.0                     0.3\n",
              "\n",
              "[168 rows x 3 columns]"
            ],
            "text/html": [
              "\n",
              "  <div id=\"df-ad8de5e3-5129-4b81-8f5f-2648253ab3ed\">\n",
              "    <div class=\"colab-df-container\">\n",
              "      <div>\n",
              "<style scoped>\n",
              "    .dataframe tbody tr th:only-of-type {\n",
              "        vertical-align: middle;\n",
              "    }\n",
              "\n",
              "    .dataframe tbody tr th {\n",
              "        vertical-align: top;\n",
              "    }\n",
              "\n",
              "    .dataframe thead th {\n",
              "        text-align: right;\n",
              "    }\n",
              "</style>\n",
              "<table border=\"1\" class=\"dataframe\">\n",
              "  <thead>\n",
              "    <tr style=\"text-align: right;\">\n",
              "      <th></th>\n",
              "      <th>Life Expectancy</th>\n",
              "      <th>Per Capita GDP</th>\n",
              "      <th>Total Carbon Footprint</th>\n",
              "    </tr>\n",
              "  </thead>\n",
              "  <tbody>\n",
              "    <tr>\n",
              "      <th>0</th>\n",
              "      <td>64.0</td>\n",
              "      <td>565.0</td>\n",
              "      <td>0.3</td>\n",
              "    </tr>\n",
              "    <tr>\n",
              "      <th>1</th>\n",
              "      <td>78.0</td>\n",
              "      <td>5046.0</td>\n",
              "      <td>1.5</td>\n",
              "    </tr>\n",
              "    <tr>\n",
              "      <th>2</th>\n",
              "      <td>77.0</td>\n",
              "      <td>4760.0</td>\n",
              "      <td>2.5</td>\n",
              "    </tr>\n",
              "    <tr>\n",
              "      <th>3</th>\n",
              "      <td>61.0</td>\n",
              "      <td>3234.0</td>\n",
              "      <td>0.4</td>\n",
              "    </tr>\n",
              "    <tr>\n",
              "      <th>4</th>\n",
              "      <td>77.0</td>\n",
              "      <td>15135.0</td>\n",
              "      <td>0.0</td>\n",
              "    </tr>\n",
              "    <tr>\n",
              "      <th>...</th>\n",
              "      <td>...</td>\n",
              "      <td>...</td>\n",
              "      <td>...</td>\n",
              "    </tr>\n",
              "    <tr>\n",
              "      <th>176</th>\n",
              "      <td>78.0</td>\n",
              "      <td>14618.0</td>\n",
              "      <td>1.2</td>\n",
              "    </tr>\n",
              "    <tr>\n",
              "      <th>177</th>\n",
              "      <td>72.0</td>\n",
              "      <td>2409.0</td>\n",
              "      <td>2.5</td>\n",
              "    </tr>\n",
              "    <tr>\n",
              "      <th>178</th>\n",
              "      <td>70.0</td>\n",
              "      <td>2865.0</td>\n",
              "      <td>0.0</td>\n",
              "    </tr>\n",
              "    <tr>\n",
              "      <th>180</th>\n",
              "      <td>75.0</td>\n",
              "      <td>1968.0</td>\n",
              "      <td>2.1</td>\n",
              "    </tr>\n",
              "    <tr>\n",
              "      <th>181</th>\n",
              "      <td>66.0</td>\n",
              "      <td>633.0</td>\n",
              "      <td>0.3</td>\n",
              "    </tr>\n",
              "  </tbody>\n",
              "</table>\n",
              "<p>168 rows × 3 columns</p>\n",
              "</div>\n",
              "      <button class=\"colab-df-convert\" onclick=\"convertToInteractive('df-ad8de5e3-5129-4b81-8f5f-2648253ab3ed')\"\n",
              "              title=\"Convert this dataframe to an interactive table.\"\n",
              "              style=\"display:none;\">\n",
              "        \n",
              "  <svg xmlns=\"http://www.w3.org/2000/svg\" height=\"24px\"viewBox=\"0 0 24 24\"\n",
              "       width=\"24px\">\n",
              "    <path d=\"M0 0h24v24H0V0z\" fill=\"none\"/>\n",
              "    <path d=\"M18.56 5.44l.94 2.06.94-2.06 2.06-.94-2.06-.94-.94-2.06-.94 2.06-2.06.94zm-11 1L8.5 8.5l.94-2.06 2.06-.94-2.06-.94L8.5 2.5l-.94 2.06-2.06.94zm10 10l.94 2.06.94-2.06 2.06-.94-2.06-.94-.94-2.06-.94 2.06-2.06.94z\"/><path d=\"M17.41 7.96l-1.37-1.37c-.4-.4-.92-.59-1.43-.59-.52 0-1.04.2-1.43.59L10.3 9.45l-7.72 7.72c-.78.78-.78 2.05 0 2.83L4 21.41c.39.39.9.59 1.41.59.51 0 1.02-.2 1.41-.59l7.78-7.78 2.81-2.81c.8-.78.8-2.07 0-2.86zM5.41 20L4 18.59l7.72-7.72 1.47 1.35L5.41 20z\"/>\n",
              "  </svg>\n",
              "      </button>\n",
              "      \n",
              "  <style>\n",
              "    .colab-df-container {\n",
              "      display:flex;\n",
              "      flex-wrap:wrap;\n",
              "      gap: 12px;\n",
              "    }\n",
              "\n",
              "    .colab-df-convert {\n",
              "      background-color: #E8F0FE;\n",
              "      border: none;\n",
              "      border-radius: 50%;\n",
              "      cursor: pointer;\n",
              "      display: none;\n",
              "      fill: #1967D2;\n",
              "      height: 32px;\n",
              "      padding: 0 0 0 0;\n",
              "      width: 32px;\n",
              "    }\n",
              "\n",
              "    .colab-df-convert:hover {\n",
              "      background-color: #E2EBFA;\n",
              "      box-shadow: 0px 1px 2px rgba(60, 64, 67, 0.3), 0px 1px 3px 1px rgba(60, 64, 67, 0.15);\n",
              "      fill: #174EA6;\n",
              "    }\n",
              "\n",
              "    [theme=dark] .colab-df-convert {\n",
              "      background-color: #3B4455;\n",
              "      fill: #D2E3FC;\n",
              "    }\n",
              "\n",
              "    [theme=dark] .colab-df-convert:hover {\n",
              "      background-color: #434B5C;\n",
              "      box-shadow: 0px 1px 3px 1px rgba(0, 0, 0, 0.15);\n",
              "      filter: drop-shadow(0px 1px 2px rgba(0, 0, 0, 0.3));\n",
              "      fill: #FFFFFF;\n",
              "    }\n",
              "  </style>\n",
              "\n",
              "      <script>\n",
              "        const buttonEl =\n",
              "          document.querySelector('#df-ad8de5e3-5129-4b81-8f5f-2648253ab3ed button.colab-df-convert');\n",
              "        buttonEl.style.display =\n",
              "          google.colab.kernel.accessAllowed ? 'block' : 'none';\n",
              "\n",
              "        async function convertToInteractive(key) {\n",
              "          const element = document.querySelector('#df-ad8de5e3-5129-4b81-8f5f-2648253ab3ed');\n",
              "          const dataTable =\n",
              "            await google.colab.kernel.invokeFunction('convertToInteractive',\n",
              "                                                     [key], {});\n",
              "          if (!dataTable) return;\n",
              "\n",
              "          const docLinkHtml = 'Like what you see? Visit the ' +\n",
              "            '<a target=\"_blank\" href=https://colab.research.google.com/notebooks/data_table.ipynb>data table notebook</a>'\n",
              "            + ' to learn more about interactive tables.';\n",
              "          element.innerHTML = '';\n",
              "          dataTable['output_type'] = 'display_data';\n",
              "          await google.colab.output.renderOutput(dataTable, element);\n",
              "          const docLink = document.createElement('div');\n",
              "          docLink.innerHTML = docLinkHtml;\n",
              "          element.appendChild(docLink);\n",
              "        }\n",
              "      </script>\n",
              "    </div>\n",
              "  </div>\n",
              "  "
            ]
          },
          "metadata": {},
          "execution_count": 14
        }
      ],
      "source": [
        "# Sneek peek of the \"tidy_data\"\n",
        "tidy_data"
      ]
    },
    {
      "cell_type": "code",
      "execution_count": 15,
      "metadata": {
        "colab": {
          "base_uri": "https://localhost:8080/",
          "height": 424
        },
        "id": "AmI7tsHYuBFk",
        "outputId": "66364128-9d7d-4cc1-c6ab-6c879e6a40ee"
      },
      "outputs": [
        {
          "output_type": "execute_result",
          "data": {
            "text/plain": [
              "     Life Expectancy  Per Capita GDP  Total Carbon Footprint\n",
              "0               64.0           565.0                     0.3\n",
              "1               78.0          5046.0                     1.5\n",
              "2               77.0          4760.0                     2.5\n",
              "3               61.0          3234.0                     0.4\n",
              "4               77.0         15135.0                     0.0\n",
              "..               ...             ...                     ...\n",
              "163             78.0         14618.0                     1.2\n",
              "164             72.0          2409.0                     2.5\n",
              "165             70.0          2865.0                     0.0\n",
              "166             75.0          1968.0                     2.1\n",
              "167             66.0           633.0                     0.3\n",
              "\n",
              "[168 rows x 3 columns]"
            ],
            "text/html": [
              "\n",
              "  <div id=\"df-c3adf593-4e3e-4b01-a8f7-11772101506c\">\n",
              "    <div class=\"colab-df-container\">\n",
              "      <div>\n",
              "<style scoped>\n",
              "    .dataframe tbody tr th:only-of-type {\n",
              "        vertical-align: middle;\n",
              "    }\n",
              "\n",
              "    .dataframe tbody tr th {\n",
              "        vertical-align: top;\n",
              "    }\n",
              "\n",
              "    .dataframe thead th {\n",
              "        text-align: right;\n",
              "    }\n",
              "</style>\n",
              "<table border=\"1\" class=\"dataframe\">\n",
              "  <thead>\n",
              "    <tr style=\"text-align: right;\">\n",
              "      <th></th>\n",
              "      <th>Life Expectancy</th>\n",
              "      <th>Per Capita GDP</th>\n",
              "      <th>Total Carbon Footprint</th>\n",
              "    </tr>\n",
              "  </thead>\n",
              "  <tbody>\n",
              "    <tr>\n",
              "      <th>0</th>\n",
              "      <td>64.0</td>\n",
              "      <td>565.0</td>\n",
              "      <td>0.3</td>\n",
              "    </tr>\n",
              "    <tr>\n",
              "      <th>1</th>\n",
              "      <td>78.0</td>\n",
              "      <td>5046.0</td>\n",
              "      <td>1.5</td>\n",
              "    </tr>\n",
              "    <tr>\n",
              "      <th>2</th>\n",
              "      <td>77.0</td>\n",
              "      <td>4760.0</td>\n",
              "      <td>2.5</td>\n",
              "    </tr>\n",
              "    <tr>\n",
              "      <th>3</th>\n",
              "      <td>61.0</td>\n",
              "      <td>3234.0</td>\n",
              "      <td>0.4</td>\n",
              "    </tr>\n",
              "    <tr>\n",
              "      <th>4</th>\n",
              "      <td>77.0</td>\n",
              "      <td>15135.0</td>\n",
              "      <td>0.0</td>\n",
              "    </tr>\n",
              "    <tr>\n",
              "      <th>...</th>\n",
              "      <td>...</td>\n",
              "      <td>...</td>\n",
              "      <td>...</td>\n",
              "    </tr>\n",
              "    <tr>\n",
              "      <th>163</th>\n",
              "      <td>78.0</td>\n",
              "      <td>14618.0</td>\n",
              "      <td>1.2</td>\n",
              "    </tr>\n",
              "    <tr>\n",
              "      <th>164</th>\n",
              "      <td>72.0</td>\n",
              "      <td>2409.0</td>\n",
              "      <td>2.5</td>\n",
              "    </tr>\n",
              "    <tr>\n",
              "      <th>165</th>\n",
              "      <td>70.0</td>\n",
              "      <td>2865.0</td>\n",
              "      <td>0.0</td>\n",
              "    </tr>\n",
              "    <tr>\n",
              "      <th>166</th>\n",
              "      <td>75.0</td>\n",
              "      <td>1968.0</td>\n",
              "      <td>2.1</td>\n",
              "    </tr>\n",
              "    <tr>\n",
              "      <th>167</th>\n",
              "      <td>66.0</td>\n",
              "      <td>633.0</td>\n",
              "      <td>0.3</td>\n",
              "    </tr>\n",
              "  </tbody>\n",
              "</table>\n",
              "<p>168 rows × 3 columns</p>\n",
              "</div>\n",
              "      <button class=\"colab-df-convert\" onclick=\"convertToInteractive('df-c3adf593-4e3e-4b01-a8f7-11772101506c')\"\n",
              "              title=\"Convert this dataframe to an interactive table.\"\n",
              "              style=\"display:none;\">\n",
              "        \n",
              "  <svg xmlns=\"http://www.w3.org/2000/svg\" height=\"24px\"viewBox=\"0 0 24 24\"\n",
              "       width=\"24px\">\n",
              "    <path d=\"M0 0h24v24H0V0z\" fill=\"none\"/>\n",
              "    <path d=\"M18.56 5.44l.94 2.06.94-2.06 2.06-.94-2.06-.94-.94-2.06-.94 2.06-2.06.94zm-11 1L8.5 8.5l.94-2.06 2.06-.94-2.06-.94L8.5 2.5l-.94 2.06-2.06.94zm10 10l.94 2.06.94-2.06 2.06-.94-2.06-.94-.94-2.06-.94 2.06-2.06.94z\"/><path d=\"M17.41 7.96l-1.37-1.37c-.4-.4-.92-.59-1.43-.59-.52 0-1.04.2-1.43.59L10.3 9.45l-7.72 7.72c-.78.78-.78 2.05 0 2.83L4 21.41c.39.39.9.59 1.41.59.51 0 1.02-.2 1.41-.59l7.78-7.78 2.81-2.81c.8-.78.8-2.07 0-2.86zM5.41 20L4 18.59l7.72-7.72 1.47 1.35L5.41 20z\"/>\n",
              "  </svg>\n",
              "      </button>\n",
              "      \n",
              "  <style>\n",
              "    .colab-df-container {\n",
              "      display:flex;\n",
              "      flex-wrap:wrap;\n",
              "      gap: 12px;\n",
              "    }\n",
              "\n",
              "    .colab-df-convert {\n",
              "      background-color: #E8F0FE;\n",
              "      border: none;\n",
              "      border-radius: 50%;\n",
              "      cursor: pointer;\n",
              "      display: none;\n",
              "      fill: #1967D2;\n",
              "      height: 32px;\n",
              "      padding: 0 0 0 0;\n",
              "      width: 32px;\n",
              "    }\n",
              "\n",
              "    .colab-df-convert:hover {\n",
              "      background-color: #E2EBFA;\n",
              "      box-shadow: 0px 1px 2px rgba(60, 64, 67, 0.3), 0px 1px 3px 1px rgba(60, 64, 67, 0.15);\n",
              "      fill: #174EA6;\n",
              "    }\n",
              "\n",
              "    [theme=dark] .colab-df-convert {\n",
              "      background-color: #3B4455;\n",
              "      fill: #D2E3FC;\n",
              "    }\n",
              "\n",
              "    [theme=dark] .colab-df-convert:hover {\n",
              "      background-color: #434B5C;\n",
              "      box-shadow: 0px 1px 3px 1px rgba(0, 0, 0, 0.15);\n",
              "      filter: drop-shadow(0px 1px 2px rgba(0, 0, 0, 0.3));\n",
              "      fill: #FFFFFF;\n",
              "    }\n",
              "  </style>\n",
              "\n",
              "      <script>\n",
              "        const buttonEl =\n",
              "          document.querySelector('#df-c3adf593-4e3e-4b01-a8f7-11772101506c button.colab-df-convert');\n",
              "        buttonEl.style.display =\n",
              "          google.colab.kernel.accessAllowed ? 'block' : 'none';\n",
              "\n",
              "        async function convertToInteractive(key) {\n",
              "          const element = document.querySelector('#df-c3adf593-4e3e-4b01-a8f7-11772101506c');\n",
              "          const dataTable =\n",
              "            await google.colab.kernel.invokeFunction('convertToInteractive',\n",
              "                                                     [key], {});\n",
              "          if (!dataTable) return;\n",
              "\n",
              "          const docLinkHtml = 'Like what you see? Visit the ' +\n",
              "            '<a target=\"_blank\" href=https://colab.research.google.com/notebooks/data_table.ipynb>data table notebook</a>'\n",
              "            + ' to learn more about interactive tables.';\n",
              "          element.innerHTML = '';\n",
              "          dataTable['output_type'] = 'display_data';\n",
              "          await google.colab.output.renderOutput(dataTable, element);\n",
              "          const docLink = document.createElement('div');\n",
              "          docLink.innerHTML = docLinkHtml;\n",
              "          element.appendChild(docLink);\n",
              "        }\n",
              "      </script>\n",
              "    </div>\n",
              "  </div>\n",
              "  "
            ]
          },
          "metadata": {},
          "execution_count": 15
        }
      ],
      "source": [
        "# Resetting the index of \"tidy_data\"\n",
        "tidy_data.reset_index(drop=True, inplace=True)\n",
        "tidy_data"
      ]
    },
    {
      "cell_type": "code",
      "execution_count": 16,
      "metadata": {
        "colab": {
          "base_uri": "https://localhost:8080/"
        },
        "id": "Zhtsw7YLumwD",
        "outputId": "3fcdc749-920d-4de1-865e-d3a5bcb2be81"
      },
      "outputs": [
        {
          "output_type": "execute_result",
          "data": {
            "text/plain": [
              "Life Expectancy           0\n",
              "Per Capita GDP            0\n",
              "Total Carbon Footprint    0\n",
              "dtype: int64"
            ]
          },
          "metadata": {},
          "execution_count": 16
        }
      ],
      "source": [
        "# Double-checking if there are still null values.\n",
        "tidy_data.isna().sum()"
      ]
    },
    {
      "cell_type": "markdown",
      "metadata": {
        "id": "2ICWSMWmvB9Y"
      },
      "source": [
        "Note: We just dropped the null values because imputing it with the arithmetic mean of the corresponding column is unintuitive and a far representation of the real-world scenario.\n",
        "* If you look at the \"Data Source,\" most if not all of the null values came from the countries that can be found in the South African continent. \n",
        "* It is a trivial fact that most of those said countries have a low \"GDP\" (and thus lower \"Per Capita GDP\").\n",
        "* Therefore, it is unintuitive and erroneous to just impute those null values with the arithmetic mean of the corresponding column because it is too high for them (higher even the Philippines alone).\n",
        "\n"
      ]
    },
    {
      "cell_type": "code",
      "execution_count": 17,
      "metadata": {
        "colab": {
          "base_uri": "https://localhost:8080/"
        },
        "id": "IR4IBmT53qKV",
        "outputId": "b0a0d9e8-df49-4546-c846-56902c5e2d3e"
      },
      "outputs": [
        {
          "output_type": "stream",
          "name": "stdout",
          "text": [
            "Arithmethic mean of \"Per Capita GDP:\" 14067.035714285714\n",
            "\"Per Capita GDP\" of Philippines: 3188.0\n"
          ]
        }
      ],
      "source": [
        "# Arithmethic mean of the column \"Per Capita GDP\"\n",
        "print('Arithmethic mean of \"Per Capita GDP:\"', tidy_data['Per Capita GDP'].mean())\n",
        "\n",
        "# \"Per Capita GDP\" of Philippines.\n",
        "print('\"Per Capita GDP\" of Philippines:', raw_data.iloc[129]['Per Capita GDP'])"
      ]
    },
    {
      "cell_type": "markdown",
      "metadata": {
        "id": "bK7qeeEB-5yR"
      },
      "source": [
        "This line of reasoning is also true for the \"Life Expectancy\" column."
      ]
    },
    {
      "cell_type": "markdown",
      "metadata": {
        "id": "DPg1Hxb99QGn"
      },
      "source": [
        "### Removing Outliers (if any)"
      ]
    },
    {
      "cell_type": "code",
      "execution_count": 18,
      "metadata": {
        "id": "cfqMaLxuJXAR"
      },
      "outputs": [],
      "source": [
        "import matplotlib.pyplot as plt"
      ]
    },
    {
      "cell_type": "markdown",
      "source": [
        ""
      ],
      "metadata": {
        "id": "_T9dc500_emQ"
      }
    },
    {
      "cell_type": "markdown",
      "metadata": {
        "id": "IIiWKsC0Qjzz"
      },
      "source": [
        "#### Before Removing Any Potential Outliers."
      ]
    },
    {
      "cell_type": "code",
      "execution_count": 19,
      "metadata": {
        "colab": {
          "base_uri": "https://localhost:8080/",
          "height": 441
        },
        "id": "WUOzFprzJ12y",
        "outputId": "919f5185-e6c4-4d0b-891b-a58cee9eb345"
      },
      "outputs": [
        {
          "output_type": "stream",
          "name": "stdout",
          "text": [
            "shape: (168, 3)\n"
          ]
        },
        {
          "output_type": "execute_result",
          "data": {
            "text/plain": [
              "     Life Expectancy  Per Capita GDP  Total Carbon Footprint\n",
              "0               64.0           565.0                     0.3\n",
              "1               78.0          5046.0                     1.5\n",
              "2               77.0          4760.0                     2.5\n",
              "3               61.0          3234.0                     0.4\n",
              "4               77.0         15135.0                     0.0\n",
              "..               ...             ...                     ...\n",
              "163             78.0         14618.0                     1.2\n",
              "164             72.0          2409.0                     2.5\n",
              "165             70.0          2865.0                     0.0\n",
              "166             75.0          1968.0                     2.1\n",
              "167             66.0           633.0                     0.3\n",
              "\n",
              "[168 rows x 3 columns]"
            ],
            "text/html": [
              "\n",
              "  <div id=\"df-a9a39785-5355-4d05-9204-ca5ae23edfe5\">\n",
              "    <div class=\"colab-df-container\">\n",
              "      <div>\n",
              "<style scoped>\n",
              "    .dataframe tbody tr th:only-of-type {\n",
              "        vertical-align: middle;\n",
              "    }\n",
              "\n",
              "    .dataframe tbody tr th {\n",
              "        vertical-align: top;\n",
              "    }\n",
              "\n",
              "    .dataframe thead th {\n",
              "        text-align: right;\n",
              "    }\n",
              "</style>\n",
              "<table border=\"1\" class=\"dataframe\">\n",
              "  <thead>\n",
              "    <tr style=\"text-align: right;\">\n",
              "      <th></th>\n",
              "      <th>Life Expectancy</th>\n",
              "      <th>Per Capita GDP</th>\n",
              "      <th>Total Carbon Footprint</th>\n",
              "    </tr>\n",
              "  </thead>\n",
              "  <tbody>\n",
              "    <tr>\n",
              "      <th>0</th>\n",
              "      <td>64.0</td>\n",
              "      <td>565.0</td>\n",
              "      <td>0.3</td>\n",
              "    </tr>\n",
              "    <tr>\n",
              "      <th>1</th>\n",
              "      <td>78.0</td>\n",
              "      <td>5046.0</td>\n",
              "      <td>1.5</td>\n",
              "    </tr>\n",
              "    <tr>\n",
              "      <th>2</th>\n",
              "      <td>77.0</td>\n",
              "      <td>4760.0</td>\n",
              "      <td>2.5</td>\n",
              "    </tr>\n",
              "    <tr>\n",
              "      <th>3</th>\n",
              "      <td>61.0</td>\n",
              "      <td>3234.0</td>\n",
              "      <td>0.4</td>\n",
              "    </tr>\n",
              "    <tr>\n",
              "      <th>4</th>\n",
              "      <td>77.0</td>\n",
              "      <td>15135.0</td>\n",
              "      <td>0.0</td>\n",
              "    </tr>\n",
              "    <tr>\n",
              "      <th>...</th>\n",
              "      <td>...</td>\n",
              "      <td>...</td>\n",
              "      <td>...</td>\n",
              "    </tr>\n",
              "    <tr>\n",
              "      <th>163</th>\n",
              "      <td>78.0</td>\n",
              "      <td>14618.0</td>\n",
              "      <td>1.2</td>\n",
              "    </tr>\n",
              "    <tr>\n",
              "      <th>164</th>\n",
              "      <td>72.0</td>\n",
              "      <td>2409.0</td>\n",
              "      <td>2.5</td>\n",
              "    </tr>\n",
              "    <tr>\n",
              "      <th>165</th>\n",
              "      <td>70.0</td>\n",
              "      <td>2865.0</td>\n",
              "      <td>0.0</td>\n",
              "    </tr>\n",
              "    <tr>\n",
              "      <th>166</th>\n",
              "      <td>75.0</td>\n",
              "      <td>1968.0</td>\n",
              "      <td>2.1</td>\n",
              "    </tr>\n",
              "    <tr>\n",
              "      <th>167</th>\n",
              "      <td>66.0</td>\n",
              "      <td>633.0</td>\n",
              "      <td>0.3</td>\n",
              "    </tr>\n",
              "  </tbody>\n",
              "</table>\n",
              "<p>168 rows × 3 columns</p>\n",
              "</div>\n",
              "      <button class=\"colab-df-convert\" onclick=\"convertToInteractive('df-a9a39785-5355-4d05-9204-ca5ae23edfe5')\"\n",
              "              title=\"Convert this dataframe to an interactive table.\"\n",
              "              style=\"display:none;\">\n",
              "        \n",
              "  <svg xmlns=\"http://www.w3.org/2000/svg\" height=\"24px\"viewBox=\"0 0 24 24\"\n",
              "       width=\"24px\">\n",
              "    <path d=\"M0 0h24v24H0V0z\" fill=\"none\"/>\n",
              "    <path d=\"M18.56 5.44l.94 2.06.94-2.06 2.06-.94-2.06-.94-.94-2.06-.94 2.06-2.06.94zm-11 1L8.5 8.5l.94-2.06 2.06-.94-2.06-.94L8.5 2.5l-.94 2.06-2.06.94zm10 10l.94 2.06.94-2.06 2.06-.94-2.06-.94-.94-2.06-.94 2.06-2.06.94z\"/><path d=\"M17.41 7.96l-1.37-1.37c-.4-.4-.92-.59-1.43-.59-.52 0-1.04.2-1.43.59L10.3 9.45l-7.72 7.72c-.78.78-.78 2.05 0 2.83L4 21.41c.39.39.9.59 1.41.59.51 0 1.02-.2 1.41-.59l7.78-7.78 2.81-2.81c.8-.78.8-2.07 0-2.86zM5.41 20L4 18.59l7.72-7.72 1.47 1.35L5.41 20z\"/>\n",
              "  </svg>\n",
              "      </button>\n",
              "      \n",
              "  <style>\n",
              "    .colab-df-container {\n",
              "      display:flex;\n",
              "      flex-wrap:wrap;\n",
              "      gap: 12px;\n",
              "    }\n",
              "\n",
              "    .colab-df-convert {\n",
              "      background-color: #E8F0FE;\n",
              "      border: none;\n",
              "      border-radius: 50%;\n",
              "      cursor: pointer;\n",
              "      display: none;\n",
              "      fill: #1967D2;\n",
              "      height: 32px;\n",
              "      padding: 0 0 0 0;\n",
              "      width: 32px;\n",
              "    }\n",
              "\n",
              "    .colab-df-convert:hover {\n",
              "      background-color: #E2EBFA;\n",
              "      box-shadow: 0px 1px 2px rgba(60, 64, 67, 0.3), 0px 1px 3px 1px rgba(60, 64, 67, 0.15);\n",
              "      fill: #174EA6;\n",
              "    }\n",
              "\n",
              "    [theme=dark] .colab-df-convert {\n",
              "      background-color: #3B4455;\n",
              "      fill: #D2E3FC;\n",
              "    }\n",
              "\n",
              "    [theme=dark] .colab-df-convert:hover {\n",
              "      background-color: #434B5C;\n",
              "      box-shadow: 0px 1px 3px 1px rgba(0, 0, 0, 0.15);\n",
              "      filter: drop-shadow(0px 1px 2px rgba(0, 0, 0, 0.3));\n",
              "      fill: #FFFFFF;\n",
              "    }\n",
              "  </style>\n",
              "\n",
              "      <script>\n",
              "        const buttonEl =\n",
              "          document.querySelector('#df-a9a39785-5355-4d05-9204-ca5ae23edfe5 button.colab-df-convert');\n",
              "        buttonEl.style.display =\n",
              "          google.colab.kernel.accessAllowed ? 'block' : 'none';\n",
              "\n",
              "        async function convertToInteractive(key) {\n",
              "          const element = document.querySelector('#df-a9a39785-5355-4d05-9204-ca5ae23edfe5');\n",
              "          const dataTable =\n",
              "            await google.colab.kernel.invokeFunction('convertToInteractive',\n",
              "                                                     [key], {});\n",
              "          if (!dataTable) return;\n",
              "\n",
              "          const docLinkHtml = 'Like what you see? Visit the ' +\n",
              "            '<a target=\"_blank\" href=https://colab.research.google.com/notebooks/data_table.ipynb>data table notebook</a>'\n",
              "            + ' to learn more about interactive tables.';\n",
              "          element.innerHTML = '';\n",
              "          dataTable['output_type'] = 'display_data';\n",
              "          await google.colab.output.renderOutput(dataTable, element);\n",
              "          const docLink = document.createElement('div');\n",
              "          docLink.innerHTML = docLinkHtml;\n",
              "          element.appendChild(docLink);\n",
              "        }\n",
              "      </script>\n",
              "    </div>\n",
              "  </div>\n",
              "  "
            ]
          },
          "metadata": {},
          "execution_count": 19
        }
      ],
      "source": [
        "# The \"tidy_data\" before removing potential outliers.\n",
        "print('shape:', tidy_data.shape)\n",
        "tidy_data"
      ]
    },
    {
      "cell_type": "code",
      "execution_count": 20,
      "metadata": {
        "id": "DSqxetb0Q0S1"
      },
      "outputs": [],
      "source": [
        "Life_Expectancy = tidy_data['Life Expectancy']\n",
        "Capita_Per_GDP = tidy_data['Per Capita GDP']\n",
        "Total_Carbon_Footprint = tidy_data['Total Carbon Footprint']"
      ]
    },
    {
      "cell_type": "code",
      "execution_count": 21,
      "metadata": {
        "colab": {
          "base_uri": "https://localhost:8080/",
          "height": 295
        },
        "id": "yaMZn3t0Q3VI",
        "outputId": "5f506dd5-f1cc-4228-9961-ee91d269b7c6"
      },
      "outputs": [
        {
          "output_type": "display_data",
          "data": {
            "text/plain": [
              "<Figure size 432x288 with 1 Axes>"
            ],
            "image/png": "[encoded data removed]"
          },
          "metadata": {
            "needs_background": "light"
          }
        }
      ],
      "source": [
        "# Scatter Plot (\"Per Capita GDP\" vs. \"Life Expectancy\").\n",
        "plt.scatter(Capita_Per_GDP, Life_Expectancy)\n",
        "plt.xlabel('Per Capita GDP')\n",
        "plt.ylabel('Life Expectancy')\n",
        "plt.title('\"Per Capita GDP\" vs. \"Life Expectancy\"')\n",
        "plt.show()"
      ]
    },
    {
      "cell_type": "code",
      "execution_count": 22,
      "metadata": {
        "colab": {
          "base_uri": "https://localhost:8080/",
          "height": 295
        },
        "id": "gZaq0AKnRBWX",
        "outputId": "3ff292e9-e3bc-41b0-9b33-073f31201e1f"
      },
      "outputs": [
        {
          "output_type": "display_data",
          "data": {
            "text/plain": [
              "<Figure size 432x288 with 1 Axes>"
            ],
            "image/png": "[encoded data removed]"
          },
          "metadata": {
            "needs_background": "light"
          }
        }
      ],
      "source": [
        "# Scatter Plot (\"Total Carbon Footprint\" vs. \"Life Expectancy\").\n",
        "plt.scatter(Total_Carbon_Footprint, Life_Expectancy)\n",
        "plt.xlabel('Total Carbon Footprint')\n",
        "plt.ylabel('Life Expectancy')\n",
        "plt.title('\"Total Carbon Footprint\" vs. \"Life Expectancy\"')\n",
        "plt.show()"
      ]
    },
    {
      "cell_type": "markdown",
      "metadata": {
        "id": "FHPpuTnLMsnx"
      },
      "source": [
        "#### Removing Potential Outliers In The \"Capita Per GDP\" Column."
      ]
    },
    {
      "cell_type": "code",
      "execution_count": 23,
      "metadata": {
        "id": "h7IB96e4_dkA"
      },
      "outputs": [],
      "source": [
        "# Importing the requried python modules.\n",
        "import seaborn as sbn\n",
        "import pandas as pd\n",
        "import matplotlib.pyplot as plt\n",
        "from scipy import stats\n",
        "import numpy as np"
      ]
    },
    {
      "cell_type": "code",
      "execution_count": 24,
      "metadata": {
        "colab": {
          "base_uri": "https://localhost:8080/",
          "height": 296
        },
        "id": "QCIv_LqMCfYm",
        "outputId": "ba920f46-afc0-4aee-f3a2-da9ad1d9b543"
      },
      "outputs": [
        {
          "output_type": "execute_result",
          "data": {
            "text/plain": [
              "<matplotlib.axes._subplots.AxesSubplot at 0x7efd4170d250>"
            ]
          },
          "metadata": {},
          "execution_count": 24
        },
        {
          "output_type": "display_data",
          "data": {
            "text/plain": [
              "<Figure size 432x288 with 1 Axes>"
            ],
            "image/png": "[encoded data removed]"
          },
          "metadata": {
            "needs_background": "light"
          }
        }
      ],
      "source": [
        "# Boxplot of the \"Per Capita GDP\"\n",
        "sbn.boxplot(x = tidy_data['Per Capita GDP'])"
      ]
    },
    {
      "cell_type": "code",
      "execution_count": 25,
      "metadata": {
        "colab": {
          "base_uri": "https://localhost:8080/"
        },
        "id": "hTKhfv0REtlo",
        "outputId": "1c36abce-99fc-4416-dd22-c1204a37ea08"
      },
      "outputs": [
        {
          "output_type": "stream",
          "name": "stdout",
          "text": [
            "Q1: 1783.0\n",
            "Q3: 16165.75\n",
            "IQR: 14382.75\n"
          ]
        }
      ],
      "source": [
        "# Find the Interquartile range of \"Per Capita GDP\" column from 25th quartile\n",
        "# and 75th quartile.\n",
        "Q1 = tidy_data[\"Per Capita GDP\"].quantile(0.25)\n",
        "Q3 = tidy_data[\"Per Capita GDP\"].quantile(0.75)\n",
        "IQR = Q3 - Q1\n",
        "\n",
        "print('Q1:', Q1)\n",
        "print('Q3:', Q3)\n",
        "print('IQR:', IQR)"
      ]
    },
    {
      "cell_type": "code",
      "execution_count": 26,
      "metadata": {
        "colab": {
          "base_uri": "https://localhost:8080/"
        },
        "id": "qBezjhAuFYA5",
        "outputId": "46abf3f8-7dcf-412a-b4c6-b8a0dc2a0599"
      },
      "outputs": [
        {
          "output_type": "stream",
          "name": "stdout",
          "text": [
            "Lower_Fence: -19791.125\n",
            "Upper_Fence: 37739.875\n"
          ]
        }
      ],
      "source": [
        "# Find the Upper Fence and Lower Fence.\n",
        "Lower_Fence = Q1 - (1.5 * IQR)  # lower fence formula\n",
        "Upper_Fence = Q3 + (1.5 * IQR)  # Upper fence formula\n",
        "\n",
        "print('Lower_Fence:', Lower_Fence)\n",
        "print('Upper_Fence:', Upper_Fence)"
      ]
    },
    {
      "cell_type": "code",
      "execution_count": 27,
      "metadata": {
        "colab": {
          "base_uri": "https://localhost:8080/",
          "height": 708
        },
        "id": "LxfN1YNFGG-_",
        "outputId": "5cec97eb-1e1e-423a-d4e6-897cb427b573"
      },
      "outputs": [
        {
          "output_type": "execute_result",
          "data": {
            "text/plain": [
              "     Life Expectancy  Per Capita GDP  Total Carbon Footprint\n",
              "7               83.0         57032.0                    10.1\n",
              "8               82.0         49711.0                     6.4\n",
              "15              82.0         46768.0                     7.5\n",
              "30              82.0         51518.0                    10.7\n",
              "45              81.0         64672.0                     5.4\n",
              "55              82.0         48890.0                     6.9\n",
              "56              83.0         45057.0                     4.2\n",
              "60              81.0         47158.0                     6.0\n",
              "75              82.0         77407.0                     5.9\n",
              "79              84.0         48506.0                     6.6\n",
              "93              82.0        111381.0                    15.0\n",
              "109             82.0         55369.0                     6.8\n",
              "110             82.0         39215.0                     0.0\n",
              "114             83.0         91608.0                     5.3\n",
              "124             80.0         63990.0                    24.6\n",
              "137             83.0         57838.0                     7.8\n",
              "146             83.0         59068.0                     4.6\n",
              "147             84.0         79173.0                     4.6\n",
              "160             78.0         41325.0                    12.3\n",
              "161             81.0         42894.0                     4.4\n",
              "162             79.0         54724.0                    11.0"
            ],
            "text/html": [
              "\n",
              "  <div id=\"df-4d7616fe-e3df-479a-963a-aa447225b82d\">\n",
              "    <div class=\"colab-df-container\">\n",
              "      <div>\n",
              "<style scoped>\n",
              "    .dataframe tbody tr th:only-of-type {\n",
              "        vertical-align: middle;\n",
              "    }\n",
              "\n",
              "    .dataframe tbody tr th {\n",
              "        vertical-align: top;\n",
              "    }\n",
              "\n",
              "    .dataframe thead th {\n",
              "        text-align: right;\n",
              "    }\n",
              "</style>\n",
              "<table border=\"1\" class=\"dataframe\">\n",
              "  <thead>\n",
              "    <tr style=\"text-align: right;\">\n",
              "      <th></th>\n",
              "      <th>Life Expectancy</th>\n",
              "      <th>Per Capita GDP</th>\n",
              "      <th>Total Carbon Footprint</th>\n",
              "    </tr>\n",
              "  </thead>\n",
              "  <tbody>\n",
              "    <tr>\n",
              "      <th>7</th>\n",
              "      <td>83.0</td>\n",
              "      <td>57032.0</td>\n",
              "      <td>10.1</td>\n",
              "    </tr>\n",
              "    <tr>\n",
              "      <th>8</th>\n",
              "      <td>82.0</td>\n",
              "      <td>49711.0</td>\n",
              "      <td>6.4</td>\n",
              "    </tr>\n",
              "    <tr>\n",
              "      <th>15</th>\n",
              "      <td>82.0</td>\n",
              "      <td>46768.0</td>\n",
              "      <td>7.5</td>\n",
              "    </tr>\n",
              "    <tr>\n",
              "      <th>30</th>\n",
              "      <td>82.0</td>\n",
              "      <td>51518.0</td>\n",
              "      <td>10.7</td>\n",
              "    </tr>\n",
              "    <tr>\n",
              "      <th>45</th>\n",
              "      <td>81.0</td>\n",
              "      <td>64672.0</td>\n",
              "      <td>5.4</td>\n",
              "    </tr>\n",
              "    <tr>\n",
              "      <th>55</th>\n",
              "      <td>82.0</td>\n",
              "      <td>48890.0</td>\n",
              "      <td>6.9</td>\n",
              "    </tr>\n",
              "    <tr>\n",
              "      <th>56</th>\n",
              "      <td>83.0</td>\n",
              "      <td>45057.0</td>\n",
              "      <td>4.2</td>\n",
              "    </tr>\n",
              "    <tr>\n",
              "      <th>60</th>\n",
              "      <td>81.0</td>\n",
              "      <td>47158.0</td>\n",
              "      <td>6.0</td>\n",
              "    </tr>\n",
              "    <tr>\n",
              "      <th>75</th>\n",
              "      <td>82.0</td>\n",
              "      <td>77407.0</td>\n",
              "      <td>5.9</td>\n",
              "    </tr>\n",
              "    <tr>\n",
              "      <th>79</th>\n",
              "      <td>84.0</td>\n",
              "      <td>48506.0</td>\n",
              "      <td>6.6</td>\n",
              "    </tr>\n",
              "    <tr>\n",
              "      <th>93</th>\n",
              "      <td>82.0</td>\n",
              "      <td>111381.0</td>\n",
              "      <td>15.0</td>\n",
              "    </tr>\n",
              "    <tr>\n",
              "      <th>109</th>\n",
              "      <td>82.0</td>\n",
              "      <td>55369.0</td>\n",
              "      <td>6.8</td>\n",
              "    </tr>\n",
              "    <tr>\n",
              "      <th>110</th>\n",
              "      <td>82.0</td>\n",
              "      <td>39215.0</td>\n",
              "      <td>0.0</td>\n",
              "    </tr>\n",
              "    <tr>\n",
              "      <th>114</th>\n",
              "      <td>83.0</td>\n",
              "      <td>91608.0</td>\n",
              "      <td>5.3</td>\n",
              "    </tr>\n",
              "    <tr>\n",
              "      <th>124</th>\n",
              "      <td>80.0</td>\n",
              "      <td>63990.0</td>\n",
              "      <td>24.6</td>\n",
              "    </tr>\n",
              "    <tr>\n",
              "      <th>137</th>\n",
              "      <td>83.0</td>\n",
              "      <td>57838.0</td>\n",
              "      <td>7.8</td>\n",
              "    </tr>\n",
              "    <tr>\n",
              "      <th>146</th>\n",
              "      <td>83.0</td>\n",
              "      <td>59068.0</td>\n",
              "      <td>4.6</td>\n",
              "    </tr>\n",
              "    <tr>\n",
              "      <th>147</th>\n",
              "      <td>84.0</td>\n",
              "      <td>79173.0</td>\n",
              "      <td>4.6</td>\n",
              "    </tr>\n",
              "    <tr>\n",
              "      <th>160</th>\n",
              "      <td>78.0</td>\n",
              "      <td>41325.0</td>\n",
              "      <td>12.3</td>\n",
              "    </tr>\n",
              "    <tr>\n",
              "      <th>161</th>\n",
              "      <td>81.0</td>\n",
              "      <td>42894.0</td>\n",
              "      <td>4.4</td>\n",
              "    </tr>\n",
              "    <tr>\n",
              "      <th>162</th>\n",
              "      <td>79.0</td>\n",
              "      <td>54724.0</td>\n",
              "      <td>11.0</td>\n",
              "    </tr>\n",
              "  </tbody>\n",
              "</table>\n",
              "</div>\n",
              "      <button class=\"colab-df-convert\" onclick=\"convertToInteractive('df-4d7616fe-e3df-479a-963a-aa447225b82d')\"\n",
              "              title=\"Convert this dataframe to an interactive table.\"\n",
              "              style=\"display:none;\">\n",
              "        \n",
              "  <svg xmlns=\"http://www.w3.org/2000/svg\" height=\"24px\"viewBox=\"0 0 24 24\"\n",
              "       width=\"24px\">\n",
              "    <path d=\"M0 0h24v24H0V0z\" fill=\"none\"/>\n",
              "    <path d=\"M18.56 5.44l.94 2.06.94-2.06 2.06-.94-2.06-.94-.94-2.06-.94 2.06-2.06.94zm-11 1L8.5 8.5l.94-2.06 2.06-.94-2.06-.94L8.5 2.5l-.94 2.06-2.06.94zm10 10l.94 2.06.94-2.06 2.06-.94-2.06-.94-.94-2.06-.94 2.06-2.06.94z\"/><path d=\"M17.41 7.96l-1.37-1.37c-.4-.4-.92-.59-1.43-.59-.52 0-1.04.2-1.43.59L10.3 9.45l-7.72 7.72c-.78.78-.78 2.05 0 2.83L4 21.41c.39.39.9.59 1.41.59.51 0 1.02-.2 1.41-.59l7.78-7.78 2.81-2.81c.8-.78.8-2.07 0-2.86zM5.41 20L4 18.59l7.72-7.72 1.47 1.35L5.41 20z\"/>\n",
              "  </svg>\n",
              "      </button>\n",
              "      \n",
              "  <style>\n",
              "    .colab-df-container {\n",
              "      display:flex;\n",
              "      flex-wrap:wrap;\n",
              "      gap: 12px;\n",
              "    }\n",
              "\n",
              "    .colab-df-convert {\n",
              "      background-color: #E8F0FE;\n",
              "      border: none;\n",
              "      border-radius: 50%;\n",
              "      cursor: pointer;\n",
              "      display: none;\n",
              "      fill: #1967D2;\n",
              "      height: 32px;\n",
              "      padding: 0 0 0 0;\n",
              "      width: 32px;\n",
              "    }\n",
              "\n",
              "    .colab-df-convert:hover {\n",
              "      background-color: #E2EBFA;\n",
              "      box-shadow: 0px 1px 2px rgba(60, 64, 67, 0.3), 0px 1px 3px 1px rgba(60, 64, 67, 0.15);\n",
              "      fill: #174EA6;\n",
              "    }\n",
              "\n",
              "    [theme=dark] .colab-df-convert {\n",
              "      background-color: #3B4455;\n",
              "      fill: #D2E3FC;\n",
              "    }\n",
              "\n",
              "    [theme=dark] .colab-df-convert:hover {\n",
              "      background-color: #434B5C;\n",
              "      box-shadow: 0px 1px 3px 1px rgba(0, 0, 0, 0.15);\n",
              "      filter: drop-shadow(0px 1px 2px rgba(0, 0, 0, 0.3));\n",
              "      fill: #FFFFFF;\n",
              "    }\n",
              "  </style>\n",
              "\n",
              "      <script>\n",
              "        const buttonEl =\n",
              "          document.querySelector('#df-4d7616fe-e3df-479a-963a-aa447225b82d button.colab-df-convert');\n",
              "        buttonEl.style.display =\n",
              "          google.colab.kernel.accessAllowed ? 'block' : 'none';\n",
              "\n",
              "        async function convertToInteractive(key) {\n",
              "          const element = document.querySelector('#df-4d7616fe-e3df-479a-963a-aa447225b82d');\n",
              "          const dataTable =\n",
              "            await google.colab.kernel.invokeFunction('convertToInteractive',\n",
              "                                                     [key], {});\n",
              "          if (!dataTable) return;\n",
              "\n",
              "          const docLinkHtml = 'Like what you see? Visit the ' +\n",
              "            '<a target=\"_blank\" href=https://colab.research.google.com/notebooks/data_table.ipynb>data table notebook</a>'\n",
              "            + ' to learn more about interactive tables.';\n",
              "          element.innerHTML = '';\n",
              "          dataTable['output_type'] = 'display_data';\n",
              "          await google.colab.output.renderOutput(dataTable, element);\n",
              "          const docLink = document.createElement('div');\n",
              "          docLink.innerHTML = docLinkHtml;\n",
              "          element.appendChild(docLink);\n",
              "        }\n",
              "      </script>\n",
              "    </div>\n",
              "  </div>\n",
              "  "
            ]
          },
          "metadata": {},
          "execution_count": 27
        }
      ],
      "source": [
        "# Print all of the data below the \"Lower_Fence\" and above\n",
        "# the \"Upper_Fence\"\n",
        "tidy_data[(tidy_data[\"Per Capita GDP\"] < Lower_Fence) |(tidy_data[\"Per Capita GDP\"] > Upper_Fence)]"
      ]
    },
    {
      "cell_type": "code",
      "execution_count": 28,
      "metadata": {
        "colab": {
          "base_uri": "https://localhost:8080/",
          "height": 424
        },
        "id": "HuG78APDLOcG",
        "outputId": "7fb0fcd9-7e6b-48a2-f97b-c2a954df8d0a"
      },
      "outputs": [
        {
          "output_type": "execute_result",
          "data": {
            "text/plain": [
              "     Life Expectancy  Per Capita GDP  Total Carbon Footprint\n",
              "0               64.0           565.0                     0.3\n",
              "1               78.0          5046.0                     1.5\n",
              "2               77.0          4760.0                     2.5\n",
              "3               61.0          3234.0                     0.4\n",
              "4               77.0         15135.0                     0.0\n",
              "..               ...             ...                     ...\n",
              "142             78.0         14618.0                     1.2\n",
              "143             72.0          2409.0                     2.5\n",
              "144             70.0          2865.0                     0.0\n",
              "145             75.0          1968.0                     2.1\n",
              "146             66.0           633.0                     0.3\n",
              "\n",
              "[147 rows x 3 columns]"
            ],
            "text/html": [
              "\n",
              "  <div id=\"df-db459f6a-981c-4840-b1dd-115a0e9d95a0\">\n",
              "    <div class=\"colab-df-container\">\n",
              "      <div>\n",
              "<style scoped>\n",
              "    .dataframe tbody tr th:only-of-type {\n",
              "        vertical-align: middle;\n",
              "    }\n",
              "\n",
              "    .dataframe tbody tr th {\n",
              "        vertical-align: top;\n",
              "    }\n",
              "\n",
              "    .dataframe thead th {\n",
              "        text-align: right;\n",
              "    }\n",
              "</style>\n",
              "<table border=\"1\" class=\"dataframe\">\n",
              "  <thead>\n",
              "    <tr style=\"text-align: right;\">\n",
              "      <th></th>\n",
              "      <th>Life Expectancy</th>\n",
              "      <th>Per Capita GDP</th>\n",
              "      <th>Total Carbon Footprint</th>\n",
              "    </tr>\n",
              "  </thead>\n",
              "  <tbody>\n",
              "    <tr>\n",
              "      <th>0</th>\n",
              "      <td>64.0</td>\n",
              "      <td>565.0</td>\n",
              "      <td>0.3</td>\n",
              "    </tr>\n",
              "    <tr>\n",
              "      <th>1</th>\n",
              "      <td>78.0</td>\n",
              "      <td>5046.0</td>\n",
              "      <td>1.5</td>\n",
              "    </tr>\n",
              "    <tr>\n",
              "      <th>2</th>\n",
              "      <td>77.0</td>\n",
              "      <td>4760.0</td>\n",
              "      <td>2.5</td>\n",
              "    </tr>\n",
              "    <tr>\n",
              "      <th>3</th>\n",
              "      <td>61.0</td>\n",
              "      <td>3234.0</td>\n",
              "      <td>0.4</td>\n",
              "    </tr>\n",
              "    <tr>\n",
              "      <th>4</th>\n",
              "      <td>77.0</td>\n",
              "      <td>15135.0</td>\n",
              "      <td>0.0</td>\n",
              "    </tr>\n",
              "    <tr>\n",
              "      <th>...</th>\n",
              "      <td>...</td>\n",
              "      <td>...</td>\n",
              "      <td>...</td>\n",
              "    </tr>\n",
              "    <tr>\n",
              "      <th>142</th>\n",
              "      <td>78.0</td>\n",
              "      <td>14618.0</td>\n",
              "      <td>1.2</td>\n",
              "    </tr>\n",
              "    <tr>\n",
              "      <th>143</th>\n",
              "      <td>72.0</td>\n",
              "      <td>2409.0</td>\n",
              "      <td>2.5</td>\n",
              "    </tr>\n",
              "    <tr>\n",
              "      <th>144</th>\n",
              "      <td>70.0</td>\n",
              "      <td>2865.0</td>\n",
              "      <td>0.0</td>\n",
              "    </tr>\n",
              "    <tr>\n",
              "      <th>145</th>\n",
              "      <td>75.0</td>\n",
              "      <td>1968.0</td>\n",
              "      <td>2.1</td>\n",
              "    </tr>\n",
              "    <tr>\n",
              "      <th>146</th>\n",
              "      <td>66.0</td>\n",
              "      <td>633.0</td>\n",
              "      <td>0.3</td>\n",
              "    </tr>\n",
              "  </tbody>\n",
              "</table>\n",
              "<p>147 rows × 3 columns</p>\n",
              "</div>\n",
              "      <button class=\"colab-df-convert\" onclick=\"convertToInteractive('df-db459f6a-981c-4840-b1dd-115a0e9d95a0')\"\n",
              "              title=\"Convert this dataframe to an interactive table.\"\n",
              "              style=\"display:none;\">\n",
              "        \n",
              "  <svg xmlns=\"http://www.w3.org/2000/svg\" height=\"24px\"viewBox=\"0 0 24 24\"\n",
              "       width=\"24px\">\n",
              "    <path d=\"M0 0h24v24H0V0z\" fill=\"none\"/>\n",
              "    <path d=\"M18.56 5.44l.94 2.06.94-2.06 2.06-.94-2.06-.94-.94-2.06-.94 2.06-2.06.94zm-11 1L8.5 8.5l.94-2.06 2.06-.94-2.06-.94L8.5 2.5l-.94 2.06-2.06.94zm10 10l.94 2.06.94-2.06 2.06-.94-2.06-.94-.94-2.06-.94 2.06-2.06.94z\"/><path d=\"M17.41 7.96l-1.37-1.37c-.4-.4-.92-.59-1.43-.59-.52 0-1.04.2-1.43.59L10.3 9.45l-7.72 7.72c-.78.78-.78 2.05 0 2.83L4 21.41c.39.39.9.59 1.41.59.51 0 1.02-.2 1.41-.59l7.78-7.78 2.81-2.81c.8-.78.8-2.07 0-2.86zM5.41 20L4 18.59l7.72-7.72 1.47 1.35L5.41 20z\"/>\n",
              "  </svg>\n",
              "      </button>\n",
              "      \n",
              "  <style>\n",
              "    .colab-df-container {\n",
              "      display:flex;\n",
              "      flex-wrap:wrap;\n",
              "      gap: 12px;\n",
              "    }\n",
              "\n",
              "    .colab-df-convert {\n",
              "      background-color: #E8F0FE;\n",
              "      border: none;\n",
              "      border-radius: 50%;\n",
              "      cursor: pointer;\n",
              "      display: none;\n",
              "      fill: #1967D2;\n",
              "      height: 32px;\n",
              "      padding: 0 0 0 0;\n",
              "      width: 32px;\n",
              "    }\n",
              "\n",
              "    .colab-df-convert:hover {\n",
              "      background-color: #E2EBFA;\n",
              "      box-shadow: 0px 1px 2px rgba(60, 64, 67, 0.3), 0px 1px 3px 1px rgba(60, 64, 67, 0.15);\n",
              "      fill: #174EA6;\n",
              "    }\n",
              "\n",
              "    [theme=dark] .colab-df-convert {\n",
              "      background-color: #3B4455;\n",
              "      fill: #D2E3FC;\n",
              "    }\n",
              "\n",
              "    [theme=dark] .colab-df-convert:hover {\n",
              "      background-color: #434B5C;\n",
              "      box-shadow: 0px 1px 3px 1px rgba(0, 0, 0, 0.15);\n",
              "      filter: drop-shadow(0px 1px 2px rgba(0, 0, 0, 0.3));\n",
              "      fill: #FFFFFF;\n",
              "    }\n",
              "  </style>\n",
              "\n",
              "      <script>\n",
              "        const buttonEl =\n",
              "          document.querySelector('#df-db459f6a-981c-4840-b1dd-115a0e9d95a0 button.colab-df-convert');\n",
              "        buttonEl.style.display =\n",
              "          google.colab.kernel.accessAllowed ? 'block' : 'none';\n",
              "\n",
              "        async function convertToInteractive(key) {\n",
              "          const element = document.querySelector('#df-db459f6a-981c-4840-b1dd-115a0e9d95a0');\n",
              "          const dataTable =\n",
              "            await google.colab.kernel.invokeFunction('convertToInteractive',\n",
              "                                                     [key], {});\n",
              "          if (!dataTable) return;\n",
              "\n",
              "          const docLinkHtml = 'Like what you see? Visit the ' +\n",
              "            '<a target=\"_blank\" href=https://colab.research.google.com/notebooks/data_table.ipynb>data table notebook</a>'\n",
              "            + ' to learn more about interactive tables.';\n",
              "          element.innerHTML = '';\n",
              "          dataTable['output_type'] = 'display_data';\n",
              "          await google.colab.output.renderOutput(dataTable, element);\n",
              "          const docLink = document.createElement('div');\n",
              "          docLink.innerHTML = docLinkHtml;\n",
              "          element.appendChild(docLink);\n",
              "        }\n",
              "      </script>\n",
              "    </div>\n",
              "  </div>\n",
              "  "
            ]
          },
          "metadata": {},
          "execution_count": 28
        }
      ],
      "source": [
        "# Filter out the outlier data and print only the potential data.\n",
        "tidy_data = tidy_data[~((tidy_data[\"Per Capita GDP\"] < Lower_Fence) |(tidy_data[\"Per Capita GDP\"] > Upper_Fence))]\n",
        "\n",
        "# Resetting the index of \"tidy_data\"\n",
        "tidy_data.reset_index(drop=True, inplace=True)\n",
        "tidy_data"
      ]
    },
    {
      "cell_type": "markdown",
      "metadata": {
        "id": "TYAr1jcfNM7k"
      },
      "source": [
        "#### Removing Potential Outliers In The \"Total Carbon Footprint\" Column."
      ]
    },
    {
      "cell_type": "code",
      "execution_count": 29,
      "metadata": {
        "colab": {
          "base_uri": "https://localhost:8080/",
          "height": 296
        },
        "id": "ITyl6DYBNoeC",
        "outputId": "0ea90813-52e1-4213-f535-b710d3f52c67"
      },
      "outputs": [
        {
          "output_type": "execute_result",
          "data": {
            "text/plain": [
              "<matplotlib.axes._subplots.AxesSubplot at 0x7efd40ed4b10>"
            ]
          },
          "metadata": {},
          "execution_count": 29
        },
        {
          "output_type": "display_data",
          "data": {
            "text/plain": [
              "<Figure size 432x288 with 1 Axes>"
            ],
            "image/png": "[encoded data removed]"
          },
          "metadata": {
            "needs_background": "light"
          }
        }
      ],
      "source": [
        "# Boxplot of the \"Total Carbon Footprint\"\n",
        "sbn.boxplot(x = tidy_data['Total Carbon Footprint'])"
      ]
    },
    {
      "cell_type": "code",
      "execution_count": 30,
      "metadata": {
        "colab": {
          "base_uri": "https://localhost:8080/"
        },
        "id": "V0VFkveKN9AS",
        "outputId": "657f3652-cee4-4c7f-cac7-1dffe068d686"
      },
      "outputs": [
        {
          "output_type": "stream",
          "name": "stdout",
          "text": [
            "Q1: 0.30000000000000004\n",
            "Q3: 3.4\n",
            "IQR: 3.0999999999999996\n"
          ]
        }
      ],
      "source": [
        "# Find the Interquartile range of \"Total Carbon Footprint\" column from 25th quartile\n",
        "# and 75th quartile.\n",
        "Q1 = tidy_data[\"Total Carbon Footprint\"].quantile(0.25)\n",
        "Q3 = tidy_data[\"Total Carbon Footprint\"].quantile(0.75)\n",
        "IQR = Q3 - Q1\n",
        "\n",
        "print('Q1:', Q1)\n",
        "print('Q3:', Q3)\n",
        "print('IQR:', IQR)"
      ]
    },
    {
      "cell_type": "code",
      "execution_count": 31,
      "metadata": {
        "colab": {
          "base_uri": "https://localhost:8080/"
        },
        "id": "Mu22aBJSOKui",
        "outputId": "fc27e09d-b2f2-4b66-cae1-c8aea473230e"
      },
      "outputs": [
        {
          "output_type": "stream",
          "name": "stdout",
          "text": [
            "Lower_Fence: -4.35\n",
            "Upper_Fence: 8.049999999999999\n"
          ]
        }
      ],
      "source": [
        "# Find the Upper Fence and Lower Fence.\n",
        "Lower_Fence = Q1 - (1.5 * IQR)  # lower fence formula\n",
        "Upper_Fence = Q3 + (1.5 * IQR)  # Upper fence formula\n",
        "\n",
        "print('Lower_Fence:', Lower_Fence)\n",
        "print('Upper_Fence:', Upper_Fence)"
      ]
    },
    {
      "cell_type": "code",
      "execution_count": 32,
      "metadata": {
        "colab": {
          "base_uri": "https://localhost:8080/",
          "height": 300
        },
        "id": "tI4K3raHORmt",
        "outputId": "1f75f6ec-971f-409b-99bd-ae09a683b29e"
      },
      "outputs": [
        {
          "output_type": "execute_result",
          "data": {
            "text/plain": [
              "     Life Expectancy  Per Capita GDP  Total Carbon Footprint\n",
              "9               77.0         21478.0                    14.1\n",
              "20              76.0         31437.0                     9.8\n",
              "73              83.0         28336.0                     9.0\n",
              "74              75.0         33113.0                    14.2\n",
              "101             78.0         15797.0                    10.0\n",
              "118             75.0         20829.0                     9.5\n",
              "136             73.0         15161.0                    14.0\n",
              "139             68.0          7648.0                     8.1"
            ],
            "text/html": [
              "\n",
              "  <div id=\"df-e8a9f93f-14cd-4db2-93cd-e4256954c7c1\">\n",
              "    <div class=\"colab-df-container\">\n",
              "      <div>\n",
              "<style scoped>\n",
              "    .dataframe tbody tr th:only-of-type {\n",
              "        vertical-align: middle;\n",
              "    }\n",
              "\n",
              "    .dataframe tbody tr th {\n",
              "        vertical-align: top;\n",
              "    }\n",
              "\n",
              "    .dataframe thead th {\n",
              "        text-align: right;\n",
              "    }\n",
              "</style>\n",
              "<table border=\"1\" class=\"dataframe\">\n",
              "  <thead>\n",
              "    <tr style=\"text-align: right;\">\n",
              "      <th></th>\n",
              "      <th>Life Expectancy</th>\n",
              "      <th>Per Capita GDP</th>\n",
              "      <th>Total Carbon Footprint</th>\n",
              "    </tr>\n",
              "  </thead>\n",
              "  <tbody>\n",
              "    <tr>\n",
              "      <th>9</th>\n",
              "      <td>77.0</td>\n",
              "      <td>21478.0</td>\n",
              "      <td>14.1</td>\n",
              "    </tr>\n",
              "    <tr>\n",
              "      <th>20</th>\n",
              "      <td>76.0</td>\n",
              "      <td>31437.0</td>\n",
              "      <td>9.8</td>\n",
              "    </tr>\n",
              "    <tr>\n",
              "      <th>73</th>\n",
              "      <td>83.0</td>\n",
              "      <td>28336.0</td>\n",
              "      <td>9.0</td>\n",
              "    </tr>\n",
              "    <tr>\n",
              "      <th>74</th>\n",
              "      <td>75.0</td>\n",
              "      <td>33113.0</td>\n",
              "      <td>14.2</td>\n",
              "    </tr>\n",
              "    <tr>\n",
              "      <th>101</th>\n",
              "      <td>78.0</td>\n",
              "      <td>15797.0</td>\n",
              "      <td>10.0</td>\n",
              "    </tr>\n",
              "    <tr>\n",
              "      <th>118</th>\n",
              "      <td>75.0</td>\n",
              "      <td>20829.0</td>\n",
              "      <td>9.5</td>\n",
              "    </tr>\n",
              "    <tr>\n",
              "      <th>136</th>\n",
              "      <td>73.0</td>\n",
              "      <td>15161.0</td>\n",
              "      <td>14.0</td>\n",
              "    </tr>\n",
              "    <tr>\n",
              "      <th>139</th>\n",
              "      <td>68.0</td>\n",
              "      <td>7648.0</td>\n",
              "      <td>8.1</td>\n",
              "    </tr>\n",
              "  </tbody>\n",
              "</table>\n",
              "</div>\n",
              "      <button class=\"colab-df-convert\" onclick=\"convertToInteractive('df-e8a9f93f-14cd-4db2-93cd-e4256954c7c1')\"\n",
              "              title=\"Convert this dataframe to an interactive table.\"\n",
              "              style=\"display:none;\">\n",
              "        \n",
              "  <svg xmlns=\"http://www.w3.org/2000/svg\" height=\"24px\"viewBox=\"0 0 24 24\"\n",
              "       width=\"24px\">\n",
              "    <path d=\"M0 0h24v24H0V0z\" fill=\"none\"/>\n",
              "    <path d=\"M18.56 5.44l.94 2.06.94-2.06 2.06-.94-2.06-.94-.94-2.06-.94 2.06-2.06.94zm-11 1L8.5 8.5l.94-2.06 2.06-.94-2.06-.94L8.5 2.5l-.94 2.06-2.06.94zm10 10l.94 2.06.94-2.06 2.06-.94-2.06-.94-.94-2.06-.94 2.06-2.06.94z\"/><path d=\"M17.41 7.96l-1.37-1.37c-.4-.4-.92-.59-1.43-.59-.52 0-1.04.2-1.43.59L10.3 9.45l-7.72 7.72c-.78.78-.78 2.05 0 2.83L4 21.41c.39.39.9.59 1.41.59.51 0 1.02-.2 1.41-.59l7.78-7.78 2.81-2.81c.8-.78.8-2.07 0-2.86zM5.41 20L4 18.59l7.72-7.72 1.47 1.35L5.41 20z\"/>\n",
              "  </svg>\n",
              "      </button>\n",
              "      \n",
              "  <style>\n",
              "    .colab-df-container {\n",
              "      display:flex;\n",
              "      flex-wrap:wrap;\n",
              "      gap: 12px;\n",
              "    }\n",
              "\n",
              "    .colab-df-convert {\n",
              "      background-color: #E8F0FE;\n",
              "      border: none;\n",
              "      border-radius: 50%;\n",
              "      cursor: pointer;\n",
              "      display: none;\n",
              "      fill: #1967D2;\n",
              "      height: 32px;\n",
              "      padding: 0 0 0 0;\n",
              "      width: 32px;\n",
              "    }\n",
              "\n",
              "    .colab-df-convert:hover {\n",
              "      background-color: #E2EBFA;\n",
              "      box-shadow: 0px 1px 2px rgba(60, 64, 67, 0.3), 0px 1px 3px 1px rgba(60, 64, 67, 0.15);\n",
              "      fill: #174EA6;\n",
              "    }\n",
              "\n",
              "    [theme=dark] .colab-df-convert {\n",
              "      background-color: #3B4455;\n",
              "      fill: #D2E3FC;\n",
              "    }\n",
              "\n",
              "    [theme=dark] .colab-df-convert:hover {\n",
              "      background-color: #434B5C;\n",
              "      box-shadow: 0px 1px 3px 1px rgba(0, 0, 0, 0.15);\n",
              "      filter: drop-shadow(0px 1px 2px rgba(0, 0, 0, 0.3));\n",
              "      fill: #FFFFFF;\n",
              "    }\n",
              "  </style>\n",
              "\n",
              "      <script>\n",
              "        const buttonEl =\n",
              "          document.querySelector('#df-e8a9f93f-14cd-4db2-93cd-e4256954c7c1 button.colab-df-convert');\n",
              "        buttonEl.style.display =\n",
              "          google.colab.kernel.accessAllowed ? 'block' : 'none';\n",
              "\n",
              "        async function convertToInteractive(key) {\n",
              "          const element = document.querySelector('#df-e8a9f93f-14cd-4db2-93cd-e4256954c7c1');\n",
              "          const dataTable =\n",
              "            await google.colab.kernel.invokeFunction('convertToInteractive',\n",
              "                                                     [key], {});\n",
              "          if (!dataTable) return;\n",
              "\n",
              "          const docLinkHtml = 'Like what you see? Visit the ' +\n",
              "            '<a target=\"_blank\" href=https://colab.research.google.com/notebooks/data_table.ipynb>data table notebook</a>'\n",
              "            + ' to learn more about interactive tables.';\n",
              "          element.innerHTML = '';\n",
              "          dataTable['output_type'] = 'display_data';\n",
              "          await google.colab.output.renderOutput(dataTable, element);\n",
              "          const docLink = document.createElement('div');\n",
              "          docLink.innerHTML = docLinkHtml;\n",
              "          element.appendChild(docLink);\n",
              "        }\n",
              "      </script>\n",
              "    </div>\n",
              "  </div>\n",
              "  "
            ]
          },
          "metadata": {},
          "execution_count": 32
        }
      ],
      "source": [
        "# Print all of the data below the \"Lower_Fence\" and above\n",
        "# the \"Upper_Fence\"\n",
        "tidy_data[(tidy_data[\"Total Carbon Footprint\"] < Lower_Fence) |(tidy_data[\"Total Carbon Footprint\"] > Upper_Fence)]"
      ]
    },
    {
      "cell_type": "code",
      "execution_count": 33,
      "metadata": {
        "colab": {
          "base_uri": "https://localhost:8080/",
          "height": 424
        },
        "id": "c50W9AFbOfsy",
        "outputId": "60b45afa-1ba0-4304-8113-c0248260f774"
      },
      "outputs": [
        {
          "output_type": "execute_result",
          "data": {
            "text/plain": [
              "     Life Expectancy  Per Capita GDP  Total Carbon Footprint\n",
              "0               64.0           565.0                     0.3\n",
              "1               78.0          5046.0                     1.5\n",
              "2               77.0          4760.0                     2.5\n",
              "3               61.0          3234.0                     0.4\n",
              "4               77.0         15135.0                     0.0\n",
              "..               ...             ...                     ...\n",
              "134             78.0         14618.0                     1.2\n",
              "135             72.0          2409.0                     2.5\n",
              "136             70.0          2865.0                     0.0\n",
              "137             75.0          1968.0                     2.1\n",
              "138             66.0           633.0                     0.3\n",
              "\n",
              "[139 rows x 3 columns]"
            ],
            "text/html": [
              "\n",
              "  <div id=\"df-a31d8585-b6a5-4c0f-9016-1333cacc2714\">\n",
              "    <div class=\"colab-df-container\">\n",
              "      <div>\n",
              "<style scoped>\n",
              "    .dataframe tbody tr th:only-of-type {\n",
              "        vertical-align: middle;\n",
              "    }\n",
              "\n",
              "    .dataframe tbody tr th {\n",
              "        vertical-align: top;\n",
              "    }\n",
              "\n",
              "    .dataframe thead th {\n",
              "        text-align: right;\n",
              "    }\n",
              "</style>\n",
              "<table border=\"1\" class=\"dataframe\">\n",
              "  <thead>\n",
              "    <tr style=\"text-align: right;\">\n",
              "      <th></th>\n",
              "      <th>Life Expectancy</th>\n",
              "      <th>Per Capita GDP</th>\n",
              "      <th>Total Carbon Footprint</th>\n",
              "    </tr>\n",
              "  </thead>\n",
              "  <tbody>\n",
              "    <tr>\n",
              "      <th>0</th>\n",
              "      <td>64.0</td>\n",
              "      <td>565.0</td>\n",
              "      <td>0.3</td>\n",
              "    </tr>\n",
              "    <tr>\n",
              "      <th>1</th>\n",
              "      <td>78.0</td>\n",
              "      <td>5046.0</td>\n",
              "      <td>1.5</td>\n",
              "    </tr>\n",
              "    <tr>\n",
              "      <th>2</th>\n",
              "      <td>77.0</td>\n",
              "      <td>4760.0</td>\n",
              "      <td>2.5</td>\n",
              "    </tr>\n",
              "    <tr>\n",
              "      <th>3</th>\n",
              "      <td>61.0</td>\n",
              "      <td>3234.0</td>\n",
              "      <td>0.4</td>\n",
              "    </tr>\n",
              "    <tr>\n",
              "      <th>4</th>\n",
              "      <td>77.0</td>\n",
              "      <td>15135.0</td>\n",
              "      <td>0.0</td>\n",
              "    </tr>\n",
              "    <tr>\n",
              "      <th>...</th>\n",
              "      <td>...</td>\n",
              "      <td>...</td>\n",
              "      <td>...</td>\n",
              "    </tr>\n",
              "    <tr>\n",
              "      <th>134</th>\n",
              "      <td>78.0</td>\n",
              "      <td>14618.0</td>\n",
              "      <td>1.2</td>\n",
              "    </tr>\n",
              "    <tr>\n",
              "      <th>135</th>\n",
              "      <td>72.0</td>\n",
              "      <td>2409.0</td>\n",
              "      <td>2.5</td>\n",
              "    </tr>\n",
              "    <tr>\n",
              "      <th>136</th>\n",
              "      <td>70.0</td>\n",
              "      <td>2865.0</td>\n",
              "      <td>0.0</td>\n",
              "    </tr>\n",
              "    <tr>\n",
              "      <th>137</th>\n",
              "      <td>75.0</td>\n",
              "      <td>1968.0</td>\n",
              "      <td>2.1</td>\n",
              "    </tr>\n",
              "    <tr>\n",
              "      <th>138</th>\n",
              "      <td>66.0</td>\n",
              "      <td>633.0</td>\n",
              "      <td>0.3</td>\n",
              "    </tr>\n",
              "  </tbody>\n",
              "</table>\n",
              "<p>139 rows × 3 columns</p>\n",
              "</div>\n",
              "      <button class=\"colab-df-convert\" onclick=\"convertToInteractive('df-a31d8585-b6a5-4c0f-9016-1333cacc2714')\"\n",
              "              title=\"Convert this dataframe to an interactive table.\"\n",
              "              style=\"display:none;\">\n",
              "        \n",
              "  <svg xmlns=\"http://www.w3.org/2000/svg\" height=\"24px\"viewBox=\"0 0 24 24\"\n",
              "       width=\"24px\">\n",
              "    <path d=\"M0 0h24v24H0V0z\" fill=\"none\"/>\n",
              "    <path d=\"M18.56 5.44l.94 2.06.94-2.06 2.06-.94-2.06-.94-.94-2.06-.94 2.06-2.06.94zm-11 1L8.5 8.5l.94-2.06 2.06-.94-2.06-.94L8.5 2.5l-.94 2.06-2.06.94zm10 10l.94 2.06.94-2.06 2.06-.94-2.06-.94-.94-2.06-.94 2.06-2.06.94z\"/><path d=\"M17.41 7.96l-1.37-1.37c-.4-.4-.92-.59-1.43-.59-.52 0-1.04.2-1.43.59L10.3 9.45l-7.72 7.72c-.78.78-.78 2.05 0 2.83L4 21.41c.39.39.9.59 1.41.59.51 0 1.02-.2 1.41-.59l7.78-7.78 2.81-2.81c.8-.78.8-2.07 0-2.86zM5.41 20L4 18.59l7.72-7.72 1.47 1.35L5.41 20z\"/>\n",
              "  </svg>\n",
              "      </button>\n",
              "      \n",
              "  <style>\n",
              "    .colab-df-container {\n",
              "      display:flex;\n",
              "      flex-wrap:wrap;\n",
              "      gap: 12px;\n",
              "    }\n",
              "\n",
              "    .colab-df-convert {\n",
              "      background-color: #E8F0FE;\n",
              "      border: none;\n",
              "      border-radius: 50%;\n",
              "      cursor: pointer;\n",
              "      display: none;\n",
              "      fill: #1967D2;\n",
              "      height: 32px;\n",
              "      padding: 0 0 0 0;\n",
              "      width: 32px;\n",
              "    }\n",
              "\n",
              "    .colab-df-convert:hover {\n",
              "      background-color: #E2EBFA;\n",
              "      box-shadow: 0px 1px 2px rgba(60, 64, 67, 0.3), 0px 1px 3px 1px rgba(60, 64, 67, 0.15);\n",
              "      fill: #174EA6;\n",
              "    }\n",
              "\n",
              "    [theme=dark] .colab-df-convert {\n",
              "      background-color: #3B4455;\n",
              "      fill: #D2E3FC;\n",
              "    }\n",
              "\n",
              "    [theme=dark] .colab-df-convert:hover {\n",
              "      background-color: #434B5C;\n",
              "      box-shadow: 0px 1px 3px 1px rgba(0, 0, 0, 0.15);\n",
              "      filter: drop-shadow(0px 1px 2px rgba(0, 0, 0, 0.3));\n",
              "      fill: #FFFFFF;\n",
              "    }\n",
              "  </style>\n",
              "\n",
              "      <script>\n",
              "        const buttonEl =\n",
              "          document.querySelector('#df-a31d8585-b6a5-4c0f-9016-1333cacc2714 button.colab-df-convert');\n",
              "        buttonEl.style.display =\n",
              "          google.colab.kernel.accessAllowed ? 'block' : 'none';\n",
              "\n",
              "        async function convertToInteractive(key) {\n",
              "          const element = document.querySelector('#df-a31d8585-b6a5-4c0f-9016-1333cacc2714');\n",
              "          const dataTable =\n",
              "            await google.colab.kernel.invokeFunction('convertToInteractive',\n",
              "                                                     [key], {});\n",
              "          if (!dataTable) return;\n",
              "\n",
              "          const docLinkHtml = 'Like what you see? Visit the ' +\n",
              "            '<a target=\"_blank\" href=https://colab.research.google.com/notebooks/data_table.ipynb>data table notebook</a>'\n",
              "            + ' to learn more about interactive tables.';\n",
              "          element.innerHTML = '';\n",
              "          dataTable['output_type'] = 'display_data';\n",
              "          await google.colab.output.renderOutput(dataTable, element);\n",
              "          const docLink = document.createElement('div');\n",
              "          docLink.innerHTML = docLinkHtml;\n",
              "          element.appendChild(docLink);\n",
              "        }\n",
              "      </script>\n",
              "    </div>\n",
              "  </div>\n",
              "  "
            ]
          },
          "metadata": {},
          "execution_count": 33
        }
      ],
      "source": [
        "# Filter out the outlier data and print only the potential data.\n",
        "tidy_data = tidy_data[~((tidy_data[\"Total Carbon Footprint\"] < Lower_Fence) |(tidy_data[\"Total Carbon Footprint\"] > Upper_Fence))]\n",
        "\n",
        "# Resetting the index of \"tidy_data\"\n",
        "tidy_data.reset_index(drop=True, inplace=True)\n",
        "tidy_data"
      ]
    },
    {
      "cell_type": "markdown",
      "metadata": {
        "id": "dqVMsPgzO-ip"
      },
      "source": [
        "#### Removing Potential Outliers In The \"Life Expectancy\" Column."
      ]
    },
    {
      "cell_type": "code",
      "execution_count": 34,
      "metadata": {
        "colab": {
          "base_uri": "https://localhost:8080/",
          "height": 296
        },
        "id": "wUvly7LYPI7v",
        "outputId": "09ef1e05-425d-4f93-c134-0c249cfb6513"
      },
      "outputs": [
        {
          "output_type": "execute_result",
          "data": {
            "text/plain": [
              "<matplotlib.axes._subplots.AxesSubplot at 0x7efd40eac110>"
            ]
          },
          "metadata": {},
          "execution_count": 34
        },
        {
          "output_type": "display_data",
          "data": {
            "text/plain": [
              "<Figure size 432x288 with 1 Axes>"
            ],
            "image/png": "[encoded data removed]"
          },
          "metadata": {
            "needs_background": "light"
          }
        }
      ],
      "source": [
        "# Boxplot of the \"Life Expectancy\"\n",
        "sbn.boxplot(x = tidy_data['Life Expectancy'])"
      ]
    },
    {
      "cell_type": "code",
      "execution_count": 35,
      "metadata": {
        "colab": {
          "base_uri": "https://localhost:8080/"
        },
        "id": "sAiAQX1cPPTO",
        "outputId": "7b0fa127-38e2-4123-edea-3298dfc1ff4c"
      },
      "outputs": [
        {
          "output_type": "stream",
          "name": "stdout",
          "text": [
            "Q1: 66.0\n",
            "Q3: 76.0\n",
            "IQR: 10.0\n"
          ]
        }
      ],
      "source": [
        "# Find the Interquartile range of \"Life Expectancy\" column from 25th quartile\n",
        "# and 75th quartile.\n",
        "Q1 = tidy_data[\"Life Expectancy\"].quantile(0.25)\n",
        "Q3 = tidy_data[\"Life Expectancy\"].quantile(0.75)\n",
        "IQR = Q3 - Q1\n",
        "\n",
        "print('Q1:', Q1)\n",
        "print('Q3:', Q3)\n",
        "print('IQR:', IQR)"
      ]
    },
    {
      "cell_type": "code",
      "execution_count": 36,
      "metadata": {
        "colab": {
          "base_uri": "https://localhost:8080/"
        },
        "id": "Zmnw7XHIPYJL",
        "outputId": "66a4c96b-e50b-4af5-9307-89932c801bf0"
      },
      "outputs": [
        {
          "output_type": "stream",
          "name": "stdout",
          "text": [
            "Lower_Fence: 51.0\n",
            "Upper_Fence: 91.0\n"
          ]
        }
      ],
      "source": [
        "# Find the Upper Fence and Lower Fence.\n",
        "Lower_Fence = Q1 - (1.5 * IQR)  # lower fence formula\n",
        "Upper_Fence = Q3 + (1.5 * IQR)  # Upper fence formula\n",
        "\n",
        "print('Lower_Fence:', Lower_Fence)\n",
        "print('Upper_Fence:', Upper_Fence)"
      ]
    },
    {
      "cell_type": "code",
      "execution_count": 37,
      "metadata": {
        "colab": {
          "base_uri": "https://localhost:8080/",
          "height": 49
        },
        "id": "DJRpw85SPb6K",
        "outputId": "38a2329b-e65d-4878-e9be-89d44a29f8af"
      },
      "outputs": [
        {
          "output_type": "execute_result",
          "data": {
            "text/plain": [
              "Empty DataFrame\n",
              "Columns: [Life Expectancy, Per Capita GDP, Total Carbon Footprint]\n",
              "Index: []"
            ],
            "text/html": [
              "\n",
              "  <div id=\"df-e03a24e6-52f8-453d-bdf5-5235d1bf3938\">\n",
              "    <div class=\"colab-df-container\">\n",
              "      <div>\n",
              "<style scoped>\n",
              "    .dataframe tbody tr th:only-of-type {\n",
              "        vertical-align: middle;\n",
              "    }\n",
              "\n",
              "    .dataframe tbody tr th {\n",
              "        vertical-align: top;\n",
              "    }\n",
              "\n",
              "    .dataframe thead th {\n",
              "        text-align: right;\n",
              "    }\n",
              "</style>\n",
              "<table border=\"1\" class=\"dataframe\">\n",
              "  <thead>\n",
              "    <tr style=\"text-align: right;\">\n",
              "      <th></th>\n",
              "      <th>Life Expectancy</th>\n",
              "      <th>Per Capita GDP</th>\n",
              "      <th>Total Carbon Footprint</th>\n",
              "    </tr>\n",
              "  </thead>\n",
              "  <tbody>\n",
              "  </tbody>\n",
              "</table>\n",
              "</div>\n",
              "      <button class=\"colab-df-convert\" onclick=\"convertToInteractive('df-e03a24e6-52f8-453d-bdf5-5235d1bf3938')\"\n",
              "              title=\"Convert this dataframe to an interactive table.\"\n",
              "              style=\"display:none;\">\n",
              "        \n",
              "  <svg xmlns=\"http://www.w3.org/2000/svg\" height=\"24px\"viewBox=\"0 0 24 24\"\n",
              "       width=\"24px\">\n",
              "    <path d=\"M0 0h24v24H0V0z\" fill=\"none\"/>\n",
              "    <path d=\"M18.56 5.44l.94 2.06.94-2.06 2.06-.94-2.06-.94-.94-2.06-.94 2.06-2.06.94zm-11 1L8.5 8.5l.94-2.06 2.06-.94-2.06-.94L8.5 2.5l-.94 2.06-2.06.94zm10 10l.94 2.06.94-2.06 2.06-.94-2.06-.94-.94-2.06-.94 2.06-2.06.94z\"/><path d=\"M17.41 7.96l-1.37-1.37c-.4-.4-.92-.59-1.43-.59-.52 0-1.04.2-1.43.59L10.3 9.45l-7.72 7.72c-.78.78-.78 2.05 0 2.83L4 21.41c.39.39.9.59 1.41.59.51 0 1.02-.2 1.41-.59l7.78-7.78 2.81-2.81c.8-.78.8-2.07 0-2.86zM5.41 20L4 18.59l7.72-7.72 1.47 1.35L5.41 20z\"/>\n",
              "  </svg>\n",
              "      </button>\n",
              "      \n",
              "  <style>\n",
              "    .colab-df-container {\n",
              "      display:flex;\n",
              "      flex-wrap:wrap;\n",
              "      gap: 12px;\n",
              "    }\n",
              "\n",
              "    .colab-df-convert {\n",
              "      background-color: #E8F0FE;\n",
              "      border: none;\n",
              "      border-radius: 50%;\n",
              "      cursor: pointer;\n",
              "      display: none;\n",
              "      fill: #1967D2;\n",
              "      height: 32px;\n",
              "      padding: 0 0 0 0;\n",
              "      width: 32px;\n",
              "    }\n",
              "\n",
              "    .colab-df-convert:hover {\n",
              "      background-color: #E2EBFA;\n",
              "      box-shadow: 0px 1px 2px rgba(60, 64, 67, 0.3), 0px 1px 3px 1px rgba(60, 64, 67, 0.15);\n",
              "      fill: #174EA6;\n",
              "    }\n",
              "\n",
              "    [theme=dark] .colab-df-convert {\n",
              "      background-color: #3B4455;\n",
              "      fill: #D2E3FC;\n",
              "    }\n",
              "\n",
              "    [theme=dark] .colab-df-convert:hover {\n",
              "      background-color: #434B5C;\n",
              "      box-shadow: 0px 1px 3px 1px rgba(0, 0, 0, 0.15);\n",
              "      filter: drop-shadow(0px 1px 2px rgba(0, 0, 0, 0.3));\n",
              "      fill: #FFFFFF;\n",
              "    }\n",
              "  </style>\n",
              "\n",
              "      <script>\n",
              "        const buttonEl =\n",
              "          document.querySelector('#df-e03a24e6-52f8-453d-bdf5-5235d1bf3938 button.colab-df-convert');\n",
              "        buttonEl.style.display =\n",
              "          google.colab.kernel.accessAllowed ? 'block' : 'none';\n",
              "\n",
              "        async function convertToInteractive(key) {\n",
              "          const element = document.querySelector('#df-e03a24e6-52f8-453d-bdf5-5235d1bf3938');\n",
              "          const dataTable =\n",
              "            await google.colab.kernel.invokeFunction('convertToInteractive',\n",
              "                                                     [key], {});\n",
              "          if (!dataTable) return;\n",
              "\n",
              "          const docLinkHtml = 'Like what you see? Visit the ' +\n",
              "            '<a target=\"_blank\" href=https://colab.research.google.com/notebooks/data_table.ipynb>data table notebook</a>'\n",
              "            + ' to learn more about interactive tables.';\n",
              "          element.innerHTML = '';\n",
              "          dataTable['output_type'] = 'display_data';\n",
              "          await google.colab.output.renderOutput(dataTable, element);\n",
              "          const docLink = document.createElement('div');\n",
              "          docLink.innerHTML = docLinkHtml;\n",
              "          element.appendChild(docLink);\n",
              "        }\n",
              "      </script>\n",
              "    </div>\n",
              "  </div>\n",
              "  "
            ]
          },
          "metadata": {},
          "execution_count": 37
        }
      ],
      "source": [
        "# Print all of the data below the \"Lower_Fence\" and above\n",
        "# the \"Upper_Fence\"\n",
        "tidy_data[(tidy_data[\"Life Expectancy\"] < Lower_Fence) |(tidy_data[\"Life Expectancy\"] > Upper_Fence)]"
      ]
    },
    {
      "cell_type": "code",
      "execution_count": 38,
      "metadata": {
        "colab": {
          "base_uri": "https://localhost:8080/",
          "height": 424
        },
        "id": "MEf3zHy7PwwR",
        "outputId": "690d6f6d-9be2-45b3-cdc7-5ac81e75ce68"
      },
      "outputs": [
        {
          "output_type": "execute_result",
          "data": {
            "text/plain": [
              "     Life Expectancy  Per Capita GDP  Total Carbon Footprint\n",
              "0               64.0           565.0                     0.3\n",
              "1               78.0          5046.0                     1.5\n",
              "2               77.0          4760.0                     2.5\n",
              "3               61.0          3234.0                     0.4\n",
              "4               77.0         15135.0                     0.0\n",
              "..               ...             ...                     ...\n",
              "134             78.0         14618.0                     1.2\n",
              "135             72.0          2409.0                     2.5\n",
              "136             70.0          2865.0                     0.0\n",
              "137             75.0          1968.0                     2.1\n",
              "138             66.0           633.0                     0.3\n",
              "\n",
              "[139 rows x 3 columns]"
            ],
            "text/html": [
              "\n",
              "  <div id=\"df-e67519ed-5267-4259-ae2d-3c7ad90108de\">\n",
              "    <div class=\"colab-df-container\">\n",
              "      <div>\n",
              "<style scoped>\n",
              "    .dataframe tbody tr th:only-of-type {\n",
              "        vertical-align: middle;\n",
              "    }\n",
              "\n",
              "    .dataframe tbody tr th {\n",
              "        vertical-align: top;\n",
              "    }\n",
              "\n",
              "    .dataframe thead th {\n",
              "        text-align: right;\n",
              "    }\n",
              "</style>\n",
              "<table border=\"1\" class=\"dataframe\">\n",
              "  <thead>\n",
              "    <tr style=\"text-align: right;\">\n",
              "      <th></th>\n",
              "      <th>Life Expectancy</th>\n",
              "      <th>Per Capita GDP</th>\n",
              "      <th>Total Carbon Footprint</th>\n",
              "    </tr>\n",
              "  </thead>\n",
              "  <tbody>\n",
              "    <tr>\n",
              "      <th>0</th>\n",
              "      <td>64.0</td>\n",
              "      <td>565.0</td>\n",
              "      <td>0.3</td>\n",
              "    </tr>\n",
              "    <tr>\n",
              "      <th>1</th>\n",
              "      <td>78.0</td>\n",
              "      <td>5046.0</td>\n",
              "      <td>1.5</td>\n",
              "    </tr>\n",
              "    <tr>\n",
              "      <th>2</th>\n",
              "      <td>77.0</td>\n",
              "      <td>4760.0</td>\n",
              "      <td>2.5</td>\n",
              "    </tr>\n",
              "    <tr>\n",
              "      <th>3</th>\n",
              "      <td>61.0</td>\n",
              "      <td>3234.0</td>\n",
              "      <td>0.4</td>\n",
              "    </tr>\n",
              "    <tr>\n",
              "      <th>4</th>\n",
              "      <td>77.0</td>\n",
              "      <td>15135.0</td>\n",
              "      <td>0.0</td>\n",
              "    </tr>\n",
              "    <tr>\n",
              "      <th>...</th>\n",
              "      <td>...</td>\n",
              "      <td>...</td>\n",
              "      <td>...</td>\n",
              "    </tr>\n",
              "    <tr>\n",
              "      <th>134</th>\n",
              "      <td>78.0</td>\n",
              "      <td>14618.0</td>\n",
              "      <td>1.2</td>\n",
              "    </tr>\n",
              "    <tr>\n",
              "      <th>135</th>\n",
              "      <td>72.0</td>\n",
              "      <td>2409.0</td>\n",
              "      <td>2.5</td>\n",
              "    </tr>\n",
              "    <tr>\n",
              "      <th>136</th>\n",
              "      <td>70.0</td>\n",
              "      <td>2865.0</td>\n",
              "      <td>0.0</td>\n",
              "    </tr>\n",
              "    <tr>\n",
              "      <th>137</th>\n",
              "      <td>75.0</td>\n",
              "      <td>1968.0</td>\n",
              "      <td>2.1</td>\n",
              "    </tr>\n",
              "    <tr>\n",
              "      <th>138</th>\n",
              "      <td>66.0</td>\n",
              "      <td>633.0</td>\n",
              "      <td>0.3</td>\n",
              "    </tr>\n",
              "  </tbody>\n",
              "</table>\n",
              "<p>139 rows × 3 columns</p>\n",
              "</div>\n",
              "      <button class=\"colab-df-convert\" onclick=\"convertToInteractive('df-e67519ed-5267-4259-ae2d-3c7ad90108de')\"\n",
              "              title=\"Convert this dataframe to an interactive table.\"\n",
              "              style=\"display:none;\">\n",
              "        \n",
              "  <svg xmlns=\"http://www.w3.org/2000/svg\" height=\"24px\"viewBox=\"0 0 24 24\"\n",
              "       width=\"24px\">\n",
              "    <path d=\"M0 0h24v24H0V0z\" fill=\"none\"/>\n",
              "    <path d=\"M18.56 5.44l.94 2.06.94-2.06 2.06-.94-2.06-.94-.94-2.06-.94 2.06-2.06.94zm-11 1L8.5 8.5l.94-2.06 2.06-.94-2.06-.94L8.5 2.5l-.94 2.06-2.06.94zm10 10l.94 2.06.94-2.06 2.06-.94-2.06-.94-.94-2.06-.94 2.06-2.06.94z\"/><path d=\"M17.41 7.96l-1.37-1.37c-.4-.4-.92-.59-1.43-.59-.52 0-1.04.2-1.43.59L10.3 9.45l-7.72 7.72c-.78.78-.78 2.05 0 2.83L4 21.41c.39.39.9.59 1.41.59.51 0 1.02-.2 1.41-.59l7.78-7.78 2.81-2.81c.8-.78.8-2.07 0-2.86zM5.41 20L4 18.59l7.72-7.72 1.47 1.35L5.41 20z\"/>\n",
              "  </svg>\n",
              "      </button>\n",
              "      \n",
              "  <style>\n",
              "    .colab-df-container {\n",
              "      display:flex;\n",
              "      flex-wrap:wrap;\n",
              "      gap: 12px;\n",
              "    }\n",
              "\n",
              "    .colab-df-convert {\n",
              "      background-color: #E8F0FE;\n",
              "      border: none;\n",
              "      border-radius: 50%;\n",
              "      cursor: pointer;\n",
              "      display: none;\n",
              "      fill: #1967D2;\n",
              "      height: 32px;\n",
              "      padding: 0 0 0 0;\n",
              "      width: 32px;\n",
              "    }\n",
              "\n",
              "    .colab-df-convert:hover {\n",
              "      background-color: #E2EBFA;\n",
              "      box-shadow: 0px 1px 2px rgba(60, 64, 67, 0.3), 0px 1px 3px 1px rgba(60, 64, 67, 0.15);\n",
              "      fill: #174EA6;\n",
              "    }\n",
              "\n",
              "    [theme=dark] .colab-df-convert {\n",
              "      background-color: #3B4455;\n",
              "      fill: #D2E3FC;\n",
              "    }\n",
              "\n",
              "    [theme=dark] .colab-df-convert:hover {\n",
              "      background-color: #434B5C;\n",
              "      box-shadow: 0px 1px 3px 1px rgba(0, 0, 0, 0.15);\n",
              "      filter: drop-shadow(0px 1px 2px rgba(0, 0, 0, 0.3));\n",
              "      fill: #FFFFFF;\n",
              "    }\n",
              "  </style>\n",
              "\n",
              "      <script>\n",
              "        const buttonEl =\n",
              "          document.querySelector('#df-e67519ed-5267-4259-ae2d-3c7ad90108de button.colab-df-convert');\n",
              "        buttonEl.style.display =\n",
              "          google.colab.kernel.accessAllowed ? 'block' : 'none';\n",
              "\n",
              "        async function convertToInteractive(key) {\n",
              "          const element = document.querySelector('#df-e67519ed-5267-4259-ae2d-3c7ad90108de');\n",
              "          const dataTable =\n",
              "            await google.colab.kernel.invokeFunction('convertToInteractive',\n",
              "                                                     [key], {});\n",
              "          if (!dataTable) return;\n",
              "\n",
              "          const docLinkHtml = 'Like what you see? Visit the ' +\n",
              "            '<a target=\"_blank\" href=https://colab.research.google.com/notebooks/data_table.ipynb>data table notebook</a>'\n",
              "            + ' to learn more about interactive tables.';\n",
              "          element.innerHTML = '';\n",
              "          dataTable['output_type'] = 'display_data';\n",
              "          await google.colab.output.renderOutput(dataTable, element);\n",
              "          const docLink = document.createElement('div');\n",
              "          docLink.innerHTML = docLinkHtml;\n",
              "          element.appendChild(docLink);\n",
              "        }\n",
              "      </script>\n",
              "    </div>\n",
              "  </div>\n",
              "  "
            ]
          },
          "metadata": {},
          "execution_count": 38
        }
      ],
      "source": [
        "# Filter out the outlier data and print only the potential data.\n",
        "tidy_data = tidy_data[~((tidy_data[\"Life Expectancy\"] < Lower_Fence) |(tidy_data[\"Life Expectancy\"] > Upper_Fence))]\n",
        "\n",
        "# Resetting the index of \"tidy_data\"\n",
        "tidy_data.reset_index(drop=True, inplace=True)\n",
        "tidy_data"
      ]
    },
    {
      "cell_type": "markdown",
      "metadata": {
        "id": "ni5A_l5oRTti"
      },
      "source": [
        "#### After Removing Any Potential Outliers."
      ]
    },
    {
      "cell_type": "code",
      "execution_count": 39,
      "metadata": {
        "colab": {
          "base_uri": "https://localhost:8080/",
          "height": 441
        },
        "id": "ZgpfpVmoRTti",
        "outputId": "03c3518e-1288-467d-b6e6-6a65398830d7"
      },
      "outputs": [
        {
          "output_type": "stream",
          "name": "stdout",
          "text": [
            "shape: (139, 3)\n"
          ]
        },
        {
          "output_type": "execute_result",
          "data": {
            "text/plain": [
              "     Life Expectancy  Per Capita GDP  Total Carbon Footprint\n",
              "0               64.0           565.0                     0.3\n",
              "1               78.0          5046.0                     1.5\n",
              "2               77.0          4760.0                     2.5\n",
              "3               61.0          3234.0                     0.4\n",
              "4               77.0         15135.0                     0.0\n",
              "..               ...             ...                     ...\n",
              "134             78.0         14618.0                     1.2\n",
              "135             72.0          2409.0                     2.5\n",
              "136             70.0          2865.0                     0.0\n",
              "137             75.0          1968.0                     2.1\n",
              "138             66.0           633.0                     0.3\n",
              "\n",
              "[139 rows x 3 columns]"
            ],
            "text/html": [
              "\n",
              "  <div id=\"df-1a76c2a0-929f-4dbb-8834-9e4d45eff23e\">\n",
              "    <div class=\"colab-df-container\">\n",
              "      <div>\n",
              "<style scoped>\n",
              "    .dataframe tbody tr th:only-of-type {\n",
              "        vertical-align: middle;\n",
              "    }\n",
              "\n",
              "    .dataframe tbody tr th {\n",
              "        vertical-align: top;\n",
              "    }\n",
              "\n",
              "    .dataframe thead th {\n",
              "        text-align: right;\n",
              "    }\n",
              "</style>\n",
              "<table border=\"1\" class=\"dataframe\">\n",
              "  <thead>\n",
              "    <tr style=\"text-align: right;\">\n",
              "      <th></th>\n",
              "      <th>Life Expectancy</th>\n",
              "      <th>Per Capita GDP</th>\n",
              "      <th>Total Carbon Footprint</th>\n",
              "    </tr>\n",
              "  </thead>\n",
              "  <tbody>\n",
              "    <tr>\n",
              "      <th>0</th>\n",
              "      <td>64.0</td>\n",
              "      <td>565.0</td>\n",
              "      <td>0.3</td>\n",
              "    </tr>\n",
              "    <tr>\n",
              "      <th>1</th>\n",
              "      <td>78.0</td>\n",
              "      <td>5046.0</td>\n",
              "      <td>1.5</td>\n",
              "    </tr>\n",
              "    <tr>\n",
              "      <th>2</th>\n",
              "      <td>77.0</td>\n",
              "      <td>4760.0</td>\n",
              "      <td>2.5</td>\n",
              "    </tr>\n",
              "    <tr>\n",
              "      <th>3</th>\n",
              "      <td>61.0</td>\n",
              "      <td>3234.0</td>\n",
              "      <td>0.4</td>\n",
              "    </tr>\n",
              "    <tr>\n",
              "      <th>4</th>\n",
              "      <td>77.0</td>\n",
              "      <td>15135.0</td>\n",
              "      <td>0.0</td>\n",
              "    </tr>\n",
              "    <tr>\n",
              "      <th>...</th>\n",
              "      <td>...</td>\n",
              "      <td>...</td>\n",
              "      <td>...</td>\n",
              "    </tr>\n",
              "    <tr>\n",
              "      <th>134</th>\n",
              "      <td>78.0</td>\n",
              "      <td>14618.0</td>\n",
              "      <td>1.2</td>\n",
              "    </tr>\n",
              "    <tr>\n",
              "      <th>135</th>\n",
              "      <td>72.0</td>\n",
              "      <td>2409.0</td>\n",
              "      <td>2.5</td>\n",
              "    </tr>\n",
              "    <tr>\n",
              "      <th>136</th>\n",
              "      <td>70.0</td>\n",
              "      <td>2865.0</td>\n",
              "      <td>0.0</td>\n",
              "    </tr>\n",
              "    <tr>\n",
              "      <th>137</th>\n",
              "      <td>75.0</td>\n",
              "      <td>1968.0</td>\n",
              "      <td>2.1</td>\n",
              "    </tr>\n",
              "    <tr>\n",
              "      <th>138</th>\n",
              "      <td>66.0</td>\n",
              "      <td>633.0</td>\n",
              "      <td>0.3</td>\n",
              "    </tr>\n",
              "  </tbody>\n",
              "</table>\n",
              "<p>139 rows × 3 columns</p>\n",
              "</div>\n",
              "      <button class=\"colab-df-convert\" onclick=\"convertToInteractive('df-1a76c2a0-929f-4dbb-8834-9e4d45eff23e')\"\n",
              "              title=\"Convert this dataframe to an interactive table.\"\n",
              "              style=\"display:none;\">\n",
              "        \n",
              "  <svg xmlns=\"http://www.w3.org/2000/svg\" height=\"24px\"viewBox=\"0 0 24 24\"\n",
              "       width=\"24px\">\n",
              "    <path d=\"M0 0h24v24H0V0z\" fill=\"none\"/>\n",
              "    <path d=\"M18.56 5.44l.94 2.06.94-2.06 2.06-.94-2.06-.94-.94-2.06-.94 2.06-2.06.94zm-11 1L8.5 8.5l.94-2.06 2.06-.94-2.06-.94L8.5 2.5l-.94 2.06-2.06.94zm10 10l.94 2.06.94-2.06 2.06-.94-2.06-.94-.94-2.06-.94 2.06-2.06.94z\"/><path d=\"M17.41 7.96l-1.37-1.37c-.4-.4-.92-.59-1.43-.59-.52 0-1.04.2-1.43.59L10.3 9.45l-7.72 7.72c-.78.78-.78 2.05 0 2.83L4 21.41c.39.39.9.59 1.41.59.51 0 1.02-.2 1.41-.59l7.78-7.78 2.81-2.81c.8-.78.8-2.07 0-2.86zM5.41 20L4 18.59l7.72-7.72 1.47 1.35L5.41 20z\"/>\n",
              "  </svg>\n",
              "      </button>\n",
              "      \n",
              "  <style>\n",
              "    .colab-df-container {\n",
              "      display:flex;\n",
              "      flex-wrap:wrap;\n",
              "      gap: 12px;\n",
              "    }\n",
              "\n",
              "    .colab-df-convert {\n",
              "      background-color: #E8F0FE;\n",
              "      border: none;\n",
              "      border-radius: 50%;\n",
              "      cursor: pointer;\n",
              "      display: none;\n",
              "      fill: #1967D2;\n",
              "      height: 32px;\n",
              "      padding: 0 0 0 0;\n",
              "      width: 32px;\n",
              "    }\n",
              "\n",
              "    .colab-df-convert:hover {\n",
              "      background-color: #E2EBFA;\n",
              "      box-shadow: 0px 1px 2px rgba(60, 64, 67, 0.3), 0px 1px 3px 1px rgba(60, 64, 67, 0.15);\n",
              "      fill: #174EA6;\n",
              "    }\n",
              "\n",
              "    [theme=dark] .colab-df-convert {\n",
              "      background-color: #3B4455;\n",
              "      fill: #D2E3FC;\n",
              "    }\n",
              "\n",
              "    [theme=dark] .colab-df-convert:hover {\n",
              "      background-color: #434B5C;\n",
              "      box-shadow: 0px 1px 3px 1px rgba(0, 0, 0, 0.15);\n",
              "      filter: drop-shadow(0px 1px 2px rgba(0, 0, 0, 0.3));\n",
              "      fill: #FFFFFF;\n",
              "    }\n",
              "  </style>\n",
              "\n",
              "      <script>\n",
              "        const buttonEl =\n",
              "          document.querySelector('#df-1a76c2a0-929f-4dbb-8834-9e4d45eff23e button.colab-df-convert');\n",
              "        buttonEl.style.display =\n",
              "          google.colab.kernel.accessAllowed ? 'block' : 'none';\n",
              "\n",
              "        async function convertToInteractive(key) {\n",
              "          const element = document.querySelector('#df-1a76c2a0-929f-4dbb-8834-9e4d45eff23e');\n",
              "          const dataTable =\n",
              "            await google.colab.kernel.invokeFunction('convertToInteractive',\n",
              "                                                     [key], {});\n",
              "          if (!dataTable) return;\n",
              "\n",
              "          const docLinkHtml = 'Like what you see? Visit the ' +\n",
              "            '<a target=\"_blank\" href=https://colab.research.google.com/notebooks/data_table.ipynb>data table notebook</a>'\n",
              "            + ' to learn more about interactive tables.';\n",
              "          element.innerHTML = '';\n",
              "          dataTable['output_type'] = 'display_data';\n",
              "          await google.colab.output.renderOutput(dataTable, element);\n",
              "          const docLink = document.createElement('div');\n",
              "          docLink.innerHTML = docLinkHtml;\n",
              "          element.appendChild(docLink);\n",
              "        }\n",
              "      </script>\n",
              "    </div>\n",
              "  </div>\n",
              "  "
            ]
          },
          "metadata": {},
          "execution_count": 39
        }
      ],
      "source": [
        "# The \"tidy_data\" after removing potential outliers.\n",
        "print('shape:', tidy_data.shape)\n",
        "tidy_data"
      ]
    },
    {
      "cell_type": "code",
      "execution_count": 40,
      "metadata": {
        "id": "T-IFrCHq9lsG"
      },
      "outputs": [],
      "source": [
        "Life_Expectancy = tidy_data['Life Expectancy']\n",
        "Capita_Per_GDP = tidy_data['Per Capita GDP']\n",
        "Total_Carbon_Footprint = tidy_data['Total Carbon Footprint']"
      ]
    },
    {
      "cell_type": "code",
      "execution_count": 41,
      "metadata": {
        "colab": {
          "base_uri": "https://localhost:8080/",
          "height": 295
        },
        "outputId": "a655f028-911f-4d52-f194-e7e7e1f831e9",
        "id": "NtRIb4Ne9lsH"
      },
      "outputs": [
        {
          "output_type": "display_data",
          "data": {
            "text/plain": [
              "<Figure size 432x288 with 1 Axes>"
            ],
            "image/png": "[encoded data removed]"
          },
          "metadata": {
            "needs_background": "light"
          }
        }
      ],
      "source": [
        "# Scatter Plot (\"Per Capita GDP\" vs. \"Life Expectancy\").\n",
        "plt.scatter(Capita_Per_GDP, Life_Expectancy)\n",
        "plt.xlabel('Per Capita GDP')\n",
        "plt.ylabel('Life Expectancy')\n",
        "plt.title('\"Per Capita GDP\" vs. \"Life Expectancy\"')\n",
        "plt.show()"
      ]
    },
    {
      "cell_type": "code",
      "execution_count": 42,
      "metadata": {
        "colab": {
          "base_uri": "https://localhost:8080/",
          "height": 295
        },
        "outputId": "af059532-1012-47c7-bd35-038e130c6601",
        "id": "q9UzLap59lsH"
      },
      "outputs": [
        {
          "output_type": "display_data",
          "data": {
            "text/plain": [
              "<Figure size 432x288 with 1 Axes>"
            ],
            "image/png": "[encoded data removed]"
          },
          "metadata": {
            "needs_background": "light"
          }
        }
      ],
      "source": [
        "# Scatter Plot (\"Total Carbon Footprint\" vs. \"Life Expectancy\").\n",
        "plt.scatter(Total_Carbon_Footprint, Life_Expectancy)\n",
        "plt.xlabel('Total Carbon Footprint')\n",
        "plt.ylabel('Life Expectancy')\n",
        "plt.title('\"Total Carbon Footprint\" vs. \"Life Expectancy\"')\n",
        "plt.show()"
      ]
    },
    {
      "cell_type": "markdown",
      "metadata": {
        "id": "llGK73KVYGU3"
      },
      "source": [
        "### Using A Scaler"
      ]
    },
    {
      "cell_type": "code",
      "execution_count": 43,
      "metadata": {
        "colab": {
          "base_uri": "https://localhost:8080/",
          "height": 424
        },
        "id": "RZU9Szh3XLjk",
        "outputId": "bdfc61a1-0e21-4e08-8839-1386a47e7691"
      },
      "outputs": [
        {
          "output_type": "execute_result",
          "data": {
            "text/plain": [
              "     Life Expectancy  Per Capita GDP  Total Carbon Footprint\n",
              "0               64.0           565.0                     0.3\n",
              "1               78.0          5046.0                     1.5\n",
              "2               77.0          4760.0                     2.5\n",
              "3               61.0          3234.0                     0.4\n",
              "4               77.0         15135.0                     0.0\n",
              "..               ...             ...                     ...\n",
              "134             78.0         14618.0                     1.2\n",
              "135             72.0          2409.0                     2.5\n",
              "136             70.0          2865.0                     0.0\n",
              "137             75.0          1968.0                     2.1\n",
              "138             66.0           633.0                     0.3\n",
              "\n",
              "[139 rows x 3 columns]"
            ],
            "text/html": [
              "\n",
              "  <div id=\"df-c4f1d41d-6a14-4822-b2f6-646d9c5827be\">\n",
              "    <div class=\"colab-df-container\">\n",
              "      <div>\n",
              "<style scoped>\n",
              "    .dataframe tbody tr th:only-of-type {\n",
              "        vertical-align: middle;\n",
              "    }\n",
              "\n",
              "    .dataframe tbody tr th {\n",
              "        vertical-align: top;\n",
              "    }\n",
              "\n",
              "    .dataframe thead th {\n",
              "        text-align: right;\n",
              "    }\n",
              "</style>\n",
              "<table border=\"1\" class=\"dataframe\">\n",
              "  <thead>\n",
              "    <tr style=\"text-align: right;\">\n",
              "      <th></th>\n",
              "      <th>Life Expectancy</th>\n",
              "      <th>Per Capita GDP</th>\n",
              "      <th>Total Carbon Footprint</th>\n",
              "    </tr>\n",
              "  </thead>\n",
              "  <tbody>\n",
              "    <tr>\n",
              "      <th>0</th>\n",
              "      <td>64.0</td>\n",
              "      <td>565.0</td>\n",
              "      <td>0.3</td>\n",
              "    </tr>\n",
              "    <tr>\n",
              "      <th>1</th>\n",
              "      <td>78.0</td>\n",
              "      <td>5046.0</td>\n",
              "      <td>1.5</td>\n",
              "    </tr>\n",
              "    <tr>\n",
              "      <th>2</th>\n",
              "      <td>77.0</td>\n",
              "      <td>4760.0</td>\n",
              "      <td>2.5</td>\n",
              "    </tr>\n",
              "    <tr>\n",
              "      <th>3</th>\n",
              "      <td>61.0</td>\n",
              "      <td>3234.0</td>\n",
              "      <td>0.4</td>\n",
              "    </tr>\n",
              "    <tr>\n",
              "      <th>4</th>\n",
              "      <td>77.0</td>\n",
              "      <td>15135.0</td>\n",
              "      <td>0.0</td>\n",
              "    </tr>\n",
              "    <tr>\n",
              "      <th>...</th>\n",
              "      <td>...</td>\n",
              "      <td>...</td>\n",
              "      <td>...</td>\n",
              "    </tr>\n",
              "    <tr>\n",
              "      <th>134</th>\n",
              "      <td>78.0</td>\n",
              "      <td>14618.0</td>\n",
              "      <td>1.2</td>\n",
              "    </tr>\n",
              "    <tr>\n",
              "      <th>135</th>\n",
              "      <td>72.0</td>\n",
              "      <td>2409.0</td>\n",
              "      <td>2.5</td>\n",
              "    </tr>\n",
              "    <tr>\n",
              "      <th>136</th>\n",
              "      <td>70.0</td>\n",
              "      <td>2865.0</td>\n",
              "      <td>0.0</td>\n",
              "    </tr>\n",
              "    <tr>\n",
              "      <th>137</th>\n",
              "      <td>75.0</td>\n",
              "      <td>1968.0</td>\n",
              "      <td>2.1</td>\n",
              "    </tr>\n",
              "    <tr>\n",
              "      <th>138</th>\n",
              "      <td>66.0</td>\n",
              "      <td>633.0</td>\n",
              "      <td>0.3</td>\n",
              "    </tr>\n",
              "  </tbody>\n",
              "</table>\n",
              "<p>139 rows × 3 columns</p>\n",
              "</div>\n",
              "      <button class=\"colab-df-convert\" onclick=\"convertToInteractive('df-c4f1d41d-6a14-4822-b2f6-646d9c5827be')\"\n",
              "              title=\"Convert this dataframe to an interactive table.\"\n",
              "              style=\"display:none;\">\n",
              "        \n",
              "  <svg xmlns=\"http://www.w3.org/2000/svg\" height=\"24px\"viewBox=\"0 0 24 24\"\n",
              "       width=\"24px\">\n",
              "    <path d=\"M0 0h24v24H0V0z\" fill=\"none\"/>\n",
              "    <path d=\"M18.56 5.44l.94 2.06.94-2.06 2.06-.94-2.06-.94-.94-2.06-.94 2.06-2.06.94zm-11 1L8.5 8.5l.94-2.06 2.06-.94-2.06-.94L8.5 2.5l-.94 2.06-2.06.94zm10 10l.94 2.06.94-2.06 2.06-.94-2.06-.94-.94-2.06-.94 2.06-2.06.94z\"/><path d=\"M17.41 7.96l-1.37-1.37c-.4-.4-.92-.59-1.43-.59-.52 0-1.04.2-1.43.59L10.3 9.45l-7.72 7.72c-.78.78-.78 2.05 0 2.83L4 21.41c.39.39.9.59 1.41.59.51 0 1.02-.2 1.41-.59l7.78-7.78 2.81-2.81c.8-.78.8-2.07 0-2.86zM5.41 20L4 18.59l7.72-7.72 1.47 1.35L5.41 20z\"/>\n",
              "  </svg>\n",
              "      </button>\n",
              "      \n",
              "  <style>\n",
              "    .colab-df-container {\n",
              "      display:flex;\n",
              "      flex-wrap:wrap;\n",
              "      gap: 12px;\n",
              "    }\n",
              "\n",
              "    .colab-df-convert {\n",
              "      background-color: #E8F0FE;\n",
              "      border: none;\n",
              "      border-radius: 50%;\n",
              "      cursor: pointer;\n",
              "      display: none;\n",
              "      fill: #1967D2;\n",
              "      height: 32px;\n",
              "      padding: 0 0 0 0;\n",
              "      width: 32px;\n",
              "    }\n",
              "\n",
              "    .colab-df-convert:hover {\n",
              "      background-color: #E2EBFA;\n",
              "      box-shadow: 0px 1px 2px rgba(60, 64, 67, 0.3), 0px 1px 3px 1px rgba(60, 64, 67, 0.15);\n",
              "      fill: #174EA6;\n",
              "    }\n",
              "\n",
              "    [theme=dark] .colab-df-convert {\n",
              "      background-color: #3B4455;\n",
              "      fill: #D2E3FC;\n",
              "    }\n",
              "\n",
              "    [theme=dark] .colab-df-convert:hover {\n",
              "      background-color: #434B5C;\n",
              "      box-shadow: 0px 1px 3px 1px rgba(0, 0, 0, 0.15);\n",
              "      filter: drop-shadow(0px 1px 2px rgba(0, 0, 0, 0.3));\n",
              "      fill: #FFFFFF;\n",
              "    }\n",
              "  </style>\n",
              "\n",
              "      <script>\n",
              "        const buttonEl =\n",
              "          document.querySelector('#df-c4f1d41d-6a14-4822-b2f6-646d9c5827be button.colab-df-convert');\n",
              "        buttonEl.style.display =\n",
              "          google.colab.kernel.accessAllowed ? 'block' : 'none';\n",
              "\n",
              "        async function convertToInteractive(key) {\n",
              "          const element = document.querySelector('#df-c4f1d41d-6a14-4822-b2f6-646d9c5827be');\n",
              "          const dataTable =\n",
              "            await google.colab.kernel.invokeFunction('convertToInteractive',\n",
              "                                                     [key], {});\n",
              "          if (!dataTable) return;\n",
              "\n",
              "          const docLinkHtml = 'Like what you see? Visit the ' +\n",
              "            '<a target=\"_blank\" href=https://colab.research.google.com/notebooks/data_table.ipynb>data table notebook</a>'\n",
              "            + ' to learn more about interactive tables.';\n",
              "          element.innerHTML = '';\n",
              "          dataTable['output_type'] = 'display_data';\n",
              "          await google.colab.output.renderOutput(dataTable, element);\n",
              "          const docLink = document.createElement('div');\n",
              "          docLink.innerHTML = docLinkHtml;\n",
              "          element.appendChild(docLink);\n",
              "        }\n",
              "      </script>\n",
              "    </div>\n",
              "  </div>\n",
              "  "
            ]
          },
          "metadata": {},
          "execution_count": 43
        }
      ],
      "source": [
        "# The \"tidy_data\" before applying a scaler.\n",
        "tidy_data"
      ]
    },
    {
      "cell_type": "code",
      "execution_count": 44,
      "metadata": {
        "id": "rbEaankFSGWb"
      },
      "outputs": [],
      "source": [
        "# Imoprt the requred python modules.\n",
        "import pandas as pd\n",
        "from sklearn.preprocessing import StandardScaler"
      ]
    },
    {
      "cell_type": "code",
      "execution_count": 45,
      "metadata": {
        "colab": {
          "base_uri": "https://localhost:8080/",
          "height": 206
        },
        "id": "bxCfnEdPWsed",
        "outputId": "8ce2afc1-aa94-4277-a757-5af5ce80f286"
      },
      "outputs": [
        {
          "output_type": "execute_result",
          "data": {
            "text/plain": [
              "   Life Expectancy  Per Capita GDP  Total Carbon Footprint\n",
              "0        -0.977251       -0.810562               -0.806505\n",
              "1         1.001657       -0.235298               -0.175820\n",
              "2         0.860306       -0.272014                0.349750\n",
              "3        -1.401303       -0.467920               -0.753948\n",
              "4         0.860306        1.059914               -0.964176"
            ],
            "text/html": [
              "\n",
              "  <div id=\"df-353da455-9b0f-48bf-9e33-8dcdaea66db7\">\n",
              "    <div class=\"colab-df-container\">\n",
              "      <div>\n",
              "<style scoped>\n",
              "    .dataframe tbody tr th:only-of-type {\n",
              "        vertical-align: middle;\n",
              "    }\n",
              "\n",
              "    .dataframe tbody tr th {\n",
              "        vertical-align: top;\n",
              "    }\n",
              "\n",
              "    .dataframe thead th {\n",
              "        text-align: right;\n",
              "    }\n",
              "</style>\n",
              "<table border=\"1\" class=\"dataframe\">\n",
              "  <thead>\n",
              "    <tr style=\"text-align: right;\">\n",
              "      <th></th>\n",
              "      <th>Life Expectancy</th>\n",
              "      <th>Per Capita GDP</th>\n",
              "      <th>Total Carbon Footprint</th>\n",
              "    </tr>\n",
              "  </thead>\n",
              "  <tbody>\n",
              "    <tr>\n",
              "      <th>0</th>\n",
              "      <td>-0.977251</td>\n",
              "      <td>-0.810562</td>\n",
              "      <td>-0.806505</td>\n",
              "    </tr>\n",
              "    <tr>\n",
              "      <th>1</th>\n",
              "      <td>1.001657</td>\n",
              "      <td>-0.235298</td>\n",
              "      <td>-0.175820</td>\n",
              "    </tr>\n",
              "    <tr>\n",
              "      <th>2</th>\n",
              "      <td>0.860306</td>\n",
              "      <td>-0.272014</td>\n",
              "      <td>0.349750</td>\n",
              "    </tr>\n",
              "    <tr>\n",
              "      <th>3</th>\n",
              "      <td>-1.401303</td>\n",
              "      <td>-0.467920</td>\n",
              "      <td>-0.753948</td>\n",
              "    </tr>\n",
              "    <tr>\n",
              "      <th>4</th>\n",
              "      <td>0.860306</td>\n",
              "      <td>1.059914</td>\n",
              "      <td>-0.964176</td>\n",
              "    </tr>\n",
              "  </tbody>\n",
              "</table>\n",
              "</div>\n",
              "      <button class=\"colab-df-convert\" onclick=\"convertToInteractive('df-353da455-9b0f-48bf-9e33-8dcdaea66db7')\"\n",
              "              title=\"Convert this dataframe to an interactive table.\"\n",
              "              style=\"display:none;\">\n",
              "        \n",
              "  <svg xmlns=\"http://www.w3.org/2000/svg\" height=\"24px\"viewBox=\"0 0 24 24\"\n",
              "       width=\"24px\">\n",
              "    <path d=\"M0 0h24v24H0V0z\" fill=\"none\"/>\n",
              "    <path d=\"M18.56 5.44l.94 2.06.94-2.06 2.06-.94-2.06-.94-.94-2.06-.94 2.06-2.06.94zm-11 1L8.5 8.5l.94-2.06 2.06-.94-2.06-.94L8.5 2.5l-.94 2.06-2.06.94zm10 10l.94 2.06.94-2.06 2.06-.94-2.06-.94-.94-2.06-.94 2.06-2.06.94z\"/><path d=\"M17.41 7.96l-1.37-1.37c-.4-.4-.92-.59-1.43-.59-.52 0-1.04.2-1.43.59L10.3 9.45l-7.72 7.72c-.78.78-.78 2.05 0 2.83L4 21.41c.39.39.9.59 1.41.59.51 0 1.02-.2 1.41-.59l7.78-7.78 2.81-2.81c.8-.78.8-2.07 0-2.86zM5.41 20L4 18.59l7.72-7.72 1.47 1.35L5.41 20z\"/>\n",
              "  </svg>\n",
              "      </button>\n",
              "      \n",
              "  <style>\n",
              "    .colab-df-container {\n",
              "      display:flex;\n",
              "      flex-wrap:wrap;\n",
              "      gap: 12px;\n",
              "    }\n",
              "\n",
              "    .colab-df-convert {\n",
              "      background-color: #E8F0FE;\n",
              "      border: none;\n",
              "      border-radius: 50%;\n",
              "      cursor: pointer;\n",
              "      display: none;\n",
              "      fill: #1967D2;\n",
              "      height: 32px;\n",
              "      padding: 0 0 0 0;\n",
              "      width: 32px;\n",
              "    }\n",
              "\n",
              "    .colab-df-convert:hover {\n",
              "      background-color: #E2EBFA;\n",
              "      box-shadow: 0px 1px 2px rgba(60, 64, 67, 0.3), 0px 1px 3px 1px rgba(60, 64, 67, 0.15);\n",
              "      fill: #174EA6;\n",
              "    }\n",
              "\n",
              "    [theme=dark] .colab-df-convert {\n",
              "      background-color: #3B4455;\n",
              "      fill: #D2E3FC;\n",
              "    }\n",
              "\n",
              "    [theme=dark] .colab-df-convert:hover {\n",
              "      background-color: #434B5C;\n",
              "      box-shadow: 0px 1px 3px 1px rgba(0, 0, 0, 0.15);\n",
              "      filter: drop-shadow(0px 1px 2px rgba(0, 0, 0, 0.3));\n",
              "      fill: #FFFFFF;\n",
              "    }\n",
              "  </style>\n",
              "\n",
              "      <script>\n",
              "        const buttonEl =\n",
              "          document.querySelector('#df-353da455-9b0f-48bf-9e33-8dcdaea66db7 button.colab-df-convert');\n",
              "        buttonEl.style.display =\n",
              "          google.colab.kernel.accessAllowed ? 'block' : 'none';\n",
              "\n",
              "        async function convertToInteractive(key) {\n",
              "          const element = document.querySelector('#df-353da455-9b0f-48bf-9e33-8dcdaea66db7');\n",
              "          const dataTable =\n",
              "            await google.colab.kernel.invokeFunction('convertToInteractive',\n",
              "                                                     [key], {});\n",
              "          if (!dataTable) return;\n",
              "\n",
              "          const docLinkHtml = 'Like what you see? Visit the ' +\n",
              "            '<a target=\"_blank\" href=https://colab.research.google.com/notebooks/data_table.ipynb>data table notebook</a>'\n",
              "            + ' to learn more about interactive tables.';\n",
              "          element.innerHTML = '';\n",
              "          dataTable['output_type'] = 'display_data';\n",
              "          await google.colab.output.renderOutput(dataTable, element);\n",
              "          const docLink = document.createElement('div');\n",
              "          docLink.innerHTML = docLinkHtml;\n",
              "          element.appendChild(docLink);\n",
              "        }\n",
              "      </script>\n",
              "    </div>\n",
              "  </div>\n",
              "  "
            ]
          },
          "metadata": {},
          "execution_count": 45
        }
      ],
      "source": [
        "# Perform the standard scaling\n",
        "std_scale = StandardScaler().fit_transform(tidy_data)\n",
        "scaled_frame = pd.DataFrame(std_scale, columns = tidy_data.columns)\n",
        "\n",
        "scaled_tidy_data = scaled_frame;\n",
        "scaled_tidy_data.head()"
      ]
    },
    {
      "cell_type": "markdown",
      "metadata": {
        "id": "R8qyQgbmtChg"
      },
      "source": [
        "### Tidy Data"
      ]
    },
    {
      "cell_type": "markdown",
      "source": [
        "After doing the following:\n",
        "* Removing Unnecessary Columns\n",
        "* Resolving Null Values\n",
        "* Removing Potential Outliers\n",
        "* Using A Scaler"
      ],
      "metadata": {
        "id": "dJEhwka64Clv"
      }
    },
    {
      "cell_type": "markdown",
      "source": [
        "The Tidy Data can now be used and accessed via the \"scaled_tidy_data\" variable."
      ],
      "metadata": {
        "id": "zdusR9Ca4VfW"
      }
    },
    {
      "cell_type": "code",
      "source": [
        "print('shape:', scaled_tidy_data.shape)\n",
        "scaled_tidy_data"
      ],
      "metadata": {
        "colab": {
          "base_uri": "https://localhost:8080/",
          "height": 441
        },
        "id": "hdi745fM4B_z",
        "outputId": "8eede3c5-d102-4654-900e-0335a0595c4d"
      },
      "execution_count": 46,
      "outputs": [
        {
          "output_type": "stream",
          "name": "stdout",
          "text": [
            "shape: (139, 3)\n"
          ]
        },
        {
          "output_type": "execute_result",
          "data": {
            "text/plain": [
              "     Life Expectancy  Per Capita GDP  Total Carbon Footprint\n",
              "0          -0.977251       -0.810562               -0.806505\n",
              "1           1.001657       -0.235298               -0.175820\n",
              "2           0.860306       -0.272014                0.349750\n",
              "3          -1.401303       -0.467920               -0.753948\n",
              "4           0.860306        1.059914               -0.964176\n",
              "..               ...             ...                     ...\n",
              "134         1.001657        0.993543               -0.333491\n",
              "135         0.153553       -0.573832                0.349750\n",
              "136        -0.129148       -0.515292               -0.964176\n",
              "137         0.577605       -0.630447                0.139522\n",
              "138        -0.694550       -0.801833               -0.806505\n",
              "\n",
              "[139 rows x 3 columns]"
            ],
            "text/html": [
              "\n",
              "  <div id=\"df-02f37a23-3f9b-4985-ba33-83b1ae75d56e\">\n",
              "    <div class=\"colab-df-container\">\n",
              "      <div>\n",
              "<style scoped>\n",
              "    .dataframe tbody tr th:only-of-type {\n",
              "        vertical-align: middle;\n",
              "    }\n",
              "\n",
              "    .dataframe tbody tr th {\n",
              "        vertical-align: top;\n",
              "    }\n",
              "\n",
              "    .dataframe thead th {\n",
              "        text-align: right;\n",
              "    }\n",
              "</style>\n",
              "<table border=\"1\" class=\"dataframe\">\n",
              "  <thead>\n",
              "    <tr style=\"text-align: right;\">\n",
              "      <th></th>\n",
              "      <th>Life Expectancy</th>\n",
              "      <th>Per Capita GDP</th>\n",
              "      <th>Total Carbon Footprint</th>\n",
              "    </tr>\n",
              "  </thead>\n",
              "  <tbody>\n",
              "    <tr>\n",
              "      <th>0</th>\n",
              "      <td>-0.977251</td>\n",
              "      <td>-0.810562</td>\n",
              "      <td>-0.806505</td>\n",
              "    </tr>\n",
              "    <tr>\n",
              "      <th>1</th>\n",
              "      <td>1.001657</td>\n",
              "      <td>-0.235298</td>\n",
              "      <td>-0.175820</td>\n",
              "    </tr>\n",
              "    <tr>\n",
              "      <th>2</th>\n",
              "      <td>0.860306</td>\n",
              "      <td>-0.272014</td>\n",
              "      <td>0.349750</td>\n",
              "    </tr>\n",
              "    <tr>\n",
              "      <th>3</th>\n",
              "      <td>-1.401303</td>\n",
              "      <td>-0.467920</td>\n",
              "      <td>-0.753948</td>\n",
              "    </tr>\n",
              "    <tr>\n",
              "      <th>4</th>\n",
              "      <td>0.860306</td>\n",
              "      <td>1.059914</td>\n",
              "      <td>-0.964176</td>\n",
              "    </tr>\n",
              "    <tr>\n",
              "      <th>...</th>\n",
              "      <td>...</td>\n",
              "      <td>...</td>\n",
              "      <td>...</td>\n",
              "    </tr>\n",
              "    <tr>\n",
              "      <th>134</th>\n",
              "      <td>1.001657</td>\n",
              "      <td>0.993543</td>\n",
              "      <td>-0.333491</td>\n",
              "    </tr>\n",
              "    <tr>\n",
              "      <th>135</th>\n",
              "      <td>0.153553</td>\n",
              "      <td>-0.573832</td>\n",
              "      <td>0.349750</td>\n",
              "    </tr>\n",
              "    <tr>\n",
              "      <th>136</th>\n",
              "      <td>-0.129148</td>\n",
              "      <td>-0.515292</td>\n",
              "      <td>-0.964176</td>\n",
              "    </tr>\n",
              "    <tr>\n",
              "      <th>137</th>\n",
              "      <td>0.577605</td>\n",
              "      <td>-0.630447</td>\n",
              "      <td>0.139522</td>\n",
              "    </tr>\n",
              "    <tr>\n",
              "      <th>138</th>\n",
              "      <td>-0.694550</td>\n",
              "      <td>-0.801833</td>\n",
              "      <td>-0.806505</td>\n",
              "    </tr>\n",
              "  </tbody>\n",
              "</table>\n",
              "<p>139 rows × 3 columns</p>\n",
              "</div>\n",
              "      <button class=\"colab-df-convert\" onclick=\"convertToInteractive('df-02f37a23-3f9b-4985-ba33-83b1ae75d56e')\"\n",
              "              title=\"Convert this dataframe to an interactive table.\"\n",
              "              style=\"display:none;\">\n",
              "        \n",
              "  <svg xmlns=\"http://www.w3.org/2000/svg\" height=\"24px\"viewBox=\"0 0 24 24\"\n",
              "       width=\"24px\">\n",
              "    <path d=\"M0 0h24v24H0V0z\" fill=\"none\"/>\n",
              "    <path d=\"M18.56 5.44l.94 2.06.94-2.06 2.06-.94-2.06-.94-.94-2.06-.94 2.06-2.06.94zm-11 1L8.5 8.5l.94-2.06 2.06-.94-2.06-.94L8.5 2.5l-.94 2.06-2.06.94zm10 10l.94 2.06.94-2.06 2.06-.94-2.06-.94-.94-2.06-.94 2.06-2.06.94z\"/><path d=\"M17.41 7.96l-1.37-1.37c-.4-.4-.92-.59-1.43-.59-.52 0-1.04.2-1.43.59L10.3 9.45l-7.72 7.72c-.78.78-.78 2.05 0 2.83L4 21.41c.39.39.9.59 1.41.59.51 0 1.02-.2 1.41-.59l7.78-7.78 2.81-2.81c.8-.78.8-2.07 0-2.86zM5.41 20L4 18.59l7.72-7.72 1.47 1.35L5.41 20z\"/>\n",
              "  </svg>\n",
              "      </button>\n",
              "      \n",
              "  <style>\n",
              "    .colab-df-container {\n",
              "      display:flex;\n",
              "      flex-wrap:wrap;\n",
              "      gap: 12px;\n",
              "    }\n",
              "\n",
              "    .colab-df-convert {\n",
              "      background-color: #E8F0FE;\n",
              "      border: none;\n",
              "      border-radius: 50%;\n",
              "      cursor: pointer;\n",
              "      display: none;\n",
              "      fill: #1967D2;\n",
              "      height: 32px;\n",
              "      padding: 0 0 0 0;\n",
              "      width: 32px;\n",
              "    }\n",
              "\n",
              "    .colab-df-convert:hover {\n",
              "      background-color: #E2EBFA;\n",
              "      box-shadow: 0px 1px 2px rgba(60, 64, 67, 0.3), 0px 1px 3px 1px rgba(60, 64, 67, 0.15);\n",
              "      fill: #174EA6;\n",
              "    }\n",
              "\n",
              "    [theme=dark] .colab-df-convert {\n",
              "      background-color: #3B4455;\n",
              "      fill: #D2E3FC;\n",
              "    }\n",
              "\n",
              "    [theme=dark] .colab-df-convert:hover {\n",
              "      background-color: #434B5C;\n",
              "      box-shadow: 0px 1px 3px 1px rgba(0, 0, 0, 0.15);\n",
              "      filter: drop-shadow(0px 1px 2px rgba(0, 0, 0, 0.3));\n",
              "      fill: #FFFFFF;\n",
              "    }\n",
              "  </style>\n",
              "\n",
              "      <script>\n",
              "        const buttonEl =\n",
              "          document.querySelector('#df-02f37a23-3f9b-4985-ba33-83b1ae75d56e button.colab-df-convert');\n",
              "        buttonEl.style.display =\n",
              "          google.colab.kernel.accessAllowed ? 'block' : 'none';\n",
              "\n",
              "        async function convertToInteractive(key) {\n",
              "          const element = document.querySelector('#df-02f37a23-3f9b-4985-ba33-83b1ae75d56e');\n",
              "          const dataTable =\n",
              "            await google.colab.kernel.invokeFunction('convertToInteractive',\n",
              "                                                     [key], {});\n",
              "          if (!dataTable) return;\n",
              "\n",
              "          const docLinkHtml = 'Like what you see? Visit the ' +\n",
              "            '<a target=\"_blank\" href=https://colab.research.google.com/notebooks/data_table.ipynb>data table notebook</a>'\n",
              "            + ' to learn more about interactive tables.';\n",
              "          element.innerHTML = '';\n",
              "          dataTable['output_type'] = 'display_data';\n",
              "          await google.colab.output.renderOutput(dataTable, element);\n",
              "          const docLink = document.createElement('div');\n",
              "          docLink.innerHTML = docLinkHtml;\n",
              "          element.appendChild(docLink);\n",
              "        }\n",
              "      </script>\n",
              "    </div>\n",
              "  </div>\n",
              "  "
            ]
          },
          "metadata": {},
          "execution_count": 46
        }
      ]
    },
    {
      "cell_type": "markdown",
      "metadata": {
        "id": "7Ls0L5bdXjm8"
      },
      "source": [
        "### Code Book"
      ]
    },
    {
      "cell_type": "markdown",
      "source": [
        "To recall:\n",
        "* Target variable: \"Life Expectancy\" column\n",
        "* Feature: \"Per Capita GDP\"\n",
        "* Feature: \"Total Carbon Footprint\"\n"
      ],
      "metadata": {
        "id": "ddrpF17NtXBr"
      }
    },
    {
      "cell_type": "markdown",
      "source": [
        "Definitions:\n",
        "* \"Life Expectancy\" : it is the statistical age that a person is expected to live until, based on actuarial data (unit: in Earth years).\n",
        "* \"Per Capita GDP\" : it is a financial metric that breaks down a country's economic output per person and is calculated by dividing the GDP of a nation by its population (unit: in US Dollar).\n",
        "* \"Total Carbon Footprint\" : it is the total amount of greenhouse gases (including carbon dioxide and methane) that are generated by our actions. Also, in this context, this is the sum of the carbon footprint generated by our ecological consumption and production (unit: metric tonnes)."
      ],
      "metadata": {
        "id": "dlYrdlDxtuVl"
      }
    },
    {
      "cell_type": "markdown",
      "source": [
        "Summary Procedures:\n",
        "* Simplified the original and complex main Excel file into a simpler and manageable Excel file.\n",
        "* Dropped the null values (instead of imputing it due to intuitiveness).\n",
        "* Removed outliers using interquartile range.\n",
        "* Used a StandardScaler.\n"
      ],
      "metadata": {
        "id": "WqIVgAVUvmuM"
      }
    },
    {
      "cell_type": "markdown",
      "source": [
        "Hence,"
      ],
      "metadata": {
        "id": "ommw5AzywoVM"
      }
    },
    {
      "cell_type": "markdown",
      "source": [
        "THE RAW DATA"
      ],
      "metadata": {
        "id": "eY25XQ4rwcO0"
      }
    },
    {
      "cell_type": "code",
      "source": [
        "raw_data"
      ],
      "metadata": {
        "colab": {
          "base_uri": "https://localhost:8080/",
          "height": 713
        },
        "id": "TwXw9zh0wf0z",
        "outputId": "f06d6945-fdc8-4e84-f994-8664696e1a61"
      },
      "execution_count": 47,
      "outputs": [
        {
          "output_type": "execute_result",
          "data": {
            "text/plain": [
              "                               Country Data Quality  SDGi  Life Expectancy  \\\n",
              "0                          Afghanistan           3A  53.9             64.0   \n",
              "1                              Albania           3A  71.0             78.0   \n",
              "2                              Algeria           3A  70.9             77.0   \n",
              "3                               Angola           3A  50.3             61.0   \n",
              "4                  Antigua and Barbuda           2B   NaN             77.0   \n",
              "..                                 ...          ...   ...              ...   \n",
              "179  Venezuela, Bolivarian Republic of           3A  59.3             72.0   \n",
              "180                           Viet Nam           3A  72.8             75.0   \n",
              "181                              Yemen           3A  52.9             66.0   \n",
              "182                             Zambia           3A  53.4              NaN   \n",
              "183                           Zimbabwe           3A  58.7              NaN   \n",
              "\n",
              "      HDI  Per Capita GDP                     Region Income Group  \\\n",
              "0    0.51           565.0   Middle East/Central Asia           LI   \n",
              "1    0.79          5046.0               Other Europe           UM   \n",
              "2    0.75          4760.0                     Africa           UM   \n",
              "3    0.58          3234.0                     Africa           LM   \n",
              "4    0.77         15135.0  Central America/Caribbean           HI   \n",
              "..    ...             ...                        ...          ...   \n",
              "179  0.73             NaN              South America           UM   \n",
              "180  0.70          1968.0               Asia-Pacific           LM   \n",
              "181  0.47           633.0   Middle East/Central Asia           LM   \n",
              "182  0.58          1678.0                     Africa           LM   \n",
              "183  0.57          1306.0                     Africa           LI   \n",
              "\n",
              "     Population (millions)  Cropland Footprint  ...  Cropland  Grazing land  \\\n",
              "0                     37.2                 0.1  ...       0.1           0.2   \n",
              "1                      2.9                 0.4  ...       0.4           0.2   \n",
              "2                     42.2                 0.2  ...       0.2           0.2   \n",
              "3                     30.8                 0.2  ...       0.2           0.9   \n",
              "4                      0.1                 NaN  ...       NaN           NaN   \n",
              "..                     ...                 ...  ...       ...           ...   \n",
              "179                   28.9                 0.1  ...       0.1           0.6   \n",
              "180                   95.5                 0.5  ...       0.5           0.0   \n",
              "181                   28.5                 0.0  ...       0.0           0.1   \n",
              "182                   17.4                 0.2  ...       0.2           0.8   \n",
              "183                   14.4                 0.2  ...       0.2           0.3   \n",
              "\n",
              "     Forest land  Fishing ground  Built up land.2  Total biocapacity   \\\n",
              "0            0.0             0.0              0.0                 0.3   \n",
              "1            0.3             0.1              0.0                 1.0   \n",
              "2            0.0             0.0              0.0                 0.6   \n",
              "3            0.5             0.2              0.0                 1.8   \n",
              "4            NaN             NaN              NaN                 0.9   \n",
              "..           ...             ...              ...                 ...   \n",
              "179          1.8             0.3              0.0                 2.8   \n",
              "180          0.2             0.2              0.1                 0.9   \n",
              "181          0.0             0.2              0.0                 0.4   \n",
              "182          0.7             0.0              0.0                 1.8   \n",
              "183          0.1             0.0              0.0                 0.6   \n",
              "\n",
              "     Ecological (Deficit) or Reserve  Number of Earths required  \\\n",
              "0                               -0.3                        0.4   \n",
              "1                               -0.9                        1.2   \n",
              "2                               -1.8                        1.5   \n",
              "3                                1.0                        0.5   \n",
              "4                               -3.8                        2.9   \n",
              "..                               ...                        ...   \n",
              "179                              0.4                        1.5   \n",
              "180                             -1.3                        1.4   \n",
              "181                             -0.1                        0.3   \n",
              "182                              0.5                        0.8   \n",
              "183                             -0.6                        0.8   \n",
              "\n",
              "     Number of Countries required  actual \\nCountry Overshoot Day \\n2018  \n",
              "0                             2.0                                    NaT  \n",
              "1                             1.9                             2018-11-03  \n",
              "2                             4.1                             2018-09-04  \n",
              "3                             0.5                                    NaT  \n",
              "4                             5.4                             2018-05-05  \n",
              "..                            ...                                    ...  \n",
              "179                           0.9                             2018-08-30  \n",
              "180                           2.4                             2018-09-12  \n",
              "181                           1.4                                    NaT  \n",
              "182                           0.7                                    NaT  \n",
              "183                           2.0                                    NaT  \n",
              "\n",
              "[184 rows x 33 columns]"
            ],
            "text/html": [
              "\n",
              "  <div id=\"df-52c5bb7c-d1f8-4ba4-ba77-7f1391f56e3a\">\n",
              "    <div class=\"colab-df-container\">\n",
              "      <div>\n",
              "<style scoped>\n",
              "    .dataframe tbody tr th:only-of-type {\n",
              "        vertical-align: middle;\n",
              "    }\n",
              "\n",
              "    .dataframe tbody tr th {\n",
              "        vertical-align: top;\n",
              "    }\n",
              "\n",
              "    .dataframe thead th {\n",
              "        text-align: right;\n",
              "    }\n",
              "</style>\n",
              "<table border=\"1\" class=\"dataframe\">\n",
              "  <thead>\n",
              "    <tr style=\"text-align: right;\">\n",
              "      <th></th>\n",
              "      <th>Country</th>\n",
              "      <th>Data Quality</th>\n",
              "      <th>SDGi</th>\n",
              "      <th>Life Expectancy</th>\n",
              "      <th>HDI</th>\n",
              "      <th>Per Capita GDP</th>\n",
              "      <th>Region</th>\n",
              "      <th>Income Group</th>\n",
              "      <th>Population (millions)</th>\n",
              "      <th>Cropland Footprint</th>\n",
              "      <th>...</th>\n",
              "      <th>Cropland</th>\n",
              "      <th>Grazing land</th>\n",
              "      <th>Forest land</th>\n",
              "      <th>Fishing ground</th>\n",
              "      <th>Built up land.2</th>\n",
              "      <th>Total biocapacity</th>\n",
              "      <th>Ecological (Deficit) or Reserve</th>\n",
              "      <th>Number of Earths required</th>\n",
              "      <th>Number of Countries required</th>\n",
              "      <th>actual \\nCountry Overshoot Day \\n2018</th>\n",
              "    </tr>\n",
              "  </thead>\n",
              "  <tbody>\n",
              "    <tr>\n",
              "      <th>0</th>\n",
              "      <td>Afghanistan</td>\n",
              "      <td>3A</td>\n",
              "      <td>53.9</td>\n",
              "      <td>64.0</td>\n",
              "      <td>0.51</td>\n",
              "      <td>565.0</td>\n",
              "      <td>Middle East/Central Asia</td>\n",
              "      <td>LI</td>\n",
              "      <td>37.2</td>\n",
              "      <td>0.1</td>\n",
              "      <td>...</td>\n",
              "      <td>0.1</td>\n",
              "      <td>0.2</td>\n",
              "      <td>0.0</td>\n",
              "      <td>0.0</td>\n",
              "      <td>0.0</td>\n",
              "      <td>0.3</td>\n",
              "      <td>-0.3</td>\n",
              "      <td>0.4</td>\n",
              "      <td>2.0</td>\n",
              "      <td>NaT</td>\n",
              "    </tr>\n",
              "    <tr>\n",
              "      <th>1</th>\n",
              "      <td>Albania</td>\n",
              "      <td>3A</td>\n",
              "      <td>71.0</td>\n",
              "      <td>78.0</td>\n",
              "      <td>0.79</td>\n",
              "      <td>5046.0</td>\n",
              "      <td>Other Europe</td>\n",
              "      <td>UM</td>\n",
              "      <td>2.9</td>\n",
              "      <td>0.4</td>\n",
              "      <td>...</td>\n",
              "      <td>0.4</td>\n",
              "      <td>0.2</td>\n",
              "      <td>0.3</td>\n",
              "      <td>0.1</td>\n",
              "      <td>0.0</td>\n",
              "      <td>1.0</td>\n",
              "      <td>-0.9</td>\n",
              "      <td>1.2</td>\n",
              "      <td>1.9</td>\n",
              "      <td>2018-11-03</td>\n",
              "    </tr>\n",
              "    <tr>\n",
              "      <th>2</th>\n",
              "      <td>Algeria</td>\n",
              "      <td>3A</td>\n",
              "      <td>70.9</td>\n",
              "      <td>77.0</td>\n",
              "      <td>0.75</td>\n",
              "      <td>4760.0</td>\n",
              "      <td>Africa</td>\n",
              "      <td>UM</td>\n",
              "      <td>42.2</td>\n",
              "      <td>0.2</td>\n",
              "      <td>...</td>\n",
              "      <td>0.2</td>\n",
              "      <td>0.2</td>\n",
              "      <td>0.0</td>\n",
              "      <td>0.0</td>\n",
              "      <td>0.0</td>\n",
              "      <td>0.6</td>\n",
              "      <td>-1.8</td>\n",
              "      <td>1.5</td>\n",
              "      <td>4.1</td>\n",
              "      <td>2018-09-04</td>\n",
              "    </tr>\n",
              "    <tr>\n",
              "      <th>3</th>\n",
              "      <td>Angola</td>\n",
              "      <td>3A</td>\n",
              "      <td>50.3</td>\n",
              "      <td>61.0</td>\n",
              "      <td>0.58</td>\n",
              "      <td>3234.0</td>\n",
              "      <td>Africa</td>\n",
              "      <td>LM</td>\n",
              "      <td>30.8</td>\n",
              "      <td>0.2</td>\n",
              "      <td>...</td>\n",
              "      <td>0.2</td>\n",
              "      <td>0.9</td>\n",
              "      <td>0.5</td>\n",
              "      <td>0.2</td>\n",
              "      <td>0.0</td>\n",
              "      <td>1.8</td>\n",
              "      <td>1.0</td>\n",
              "      <td>0.5</td>\n",
              "      <td>0.5</td>\n",
              "      <td>NaT</td>\n",
              "    </tr>\n",
              "    <tr>\n",
              "      <th>4</th>\n",
              "      <td>Antigua and Barbuda</td>\n",
              "      <td>2B</td>\n",
              "      <td>NaN</td>\n",
              "      <td>77.0</td>\n",
              "      <td>0.77</td>\n",
              "      <td>15135.0</td>\n",
              "      <td>Central America/Caribbean</td>\n",
              "      <td>HI</td>\n",
              "      <td>0.1</td>\n",
              "      <td>NaN</td>\n",
              "      <td>...</td>\n",
              "      <td>NaN</td>\n",
              "      <td>NaN</td>\n",
              "      <td>NaN</td>\n",
              "      <td>NaN</td>\n",
              "      <td>NaN</td>\n",
              "      <td>0.9</td>\n",
              "      <td>-3.8</td>\n",
              "      <td>2.9</td>\n",
              "      <td>5.4</td>\n",
              "      <td>2018-05-05</td>\n",
              "    </tr>\n",
              "    <tr>\n",
              "      <th>...</th>\n",
              "      <td>...</td>\n",
              "      <td>...</td>\n",
              "      <td>...</td>\n",
              "      <td>...</td>\n",
              "      <td>...</td>\n",
              "      <td>...</td>\n",
              "      <td>...</td>\n",
              "      <td>...</td>\n",
              "      <td>...</td>\n",
              "      <td>...</td>\n",
              "      <td>...</td>\n",
              "      <td>...</td>\n",
              "      <td>...</td>\n",
              "      <td>...</td>\n",
              "      <td>...</td>\n",
              "      <td>...</td>\n",
              "      <td>...</td>\n",
              "      <td>...</td>\n",
              "      <td>...</td>\n",
              "      <td>...</td>\n",
              "      <td>...</td>\n",
              "    </tr>\n",
              "    <tr>\n",
              "      <th>179</th>\n",
              "      <td>Venezuela, Bolivarian Republic of</td>\n",
              "      <td>3A</td>\n",
              "      <td>59.3</td>\n",
              "      <td>72.0</td>\n",
              "      <td>0.73</td>\n",
              "      <td>NaN</td>\n",
              "      <td>South America</td>\n",
              "      <td>UM</td>\n",
              "      <td>28.9</td>\n",
              "      <td>0.1</td>\n",
              "      <td>...</td>\n",
              "      <td>0.1</td>\n",
              "      <td>0.6</td>\n",
              "      <td>1.8</td>\n",
              "      <td>0.3</td>\n",
              "      <td>0.0</td>\n",
              "      <td>2.8</td>\n",
              "      <td>0.4</td>\n",
              "      <td>1.5</td>\n",
              "      <td>0.9</td>\n",
              "      <td>2018-08-30</td>\n",
              "    </tr>\n",
              "    <tr>\n",
              "      <th>180</th>\n",
              "      <td>Viet Nam</td>\n",
              "      <td>3A</td>\n",
              "      <td>72.8</td>\n",
              "      <td>75.0</td>\n",
              "      <td>0.70</td>\n",
              "      <td>1968.0</td>\n",
              "      <td>Asia-Pacific</td>\n",
              "      <td>LM</td>\n",
              "      <td>95.5</td>\n",
              "      <td>0.5</td>\n",
              "      <td>...</td>\n",
              "      <td>0.5</td>\n",
              "      <td>0.0</td>\n",
              "      <td>0.2</td>\n",
              "      <td>0.2</td>\n",
              "      <td>0.1</td>\n",
              "      <td>0.9</td>\n",
              "      <td>-1.3</td>\n",
              "      <td>1.4</td>\n",
              "      <td>2.4</td>\n",
              "      <td>2018-09-12</td>\n",
              "    </tr>\n",
              "    <tr>\n",
              "      <th>181</th>\n",
              "      <td>Yemen</td>\n",
              "      <td>3A</td>\n",
              "      <td>52.9</td>\n",
              "      <td>66.0</td>\n",
              "      <td>0.47</td>\n",
              "      <td>633.0</td>\n",
              "      <td>Middle East/Central Asia</td>\n",
              "      <td>LM</td>\n",
              "      <td>28.5</td>\n",
              "      <td>0.0</td>\n",
              "      <td>...</td>\n",
              "      <td>0.0</td>\n",
              "      <td>0.1</td>\n",
              "      <td>0.0</td>\n",
              "      <td>0.2</td>\n",
              "      <td>0.0</td>\n",
              "      <td>0.4</td>\n",
              "      <td>-0.1</td>\n",
              "      <td>0.3</td>\n",
              "      <td>1.4</td>\n",
              "      <td>NaT</td>\n",
              "    </tr>\n",
              "    <tr>\n",
              "      <th>182</th>\n",
              "      <td>Zambia</td>\n",
              "      <td>3A</td>\n",
              "      <td>53.4</td>\n",
              "      <td>NaN</td>\n",
              "      <td>0.58</td>\n",
              "      <td>1678.0</td>\n",
              "      <td>Africa</td>\n",
              "      <td>LM</td>\n",
              "      <td>17.4</td>\n",
              "      <td>0.2</td>\n",
              "      <td>...</td>\n",
              "      <td>0.2</td>\n",
              "      <td>0.8</td>\n",
              "      <td>0.7</td>\n",
              "      <td>0.0</td>\n",
              "      <td>0.0</td>\n",
              "      <td>1.8</td>\n",
              "      <td>0.5</td>\n",
              "      <td>0.8</td>\n",
              "      <td>0.7</td>\n",
              "      <td>NaT</td>\n",
              "    </tr>\n",
              "    <tr>\n",
              "      <th>183</th>\n",
              "      <td>Zimbabwe</td>\n",
              "      <td>3A</td>\n",
              "      <td>58.7</td>\n",
              "      <td>NaN</td>\n",
              "      <td>0.57</td>\n",
              "      <td>1306.0</td>\n",
              "      <td>Africa</td>\n",
              "      <td>LI</td>\n",
              "      <td>14.4</td>\n",
              "      <td>0.2</td>\n",
              "      <td>...</td>\n",
              "      <td>0.2</td>\n",
              "      <td>0.3</td>\n",
              "      <td>0.1</td>\n",
              "      <td>0.0</td>\n",
              "      <td>0.0</td>\n",
              "      <td>0.6</td>\n",
              "      <td>-0.6</td>\n",
              "      <td>0.8</td>\n",
              "      <td>2.0</td>\n",
              "      <td>NaT</td>\n",
              "    </tr>\n",
              "  </tbody>\n",
              "</table>\n",
              "<p>184 rows × 33 columns</p>\n",
              "</div>\n",
              "      <button class=\"colab-df-convert\" onclick=\"convertToInteractive('df-52c5bb7c-d1f8-4ba4-ba77-7f1391f56e3a')\"\n",
              "              title=\"Convert this dataframe to an interactive table.\"\n",
              "              style=\"display:none;\">\n",
              "        \n",
              "  <svg xmlns=\"http://www.w3.org/2000/svg\" height=\"24px\"viewBox=\"0 0 24 24\"\n",
              "       width=\"24px\">\n",
              "    <path d=\"M0 0h24v24H0V0z\" fill=\"none\"/>\n",
              "    <path d=\"M18.56 5.44l.94 2.06.94-2.06 2.06-.94-2.06-.94-.94-2.06-.94 2.06-2.06.94zm-11 1L8.5 8.5l.94-2.06 2.06-.94-2.06-.94L8.5 2.5l-.94 2.06-2.06.94zm10 10l.94 2.06.94-2.06 2.06-.94-2.06-.94-.94-2.06-.94 2.06-2.06.94z\"/><path d=\"M17.41 7.96l-1.37-1.37c-.4-.4-.92-.59-1.43-.59-.52 0-1.04.2-1.43.59L10.3 9.45l-7.72 7.72c-.78.78-.78 2.05 0 2.83L4 21.41c.39.39.9.59 1.41.59.51 0 1.02-.2 1.41-.59l7.78-7.78 2.81-2.81c.8-.78.8-2.07 0-2.86zM5.41 20L4 18.59l7.72-7.72 1.47 1.35L5.41 20z\"/>\n",
              "  </svg>\n",
              "      </button>\n",
              "      \n",
              "  <style>\n",
              "    .colab-df-container {\n",
              "      display:flex;\n",
              "      flex-wrap:wrap;\n",
              "      gap: 12px;\n",
              "    }\n",
              "\n",
              "    .colab-df-convert {\n",
              "      background-color: #E8F0FE;\n",
              "      border: none;\n",
              "      border-radius: 50%;\n",
              "      cursor: pointer;\n",
              "      display: none;\n",
              "      fill: #1967D2;\n",
              "      height: 32px;\n",
              "      padding: 0 0 0 0;\n",
              "      width: 32px;\n",
              "    }\n",
              "\n",
              "    .colab-df-convert:hover {\n",
              "      background-color: #E2EBFA;\n",
              "      box-shadow: 0px 1px 2px rgba(60, 64, 67, 0.3), 0px 1px 3px 1px rgba(60, 64, 67, 0.15);\n",
              "      fill: #174EA6;\n",
              "    }\n",
              "\n",
              "    [theme=dark] .colab-df-convert {\n",
              "      background-color: #3B4455;\n",
              "      fill: #D2E3FC;\n",
              "    }\n",
              "\n",
              "    [theme=dark] .colab-df-convert:hover {\n",
              "      background-color: #434B5C;\n",
              "      box-shadow: 0px 1px 3px 1px rgba(0, 0, 0, 0.15);\n",
              "      filter: drop-shadow(0px 1px 2px rgba(0, 0, 0, 0.3));\n",
              "      fill: #FFFFFF;\n",
              "    }\n",
              "  </style>\n",
              "\n",
              "      <script>\n",
              "        const buttonEl =\n",
              "          document.querySelector('#df-52c5bb7c-d1f8-4ba4-ba77-7f1391f56e3a button.colab-df-convert');\n",
              "        buttonEl.style.display =\n",
              "          google.colab.kernel.accessAllowed ? 'block' : 'none';\n",
              "\n",
              "        async function convertToInteractive(key) {\n",
              "          const element = document.querySelector('#df-52c5bb7c-d1f8-4ba4-ba77-7f1391f56e3a');\n",
              "          const dataTable =\n",
              "            await google.colab.kernel.invokeFunction('convertToInteractive',\n",
              "                                                     [key], {});\n",
              "          if (!dataTable) return;\n",
              "\n",
              "          const docLinkHtml = 'Like what you see? Visit the ' +\n",
              "            '<a target=\"_blank\" href=https://colab.research.google.com/notebooks/data_table.ipynb>data table notebook</a>'\n",
              "            + ' to learn more about interactive tables.';\n",
              "          element.innerHTML = '';\n",
              "          dataTable['output_type'] = 'display_data';\n",
              "          await google.colab.output.renderOutput(dataTable, element);\n",
              "          const docLink = document.createElement('div');\n",
              "          docLink.innerHTML = docLinkHtml;\n",
              "          element.appendChild(docLink);\n",
              "        }\n",
              "      </script>\n",
              "    </div>\n",
              "  </div>\n",
              "  "
            ]
          },
          "metadata": {},
          "execution_count": 47
        }
      ]
    },
    {
      "cell_type": "markdown",
      "source": [
        "THE TIDY DATA"
      ],
      "metadata": {
        "id": "6a_VAZoXwiyO"
      }
    },
    {
      "cell_type": "code",
      "source": [
        "scaled_tidy_data"
      ],
      "metadata": {
        "colab": {
          "base_uri": "https://localhost:8080/",
          "height": 424
        },
        "id": "2lJ0dcc3wk0s",
        "outputId": "03bf7f5b-83cd-46a7-f9c6-2a530bca9c0f"
      },
      "execution_count": 48,
      "outputs": [
        {
          "output_type": "execute_result",
          "data": {
            "text/plain": [
              "     Life Expectancy  Per Capita GDP  Total Carbon Footprint\n",
              "0          -0.977251       -0.810562               -0.806505\n",
              "1           1.001657       -0.235298               -0.175820\n",
              "2           0.860306       -0.272014                0.349750\n",
              "3          -1.401303       -0.467920               -0.753948\n",
              "4           0.860306        1.059914               -0.964176\n",
              "..               ...             ...                     ...\n",
              "134         1.001657        0.993543               -0.333491\n",
              "135         0.153553       -0.573832                0.349750\n",
              "136        -0.129148       -0.515292               -0.964176\n",
              "137         0.577605       -0.630447                0.139522\n",
              "138        -0.694550       -0.801833               -0.806505\n",
              "\n",
              "[139 rows x 3 columns]"
            ],
            "text/html": [
              "\n",
              "  <div id=\"df-eed0d82a-0266-40c3-b805-6f730ac32b31\">\n",
              "    <div class=\"colab-df-container\">\n",
              "      <div>\n",
              "<style scoped>\n",
              "    .dataframe tbody tr th:only-of-type {\n",
              "        vertical-align: middle;\n",
              "    }\n",
              "\n",
              "    .dataframe tbody tr th {\n",
              "        vertical-align: top;\n",
              "    }\n",
              "\n",
              "    .dataframe thead th {\n",
              "        text-align: right;\n",
              "    }\n",
              "</style>\n",
              "<table border=\"1\" class=\"dataframe\">\n",
              "  <thead>\n",
              "    <tr style=\"text-align: right;\">\n",
              "      <th></th>\n",
              "      <th>Life Expectancy</th>\n",
              "      <th>Per Capita GDP</th>\n",
              "      <th>Total Carbon Footprint</th>\n",
              "    </tr>\n",
              "  </thead>\n",
              "  <tbody>\n",
              "    <tr>\n",
              "      <th>0</th>\n",
              "      <td>-0.977251</td>\n",
              "      <td>-0.810562</td>\n",
              "      <td>-0.806505</td>\n",
              "    </tr>\n",
              "    <tr>\n",
              "      <th>1</th>\n",
              "      <td>1.001657</td>\n",
              "      <td>-0.235298</td>\n",
              "      <td>-0.175820</td>\n",
              "    </tr>\n",
              "    <tr>\n",
              "      <th>2</th>\n",
              "      <td>0.860306</td>\n",
              "      <td>-0.272014</td>\n",
              "      <td>0.349750</td>\n",
              "    </tr>\n",
              "    <tr>\n",
              "      <th>3</th>\n",
              "      <td>-1.401303</td>\n",
              "      <td>-0.467920</td>\n",
              "      <td>-0.753948</td>\n",
              "    </tr>\n",
              "    <tr>\n",
              "      <th>4</th>\n",
              "      <td>0.860306</td>\n",
              "      <td>1.059914</td>\n",
              "      <td>-0.964176</td>\n",
              "    </tr>\n",
              "    <tr>\n",
              "      <th>...</th>\n",
              "      <td>...</td>\n",
              "      <td>...</td>\n",
              "      <td>...</td>\n",
              "    </tr>\n",
              "    <tr>\n",
              "      <th>134</th>\n",
              "      <td>1.001657</td>\n",
              "      <td>0.993543</td>\n",
              "      <td>-0.333491</td>\n",
              "    </tr>\n",
              "    <tr>\n",
              "      <th>135</th>\n",
              "      <td>0.153553</td>\n",
              "      <td>-0.573832</td>\n",
              "      <td>0.349750</td>\n",
              "    </tr>\n",
              "    <tr>\n",
              "      <th>136</th>\n",
              "      <td>-0.129148</td>\n",
              "      <td>-0.515292</td>\n",
              "      <td>-0.964176</td>\n",
              "    </tr>\n",
              "    <tr>\n",
              "      <th>137</th>\n",
              "      <td>0.577605</td>\n",
              "      <td>-0.630447</td>\n",
              "      <td>0.139522</td>\n",
              "    </tr>\n",
              "    <tr>\n",
              "      <th>138</th>\n",
              "      <td>-0.694550</td>\n",
              "      <td>-0.801833</td>\n",
              "      <td>-0.806505</td>\n",
              "    </tr>\n",
              "  </tbody>\n",
              "</table>\n",
              "<p>139 rows × 3 columns</p>\n",
              "</div>\n",
              "      <button class=\"colab-df-convert\" onclick=\"convertToInteractive('df-eed0d82a-0266-40c3-b805-6f730ac32b31')\"\n",
              "              title=\"Convert this dataframe to an interactive table.\"\n",
              "              style=\"display:none;\">\n",
              "        \n",
              "  <svg xmlns=\"http://www.w3.org/2000/svg\" height=\"24px\"viewBox=\"0 0 24 24\"\n",
              "       width=\"24px\">\n",
              "    <path d=\"M0 0h24v24H0V0z\" fill=\"none\"/>\n",
              "    <path d=\"M18.56 5.44l.94 2.06.94-2.06 2.06-.94-2.06-.94-.94-2.06-.94 2.06-2.06.94zm-11 1L8.5 8.5l.94-2.06 2.06-.94-2.06-.94L8.5 2.5l-.94 2.06-2.06.94zm10 10l.94 2.06.94-2.06 2.06-.94-2.06-.94-.94-2.06-.94 2.06-2.06.94z\"/><path d=\"M17.41 7.96l-1.37-1.37c-.4-.4-.92-.59-1.43-.59-.52 0-1.04.2-1.43.59L10.3 9.45l-7.72 7.72c-.78.78-.78 2.05 0 2.83L4 21.41c.39.39.9.59 1.41.59.51 0 1.02-.2 1.41-.59l7.78-7.78 2.81-2.81c.8-.78.8-2.07 0-2.86zM5.41 20L4 18.59l7.72-7.72 1.47 1.35L5.41 20z\"/>\n",
              "  </svg>\n",
              "      </button>\n",
              "      \n",
              "  <style>\n",
              "    .colab-df-container {\n",
              "      display:flex;\n",
              "      flex-wrap:wrap;\n",
              "      gap: 12px;\n",
              "    }\n",
              "\n",
              "    .colab-df-convert {\n",
              "      background-color: #E8F0FE;\n",
              "      border: none;\n",
              "      border-radius: 50%;\n",
              "      cursor: pointer;\n",
              "      display: none;\n",
              "      fill: #1967D2;\n",
              "      height: 32px;\n",
              "      padding: 0 0 0 0;\n",
              "      width: 32px;\n",
              "    }\n",
              "\n",
              "    .colab-df-convert:hover {\n",
              "      background-color: #E2EBFA;\n",
              "      box-shadow: 0px 1px 2px rgba(60, 64, 67, 0.3), 0px 1px 3px 1px rgba(60, 64, 67, 0.15);\n",
              "      fill: #174EA6;\n",
              "    }\n",
              "\n",
              "    [theme=dark] .colab-df-convert {\n",
              "      background-color: #3B4455;\n",
              "      fill: #D2E3FC;\n",
              "    }\n",
              "\n",
              "    [theme=dark] .colab-df-convert:hover {\n",
              "      background-color: #434B5C;\n",
              "      box-shadow: 0px 1px 3px 1px rgba(0, 0, 0, 0.15);\n",
              "      filter: drop-shadow(0px 1px 2px rgba(0, 0, 0, 0.3));\n",
              "      fill: #FFFFFF;\n",
              "    }\n",
              "  </style>\n",
              "\n",
              "      <script>\n",
              "        const buttonEl =\n",
              "          document.querySelector('#df-eed0d82a-0266-40c3-b805-6f730ac32b31 button.colab-df-convert');\n",
              "        buttonEl.style.display =\n",
              "          google.colab.kernel.accessAllowed ? 'block' : 'none';\n",
              "\n",
              "        async function convertToInteractive(key) {\n",
              "          const element = document.querySelector('#df-eed0d82a-0266-40c3-b805-6f730ac32b31');\n",
              "          const dataTable =\n",
              "            await google.colab.kernel.invokeFunction('convertToInteractive',\n",
              "                                                     [key], {});\n",
              "          if (!dataTable) return;\n",
              "\n",
              "          const docLinkHtml = 'Like what you see? Visit the ' +\n",
              "            '<a target=\"_blank\" href=https://colab.research.google.com/notebooks/data_table.ipynb>data table notebook</a>'\n",
              "            + ' to learn more about interactive tables.';\n",
              "          element.innerHTML = '';\n",
              "          dataTable['output_type'] = 'display_data';\n",
              "          await google.colab.output.renderOutput(dataTable, element);\n",
              "          const docLink = document.createElement('div');\n",
              "          docLink.innerHTML = docLinkHtml;\n",
              "          element.appendChild(docLink);\n",
              "        }\n",
              "      </script>\n",
              "    </div>\n",
              "  </div>\n",
              "  "
            ]
          },
          "metadata": {},
          "execution_count": 48
        }
      ]
    },
    {
      "cell_type": "markdown",
      "metadata": {
        "id": "6_6mkH3F8sZt"
      },
      "source": [
        "## Exploratory Data Analysis (EDA) / Plots"
      ]
    },
    {
      "cell_type": "code",
      "source": [
        "import matplotlib.pyplot as plt\n",
        "\n",
        "# Scatter plots of the following: Life expectancy vs. GDP, Life expectancy vs. Carbon footprint, GDP vs. Life expectancy\n",
        "# Life Expectancy vs GDP\n",
        "plt.scatter(scaled_tidy_data['Per Capita GDP'], scaled_tidy_data['Life Expectancy'])\n",
        "plt.xlabel(\"Per Capita GDP\")\n",
        "plt.ylabel(\"Life Expectancy\")\n",
        "plt.show()"
      ],
      "metadata": {
        "id": "fiYgy18IixJo",
        "colab": {
          "base_uri": "https://localhost:8080/",
          "height": 279
        },
        "outputId": "2beeed08-b153-4f73-cf64-dc5e988225d6"
      },
      "execution_count": 49,
      "outputs": [
        {
          "output_type": "display_data",
          "data": {
            "text/plain": [
              "<Figure size 432x288 with 1 Axes>"
            ],
            "image/png": "[encoded data removed]"
          },
          "metadata": {
            "needs_background": "light"
          }
        }
      ]
    },
    {
      "cell_type": "markdown",
      "source": [
        "* Logistic graph behavior\n",
        "* It can be seen that as \"Per Capita GDP\" increases, the life expectancy also increases. This makes sense because a person with more financial capability (high Per Capita GDP) can afford a healthier lifestyle (e.g.,  buying healthy foods, regular medical check-ups and like). Also, a high Per Capita GDP usually indicates a developed nation and these said nations are trivially known to have a better quality of living compared to developing nations. Hence, a higher life expectancy."
      ],
      "metadata": {
        "id": "g-5ePAXwAETx"
      }
    },
    {
      "cell_type": "code",
      "source": [
        "# Life Expectancy vs Carbon Footprint\n",
        "plt.scatter(scaled_tidy_data['Total Carbon Footprint'], scaled_tidy_data['Life Expectancy'])\n",
        "plt.xlabel(\"Total Carbon Footprint\")\n",
        "plt.ylabel(\"Life Expectancy\")\n",
        "plt.show()"
      ],
      "metadata": {
        "id": "nkL2yiu-k4ma",
        "colab": {
          "base_uri": "https://localhost:8080/",
          "height": 279
        },
        "outputId": "092fc505-4e7a-40f5-a009-01260aff4c63"
      },
      "execution_count": 50,
      "outputs": [
        {
          "output_type": "display_data",
          "data": {
            "text/plain": [
              "<Figure size 432x288 with 1 Axes>"
            ],
            "image/png": "[encoded data removed]"
          },
          "metadata": {
            "needs_background": "light"
          }
        }
      ]
    },
    {
      "cell_type": "markdown",
      "source": [
        "* Logistic graph behavior (weak).\n",
        "* It looks unintuitve because it shows that a higer \"Total Carbon Footprint\" means a higher \"Life Expectancy\"\n",
        "* Although, take note that a high carbon footprint is also an indicator for an industrialized nation and high economic activity (ecological production and consumption) (as shown in the next graph). This implies that developed/rich nations that have a high GDP (and most probably, they also have a high Per Capita GDP) also have a high life expectancy because they can generally afford a healthier lifestyle (that is not feasible on developing/poorer nations) (just like in the previous graph).\n",
        "* High carbon footprint is bad for the health (e.g., air pollution induced lung diseases,and the like). But the graph still generally shows a higher life expectancy when the carbon footprint is high. Maybe the benefits (e.g., more purchasing power, better quality of life) of being a developed and industrialized nation far outweights its drawbacks (e.g., air polution)."
      ],
      "metadata": {
        "id": "v8Hou2WABUp-"
      }
    },
    {
      "cell_type": "code",
      "source": [
        "# GDP vs Carbon Footprint\n",
        "plt.scatter(scaled_tidy_data['Per Capita GDP'], scaled_tidy_data['Total Carbon Footprint'])\n",
        "plt.xlabel(\"Per Capita GDP\")\n",
        "plt.ylabel(\"Total Carbon Footprint\")\n",
        "plt.show()"
      ],
      "metadata": {
        "id": "uDbgCWm6lIdN",
        "colab": {
          "base_uri": "https://localhost:8080/",
          "height": 279
        },
        "outputId": "e934d360-b860-4291-9c1d-fdbc27228992"
      },
      "execution_count": 51,
      "outputs": [
        {
          "output_type": "display_data",
          "data": {
            "text/plain": [
              "<Figure size 432x288 with 1 Axes>"
            ],
            "image/png": "[encoded data removed]"
          },
          "metadata": {
            "needs_background": "light"
          }
        }
      ]
    },
    {
      "cell_type": "markdown",
      "source": [
        "* A high \"Per Capita GDP\" is an indicator of an industrialized and developed nation.\n",
        "* Most of the industry burn fossil fuels in order to work. Thus, increasing the generated carbon footprint.\n",
        "* Although, there are also cases where the carbon footprint is low even if the per capita GDP is high. One example that came to mind is the developed countries that are pursuing clean and renewable sources of energy (e.g., Finland, Switzerland, and the like). Most of these renewable sources require a lot of capital investment. This just makes sense because richer/developed nations can afford them more, compared to developing nations."
      ],
      "metadata": {
        "id": "f3ScbKjjFbY0"
      }
    },
    {
      "cell_type": "code",
      "source": [
        "#Integrating using Scatter plot matrix\n",
        "from pandas.plotting import scatter_matrix\n",
        "\n",
        "scatter_matrix(scaled_tidy_data, alpha=0.2)"
      ],
      "metadata": {
        "id": "uTVvpvHK9NTk",
        "colab": {
          "base_uri": "https://localhost:8080/",
          "height": 458
        },
        "outputId": "c5fd92b2-fea3-4065-dba2-10125e241618"
      },
      "execution_count": 52,
      "outputs": [
        {
          "output_type": "execute_result",
          "data": {
            "text/plain": [
              "array([[<matplotlib.axes._subplots.AxesSubplot object at 0x7efd40507dd0>,\n",
              "        <matplotlib.axes._subplots.AxesSubplot object at 0x7efd40507b50>,\n",
              "        <matplotlib.axes._subplots.AxesSubplot object at 0x7efd404b9190>],\n",
              "       [<matplotlib.axes._subplots.AxesSubplot object at 0x7efd40479290>,\n",
              "        <matplotlib.axes._subplots.AxesSubplot object at 0x7efd403c4f50>,\n",
              "        <matplotlib.axes._subplots.AxesSubplot object at 0x7efd403ea3d0>],\n",
              "       [<matplotlib.axes._subplots.AxesSubplot object at 0x7efd403a94d0>,\n",
              "        <matplotlib.axes._subplots.AxesSubplot object at 0x7efd40361ad0>,\n",
              "        <matplotlib.axes._subplots.AxesSubplot object at 0x7efd403801d0>]],\n",
              "      dtype=object)"
            ]
          },
          "metadata": {},
          "execution_count": 52
        },
        {
          "output_type": "display_data",
          "data": {
            "text/plain": [
              "<Figure size 432x288 with 9 Axes>"
            ],
            "image/png": "[encoded data removed]"
          },
          "metadata": {
            "needs_background": "light"
          }
        }
      ]
    },
    {
      "cell_type": "markdown",
      "source": [
        "As seen in the scatter plot graphs, no strong relationship between GDP and Total Carbon Footprint can be observed (just somewhat weak relationship). However, there is natural logarithmic relationship between Per Capita GDP and Life Expectancy. The case is also the same between Total Carbon Footprint and Life Expectancy."
      ],
      "metadata": {
        "id": "pA1es4OV40bo"
      }
    },
    {
      "cell_type": "markdown",
      "metadata": {
        "id": "ZtcEHyFm82GS"
      },
      "source": [
        "## Modelling"
      ]
    },
    {
      "cell_type": "markdown",
      "source": [
        "### Using Linear Regression"
      ],
      "metadata": {
        "id": "YSmT4GNJz21u"
      }
    },
    {
      "cell_type": "code",
      "source": [
        "# https://datatofish.com/multiple-linear-regression-python/\n",
        "\n",
        "from sklearn.preprocessing import PolynomialFeatures\n",
        "from sklearn.linear_model import LinearRegression\n",
        "from sklearn.model_selection import train_test_split\n",
        "from sklearn.pipeline import make_pipeline\n",
        "\n",
        "df = scaled_tidy_data\n",
        "\n",
        "feature_cols = ['Per Capita GDP', 'Total Carbon Footprint']\n",
        "X = df[feature_cols] # here we have 2 variables for multiple regression. If you just want to use one variable for simple linear regression, then use X = df['Interest_Rate'] for example.Alternatively, you may add additional variables within the brackets\n",
        "Y = df['Life Expectancy']"
      ],
      "metadata": {
        "id": "Ft8VVRVl0c4g"
      },
      "execution_count": 53,
      "outputs": []
    },
    {
      "cell_type": "code",
      "source": [
        "print(X)\n",
        "print(Y)"
      ],
      "metadata": {
        "colab": {
          "base_uri": "https://localhost:8080/"
        },
        "id": "B4OUp8X70gGr",
        "outputId": "7333b4b6-b35c-4baf-f318-63bf152bf6b7"
      },
      "execution_count": 54,
      "outputs": [
        {
          "output_type": "stream",
          "name": "stdout",
          "text": [
            "     Per Capita GDP  Total Carbon Footprint\n",
            "0         -0.810562               -0.806505\n",
            "1         -0.235298               -0.175820\n",
            "2         -0.272014                0.349750\n",
            "3         -0.467920               -0.753948\n",
            "4          1.059914               -0.964176\n",
            "..              ...                     ...\n",
            "134        0.993543               -0.333491\n",
            "135       -0.573832                0.349750\n",
            "136       -0.515292               -0.964176\n",
            "137       -0.630447                0.139522\n",
            "138       -0.801833               -0.806505\n",
            "\n",
            "[139 rows x 2 columns]\n",
            "0     -0.977251\n",
            "1      1.001657\n",
            "2      0.860306\n",
            "3     -1.401303\n",
            "4      0.860306\n",
            "         ...   \n",
            "134    1.001657\n",
            "135    0.153553\n",
            "136   -0.129148\n",
            "137    0.577605\n",
            "138   -0.694550\n",
            "Name: Life Expectancy, Length: 139, dtype: float64\n"
          ]
        }
      ]
    },
    {
      "cell_type": "code",
      "source": [
        "from sklearn.model_selection import train_test_split\n",
        "X_train, X_test, Y_train, Y_test = train_test_split(X, Y, random_state=0, train_size=0.8)"
      ],
      "metadata": {
        "id": "AiItodom0nSN"
      },
      "execution_count": 55,
      "outputs": []
    },
    {
      "cell_type": "code",
      "source": [
        "model = LinearRegression()\n",
        "model.fit(X_train, Y_train)"
      ],
      "metadata": {
        "colab": {
          "base_uri": "https://localhost:8080/"
        },
        "id": "mcwjemK62F8d",
        "outputId": "6ab5321f-0593-4be9-e691-bfd0fb334128"
      },
      "execution_count": 56,
      "outputs": [
        {
          "output_type": "execute_result",
          "data": {
            "text/plain": [
              "LinearRegression()"
            ]
          },
          "metadata": {},
          "execution_count": 56
        }
      ]
    },
    {
      "cell_type": "code",
      "source": [
        "zip(feature_cols, model.coef_)"
      ],
      "metadata": {
        "colab": {
          "base_uri": "https://localhost:8080/"
        },
        "id": "kRpfABxR0pgN",
        "outputId": "db61f0a2-4815-490f-8da1-20d875ebad2e"
      },
      "execution_count": 57,
      "outputs": [
        {
          "output_type": "execute_result",
          "data": {
            "text/plain": [
              "<zip at 0x7efd3fcb4cd0>"
            ]
          },
          "metadata": {},
          "execution_count": 57
        }
      ]
    },
    {
      "cell_type": "code",
      "source": [
        "model.coef_"
      ],
      "metadata": {
        "colab": {
          "base_uri": "https://localhost:8080/"
        },
        "id": "Rf2Q6QgJ2JUW",
        "outputId": "d807dda5-bedb-4399-b0d9-2541690b716e"
      },
      "execution_count": 58,
      "outputs": [
        {
          "output_type": "execute_result",
          "data": {
            "text/plain": [
              "array([0.53463147, 0.22096338])"
            ]
          },
          "metadata": {},
          "execution_count": 58
        }
      ]
    },
    {
      "cell_type": "code",
      "source": [
        "import seaborn as sns\n",
        "sns.pairplot(df, x_vars=feature_cols, y_vars='Life Expectancy', kind='reg')"
      ],
      "metadata": {
        "colab": {
          "base_uri": "https://localhost:8080/",
          "height": 214
        },
        "id": "9_Qe5IAL2Ont",
        "outputId": "c106c1a4-f613-48ff-aee9-319fb494aa04"
      },
      "execution_count": 59,
      "outputs": [
        {
          "output_type": "execute_result",
          "data": {
            "text/plain": [
              "<seaborn.axisgrid.PairGrid at 0x7efd3fcbbdd0>"
            ]
          },
          "metadata": {},
          "execution_count": 59
        },
        {
          "output_type": "display_data",
          "data": {
            "text/plain": [
              "<Figure size 360x180 with 2 Axes>"
            ],
            "image/png": "[encoded data removed]"
          },
          "metadata": {
            "needs_background": "light"
          }
        }
      ]
    },
    {
      "cell_type": "code",
      "source": [
        "Y_pred = model.predict(X_test)"
      ],
      "metadata": {
        "id": "xcyz3q-12gcY"
      },
      "execution_count": 60,
      "outputs": []
    },
    {
      "cell_type": "code",
      "source": [
        "# See Metrics\n",
        "from sklearn.metrics import r2_score, mean_absolute_error, mean_squared_error\n",
        "\n",
        "r2 = r2_score(Y_test, Y_pred)\n",
        "MAE = mean_absolute_error(Y_test, Y_pred)\n",
        "MSE = mean_squared_error(Y_test, Y_pred)\n",
        "print('Coefficients: \\n', model.coef_)\n",
        "print('R^2 Score: \\n', r2)  # The larger teh better.\n",
        "print('Mean Absolute Error: \\n', MAE)  # The smaller the better.\n",
        "print('Mean Squared Error: \\n', MSE)  # The smaller the better."
      ],
      "metadata": {
        "colab": {
          "base_uri": "https://localhost:8080/"
        },
        "id": "8pPw6fHL2WIu",
        "outputId": "8e882ced-7194-4457-cfb4-633ab06ff42e"
      },
      "execution_count": 61,
      "outputs": [
        {
          "output_type": "stream",
          "name": "stdout",
          "text": [
            "Coefficients: \n",
            " [0.53463147 0.22096338]\n",
            "R^2 Score: \n",
            " 0.26436683164924846\n",
            "Mean Absolute Error: \n",
            " 0.7818826467345978\n",
            "Mean Squared Error: \n",
            " 0.8141419086500045\n"
          ]
        }
      ]
    },
    {
      "cell_type": "markdown",
      "source": [
        "### Using Polynomial Regression (Better Results)"
      ],
      "metadata": {
        "id": "fH9PRmp10ABY"
      }
    },
    {
      "cell_type": "code",
      "execution_count": 62,
      "metadata": {
        "id": "7kSI9bRxA_4A"
      },
      "outputs": [],
      "source": [
        "# https://datatofish.com/multiple-linear-regression-python/\n",
        "\n",
        "from sklearn.preprocessing import PolynomialFeatures\n",
        "from sklearn.linear_model import LinearRegression\n",
        "from sklearn.model_selection import train_test_split\n",
        "from sklearn.pipeline import make_pipeline\n",
        "\n",
        "df = scaled_tidy_data\n",
        "\n",
        "X = df[['Per Capita GDP', 'Total Carbon Footprint']] # here we have 2 variables for multiple regression. If you just want to use one variable for simple linear regression, then use X = df['Interest_Rate'] for example.Alternatively, you may add additional variables within the brackets\n",
        "Y = df['Life Expectancy']"
      ]
    },
    {
      "cell_type": "code",
      "source": [
        "# Using Grid Search to find best parameters\n",
        "from sklearn.model_selection import GridSearchCV\n",
        "\n",
        "estimator = make_pipeline(PolynomialFeatures(degree=2),LinearRegression())\n",
        "\n",
        "param_grid = {\n",
        "    'polynomialfeatures__degree': np.arange(10),\n",
        "    'linearregression__fit_intercept': [True, False],\n",
        "}\n",
        "grid = GridSearchCV(estimator, param_grid, cv=7)\n",
        "grid.fit(X, Y);\n",
        "grid.best_params_"
      ],
      "metadata": {
        "colab": {
          "base_uri": "https://localhost:8080/"
        },
        "id": "poF5Cah8k5p4",
        "outputId": "d48dc136-1007-4654-c5c9-c4b5c909d167"
      },
      "execution_count": 63,
      "outputs": [
        {
          "output_type": "stream",
          "name": "stderr",
          "text": [
            "/usr/local/lib/python3.7/dist-packages/sklearn/model_selection/_validation.py:372: FitFailedWarning: \n",
            "14 fits failed out of a total of 140.\n",
            "The score on these train-test partitions for these parameters will be set to nan.\n",
            "If these failures are not expected, you can try to debug them by setting error_score='raise'.\n",
            "\n",
            "Below are more details about the failures:\n",
            "--------------------------------------------------------------------------------\n",
            "12 fits failed with the following error:\n",
            "Traceback (most recent call last):\n",
            "  File \"/usr/local/lib/python3.7/dist-packages/sklearn/model_selection/_validation.py\", line 680, in _fit_and_score\n",
            "    estimator.fit(X_train, y_train, **fit_params)\n",
            "  File \"/usr/local/lib/python3.7/dist-packages/sklearn/pipeline.py\", line 390, in fit\n",
            "    Xt = self._fit(X, y, **fit_params_steps)\n",
            "  File \"/usr/local/lib/python3.7/dist-packages/sklearn/pipeline.py\", line 355, in _fit\n",
            "    **fit_params_steps[name],\n",
            "  File \"/usr/local/lib/python3.7/dist-packages/joblib/memory.py\", line 349, in __call__\n",
            "    return self.func(*args, **kwargs)\n",
            "  File \"/usr/local/lib/python3.7/dist-packages/sklearn/pipeline.py\", line 893, in _fit_transform_one\n",
            "    res = transformer.fit_transform(X, y, **fit_params)\n",
            "  File \"/usr/local/lib/python3.7/dist-packages/sklearn/base.py\", line 855, in fit_transform\n",
            "    return self.fit(X, y, **fit_params).transform(X)\n",
            "  File \"/usr/local/lib/python3.7/dist-packages/sklearn/preprocessing/_polynomial.py\", line 446, in transform\n",
            "    XP[:, current_col : current_col + n_features] = X\n",
            "ValueError: could not broadcast input array from shape (119,2) into shape (119,0)\n",
            "\n",
            "--------------------------------------------------------------------------------\n",
            "2 fits failed with the following error:\n",
            "Traceback (most recent call last):\n",
            "  File \"/usr/local/lib/python3.7/dist-packages/sklearn/model_selection/_validation.py\", line 680, in _fit_and_score\n",
            "    estimator.fit(X_train, y_train, **fit_params)\n",
            "  File \"/usr/local/lib/python3.7/dist-packages/sklearn/pipeline.py\", line 390, in fit\n",
            "    Xt = self._fit(X, y, **fit_params_steps)\n",
            "  File \"/usr/local/lib/python3.7/dist-packages/sklearn/pipeline.py\", line 355, in _fit\n",
            "    **fit_params_steps[name],\n",
            "  File \"/usr/local/lib/python3.7/dist-packages/joblib/memory.py\", line 349, in __call__\n",
            "    return self.func(*args, **kwargs)\n",
            "  File \"/usr/local/lib/python3.7/dist-packages/sklearn/pipeline.py\", line 893, in _fit_transform_one\n",
            "    res = transformer.fit_transform(X, y, **fit_params)\n",
            "  File \"/usr/local/lib/python3.7/dist-packages/sklearn/base.py\", line 855, in fit_transform\n",
            "    return self.fit(X, y, **fit_params).transform(X)\n",
            "  File \"/usr/local/lib/python3.7/dist-packages/sklearn/preprocessing/_polynomial.py\", line 446, in transform\n",
            "    XP[:, current_col : current_col + n_features] = X\n",
            "ValueError: could not broadcast input array from shape (120,2) into shape (120,0)\n",
            "\n",
            "  warnings.warn(some_fits_failed_message, FitFailedWarning)\n",
            "/usr/local/lib/python3.7/dist-packages/sklearn/model_selection/_search.py:972: UserWarning: One or more of the test scores are non-finite: [            nan  3.33543960e-01  4.23406190e-01  4.44021123e-01\n",
            " -1.48807229e-01 -3.91890550e+00 -6.81534697e+01 -6.56518370e+02\n",
            " -1.22694203e+06 -9.46770741e+08             nan  3.33543960e-01\n",
            "  4.23406190e-01  4.44021123e-01 -1.48807229e-01 -3.91890550e+00\n",
            " -2.19846823e+02 -4.15902676e+02 -1.08512651e+06 -9.68767941e+08]\n",
            "  category=UserWarning,\n"
          ]
        },
        {
          "output_type": "execute_result",
          "data": {
            "text/plain": [
              "{'linearregression__fit_intercept': False, 'polynomialfeatures__degree': 3}"
            ]
          },
          "metadata": {},
          "execution_count": 63
        }
      ]
    },
    {
      "cell_type": "code",
      "source": [
        "# Split the data with 50% in each set\n",
        "X_train, X_test, Y_train, Y_test = train_test_split(X, Y, random_state=0, train_size=0.8)\n",
        "\n",
        "# We've manually inputted the parameters based on the GridSearch\n",
        "model = make_pipeline(PolynomialFeatures(degree=3),LinearRegression(fit_intercept=False))\n",
        "\n",
        "model.fit(X_train, Y_train)\n",
        "\n",
        "# evaluate the model on the second set of data\n",
        "Y_pred = model.predict(X_test)\n",
        "\n",
        "print(X_train)\n",
        "print(Y_train)"
      ],
      "metadata": {
        "id": "6dFi082Dk_lh",
        "colab": {
          "base_uri": "https://localhost:8080/"
        },
        "outputId": "fb6d07c2-8700-4fdf-97a7-d0efe04181c8"
      },
      "execution_count": 64,
      "outputs": [
        {
          "output_type": "stream",
          "name": "stdout",
          "text": [
            "     Per Capita GDP  Total Carbon Footprint\n",
            "98         0.625995                0.192079\n",
            "44         1.674078                2.925045\n",
            "7         -0.139142                0.192079\n",
            "16        -0.100372                1.348334\n",
            "45        -0.271757               -0.491163\n",
            "..              ...                     ...\n",
            "9         -0.728785               -0.701391\n",
            "103        1.256462                2.136690\n",
            "67        -0.259818               -0.018149\n",
            "117        2.545897                2.031576\n",
            "47        -0.267521               -0.333491\n",
            "\n",
            "[111 rows x 2 columns]\n",
            "98     1.001657\n",
            "44     1.001657\n",
            "7      0.294904\n",
            "16     0.860306\n",
            "45    -1.684004\n",
            "         ...   \n",
            "9      0.153553\n",
            "103    1.001657\n",
            "67     0.436255\n",
            "117    1.425708\n",
            "47    -0.553199\n",
            "Name: Life Expectancy, Length: 111, dtype: float64\n"
          ]
        }
      ]
    },
    {
      "cell_type": "code",
      "execution_count": 65,
      "metadata": {
        "colab": {
          "base_uri": "https://localhost:8080/"
        },
        "id": "WTuuqUs7Lkft",
        "outputId": "365a0f9e-0f54-47da-9ec2-4e493a9a6d3a"
      },
      "outputs": [
        {
          "output_type": "stream",
          "name": "stdout",
          "text": [
            "Coefficients: \n",
            " [ 0.29528947  0.66962351  0.29341191 -0.12209308 -0.49112341 -0.02285359\n",
            " -0.00368203  0.10886452  0.09507615 -0.02656232]\n",
            "R^2 Score: \n",
            " 0.4502492837313413\n",
            "Mean Absolute Error: \n",
            " 0.6545961832969265\n",
            "Mean Squared Error: \n",
            " 0.6084215838555938\n"
          ]
        }
      ],
      "source": [
        "# See Metrics\n",
        "from sklearn.metrics import r2_score, mean_absolute_error, mean_squared_error\n",
        "\n",
        "r2 = r2_score(Y_test, Y_pred)\n",
        "MAE = mean_absolute_error(Y_test, Y_pred)\n",
        "MSE = mean_squared_error(Y_test, Y_pred)\n",
        "print('Coefficients: \\n', model.named_steps['linearregression'].coef_)\n",
        "print('R^2 Score: \\n', r2)  # The larger teh better.\n",
        "print('Mean Absolute Error: \\n', MAE)  # The smaller the better.\n",
        "print('Mean Squared Error: \\n', MSE)  # The smaller the better."
      ]
    },
    {
      "cell_type": "markdown",
      "source": [
        "We have the coefficients here as generated by PolynomialFeatures:\n",
        "\n",
        "[ 0.29528947  0.66962351  0.29341191 -0.12209308 -0.49112341 -0.02285359\n",
        " -0.00368203  0.10886452  0.09507615 -0.02656232]\n",
        "\n",
        "The polynomial equation is arranged like this for degree 3:\n",
        "\n",
        "['1', 'x', 'y', 'x^2', 'x y', 'y^2', 'x^3', 'x^2 y', 'x y^2', 'y^3']\n",
        "\n",
        "  Let x = Per Capita GDP, y = Total Carbon Footprint\n",
        "\n",
        "  The equation is then:\n",
        "\n",
        "  Life Expectancy = \n",
        "  \n",
        "  0.29528947\n",
        "\n",
        "  \\+ 0.66962351 x\n",
        "  \n",
        "  \\+ 0.29341191 y\n",
        "\n",
        "  ...\n",
        "\n",
        "  \\- 0.02656232 y^3\n",
        "\n",
        "  "
      ],
      "metadata": {
        "id": "8prQygYI4SgH"
      }
    },
    {
      "cell_type": "markdown",
      "source": [
        "3D graph of the Polynomial Regression Model\n",
        "\n",
        "[Using Geogebra 3D](https://drive.google.com/file/d/1zV47hGiIue4dqmEXLxRyM7BZZYX6fr3D/view?usp=sharing)\n",
        "<a href=\"https://drive.google.com/uc?export=view&id=1zV47hGiIue4dqmEXLxRyM7BZZYX6fr3D\"><img src=\"https://drive.google.com/uc?export=view&id=1zV47hGiIue4dqmEXLxRyM7BZZYX6fr3D\" style=\"width: 650px; max-width: 100%; height: auto\" title=\"Click to enlarge picture\" />"
      ],
      "metadata": {
        "id": "gR6rnrKJ6fZQ"
      }
    },
    {
      "cell_type": "markdown",
      "source": [
        "[Equation of the graph (PolyReg model)](https://drive.google.com/file/d/1zYceTKGpEgoxf37btboC2MtkUia4hUKj/view?usp=sharing)\n",
        "<a href=\"https://drive.google.com/uc?export=view&id=1zYceTKGpEgoxf37btboC2MtkUia4hUKj\"><img src=\"https://drive.google.com/uc?export=view&id=1zYceTKGpEgoxf37btboC2MtkUia4hUKj\" style=\"width: 650px; max-width: 100%; height: auto\" title=\"Click to enlarge picture\" />"
      ],
      "metadata": {
        "id": "bum96QdD7HUf"
      }
    },
    {
      "cell_type": "markdown",
      "source": [
        "Actual Geogebra link: https://www.geogebra.org/3d/sqravdbc"
      ],
      "metadata": {
        "id": "6PpKMxmV7nxp"
      }
    },
    {
      "cell_type": "code",
      "source": [
        "# Sample usage of the polynomial model.\n",
        "coeffs = [ 0.29528947,  0.66962351,  0.29341191, -0.12209308, -0.49112341, -0.02285359,\n",
        " -0.00368203,  0.10886452,  0.09507615, -0.02656232]\n",
        "\n",
        "order = ['1', 'x', 'y', 'x^2', 'x y', 'y^2', 'x^3', 'x^2 y', 'x y^2', 'y^3']\n",
        "\n",
        "def eval(a, b):\n",
        "  zero = coeffs[0]\n",
        "  one = coeffs[1] * a\n",
        "  two = coeffs[2]*b\n",
        "  three = coeffs[3] * a**2 \n",
        "  four = coeffs[4] * a * b\n",
        "  five = coeffs[5] * b**2\n",
        "  six = coeffs[6] * a **3\n",
        "  seven = coeffs[7] * (a**2) * b\n",
        "  eight = coeffs[8] * a * (b**2)\n",
        "  nine = coeffs[9] * b**3\n",
        "\n",
        "  return zero + one + two + three + four + five + six + seven + eight + nine\n",
        "\n",
        "print(eval(0.625995, 0.192079))\n"
      ],
      "metadata": {
        "colab": {
          "base_uri": "https://localhost:8080/"
        },
        "id": "GGxO6si8Bbmy",
        "outputId": "83f7af2e-a9a5-418a-f00e-a9976fac16c3"
      },
      "execution_count": 66,
      "outputs": [
        {
          "output_type": "stream",
          "name": "stdout",
          "text": [
            "0.6723866364166313\n"
          ]
        }
      ]
    },
    {
      "cell_type": "code",
      "source": [
        "# Plot output\n",
        "import matplotlib.pyplot as plt\n",
        "import statsmodels.api as sm\n",
        "\n",
        "display = X_test\n",
        "display['Life Expectancy'] = Y_test\n",
        "display['Life Expectancy Pred'] = Y_pred\n",
        "display = display.sort_values(by=['Per Capita GDP'])\n",
        "\n",
        "fig = plt.figure()\n",
        "ax = plt.subplot(projection='3d')\n",
        "ax.scatter(display['Per Capita GDP'], display['Total Carbon Footprint'], display['Life Expectancy'])\n",
        "ax.plot(display['Per Capita GDP'], display['Total Carbon Footprint'], display['Life Expectancy Pred'])\n",
        "ax.set_xlabel('Per Capita GDP')\n",
        "ax.set_ylabel('Total Carbon Footprint')\n",
        "ax.set_zlabel('Life Expectancy')\n",
        "fig.set_dpi(150)"
      ],
      "metadata": {
        "colab": {
          "base_uri": "https://localhost:8080/",
          "height": 535
        },
        "id": "i-q6Gg8Am8J2",
        "outputId": "9d4a576d-6295-4b80-b440-e11ff6d789db"
      },
      "execution_count": 67,
      "outputs": [
        {
          "output_type": "stream",
          "name": "stderr",
          "text": [
            "/usr/local/lib/python3.7/dist-packages/statsmodels/tools/_testing.py:19: FutureWarning: pandas.util.testing is deprecated. Use the functions in the public API at pandas.testing instead.\n",
            "  import pandas.util.testing as tm\n"
          ]
        },
        {
          "output_type": "display_data",
          "data": {
            "text/plain": [
              "<Figure size 900x600 with 1 Axes>"
            ],
            "image/png": "[encoded data removed]"
          },
          "metadata": {
            "needs_background": "light"
          }
        }
      ]
    },
    {
      "cell_type": "markdown",
      "source": [
        "### Some Realizations and Recommendations"
      ],
      "metadata": {
        "id": "WrO5yOGD0Ogm"
      }
    },
    {
      "cell_type": "markdown",
      "source": [
        "* The Polynomial Regression model has better results (metrics) thatn the Linear Regression model.\n",
        "* The metrics that describe the fitness of the model are not that great.\n",
        "* It is recommended to add more relevant features (but not that much, just enough) to better fit the curve. Our suggestions are the following: population density, demographic data, and the like.\n",
        "* Additional data points is also greatly recommended. In our case we only used 2018 related data. Data on previous years (e.g., 2016, 2017, etc.) would be beneficial. The group did tried to gather more related data but finding all of the needed 3 columns (Life expectancy, Per Capita GDP, and Total Carbon Footprint) data for a specific year proved to be challenging. Most of the instances, we can only find 2 out of those 3 columns (given a specific year).\n",
        "\n"
      ],
      "metadata": {
        "id": "buNIBU6uxppu"
      }
    },
    {
      "cell_type": "markdown",
      "metadata": {
        "id": "l3zw9A2CggQV"
      },
      "source": [
        "## References\n",
        "* [1] Kopf, D. (2018, February 22). GDP per capita is far more important that GDP for measuring economic development. Quartz. Retrieved June 1, 2022, from https://qz.com/1194634/the-world-bank-wont-stop-reporting-gdp-instead-of-gdp-per-capita-and-it-is-driving-me-crazy/\n",
        "\n"
      ]
    }
  ],
  "metadata": {
    "colab": {
      "collapsed_sections": [
        "CfPgsBf69Zca",
        "tmdUnEl69Idb",
        "L3oMMj-9LyvY",
        "RwhtexprK3TX",
        "wZ95SEwMXUVL",
        "ZNpsOaSJXXsS",
        "R8qyQgbmtChg"
      ],
      "name": "LifeExpectancyPredictor.ipynb",
      "provenance": [],
      "toc_visible": true,
      "include_colab_link": true
    },
    "kernelspec": {
      "display_name": "Python 3",
      "name": "python3"
    },
    "language_info": {
      "name": "python"
    }
  },
  "nbformat": 4,
  "nbformat_minor": 0
}